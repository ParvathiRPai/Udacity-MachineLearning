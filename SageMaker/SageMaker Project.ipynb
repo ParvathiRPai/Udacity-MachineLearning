{
 "cells": [
  {
   "cell_type": "markdown",
   "metadata": {},
   "source": [
    "# Creating a Sentiment Analysis Web App\n",
    "## Using PyTorch and SageMaker\n",
    "\n",
    "_Deep Learning Nanodegree Program | Deployment_\n",
    "\n",
    "---\n",
    "\n",
    "Now that we have a basic understanding of how SageMaker works we will try to use it to construct a complete project from end to end. Our goal will be to have a simple web page which a user can use to enter a movie review. The web page will then send the review off to our deployed model which will predict the sentiment of the entered review.\n",
    "\n",
    "## Instructions\n",
    "\n",
    "Some template code has already been provided for you, and you will need to implement additional functionality to successfully complete this notebook. You will not need to modify the included code beyond what is requested. Sections that begin with '**TODO**' in the header indicate that you need to complete or implement some portion within them. Instructions will be provided for each section and the specifics of the implementation are marked in the code block with a `# TODO: ...` comment. Please be sure to read the instructions carefully!\n",
    "\n",
    "In addition to implementing code, there will be questions for you to answer which relate to the task and your implementation. Each section where you will answer a question is preceded by a '**Question:**' header. Carefully read each question and provide your answer below the '**Answer:**' header by editing the Markdown cell.\n",
    "\n",
    "> **Note**: Code and Markdown cells can be executed using the **Shift+Enter** keyboard shortcut. In addition, a cell can be edited by typically clicking it (double-click for Markdown cells) or by pressing **Enter** while it is highlighted.\n",
    "\n",
    "## General Outline\n",
    "\n",
    "Recall the general outline for SageMaker projects using a notebook instance.\n",
    "\n",
    "1. Download or otherwise retrieve the data.\n",
    "2. Process / Prepare the data.\n",
    "3. Upload the processed data to S3.\n",
    "4. Train a chosen model.\n",
    "5. Test the trained model (typically using a batch transform job).\n",
    "6. Deploy the trained model.\n",
    "7. Use the deployed model.\n",
    "\n",
    "For this project, you will be following the steps in the general outline with some modifications. \n",
    "\n",
    "First, you will not be testing the model in its own step. You will still be testing the model, however, you will do it by deploying your model and then using the deployed model by sending the test data to it. One of the reasons for doing this is so that you can make sure that your deployed model is working correctly before moving forward.\n",
    "\n",
    "In addition, you will deploy and use your trained model a second time. In the second iteration you will customize the way that your trained model is deployed by including some of your own code. In addition, your newly deployed model will be used in the sentiment analysis web app."
   ]
  },
  {
   "cell_type": "markdown",
   "metadata": {},
   "source": [
    "## Step 1: Downloading the data\n",
    "\n",
    "As in the XGBoost in SageMaker notebook, we will be using the [IMDb dataset](http://ai.stanford.edu/~amaas/data/sentiment/)\n",
    "\n",
    "> Maas, Andrew L., et al. [Learning Word Vectors for Sentiment Analysis](http://ai.stanford.edu/~amaas/data/sentiment/). In _Proceedings of the 49th Annual Meeting of the Association for Computational Linguistics: Human Language Technologies_. Association for Computational Linguistics, 2011."
   ]
  },
  {
   "cell_type": "code",
   "execution_count": 1,
   "metadata": {},
   "outputs": [
    {
     "name": "stdout",
     "output_type": "stream",
     "text": [
      "mkdir: cannot create directory ‘../data’: File exists\n",
      "--2020-03-29 01:46:12--  http://ai.stanford.edu/~amaas/data/sentiment/aclImdb_v1.tar.gz\n",
      "Resolving ai.stanford.edu (ai.stanford.edu)... 171.64.68.10\n",
      "Connecting to ai.stanford.edu (ai.stanford.edu)|171.64.68.10|:80... connected.\n",
      "HTTP request sent, awaiting response... 200 OK\n",
      "Length: 84125825 (80M) [application/x-gzip]\n",
      "Saving to: ‘../data/aclImdb_v1.tar.gz’\n",
      "\n",
      "../data/aclImdb_v1. 100%[===================>]  80.23M  41.1MB/s    in 2.0s    \n",
      "\n",
      "2020-03-29 01:46:14 (41.1 MB/s) - ‘../data/aclImdb_v1.tar.gz’ saved [84125825/84125825]\n",
      "\n"
     ]
    }
   ],
   "source": [
    "%mkdir ../data\n",
    "!wget -O ../data/aclImdb_v1.tar.gz http://ai.stanford.edu/~amaas/data/sentiment/aclImdb_v1.tar.gz\n",
    "!tar -zxf ../data/aclImdb_v1.tar.gz -C ../data"
   ]
  },
  {
   "cell_type": "markdown",
   "metadata": {},
   "source": [
    "## Step 2: Preparing and Processing the data\n",
    "\n",
    "Also, as in the XGBoost notebook, we will be doing some initial data processing. The first few steps are the same as in the XGBoost example. To begin with, we will read in each of the reviews and combine them into a single input structure. Then, we will split the dataset into a training set and a testing set."
   ]
  },
  {
   "cell_type": "code",
   "execution_count": 2,
   "metadata": {},
   "outputs": [],
   "source": [
    "import os\n",
    "import glob\n",
    "\n",
    "def read_imdb_data(data_dir='../data/aclImdb'):\n",
    "    data = {}\n",
    "    labels = {}\n",
    "    \n",
    "    for data_type in ['train', 'test']:\n",
    "        data[data_type] = {}\n",
    "        labels[data_type] = {}\n",
    "        \n",
    "        for sentiment in ['pos', 'neg']:\n",
    "            data[data_type][sentiment] = []\n",
    "            labels[data_type][sentiment] = []\n",
    "            \n",
    "            path = os.path.join(data_dir, data_type, sentiment, '*.txt')\n",
    "            files = glob.glob(path)\n",
    "            \n",
    "            for f in files:\n",
    "                with open(f) as review:\n",
    "                    data[data_type][sentiment].append(review.read())\n",
    "                    # Here we represent a positive review by '1' and a negative review by '0'\n",
    "                    labels[data_type][sentiment].append(1 if sentiment == 'pos' else 0)\n",
    "                    \n",
    "            assert len(data[data_type][sentiment]) == len(labels[data_type][sentiment]), \\\n",
    "                    \"{}/{} data size does not match labels size\".format(data_type, sentiment)\n",
    "                \n",
    "    return data, labels"
   ]
  },
  {
   "cell_type": "code",
   "execution_count": 3,
   "metadata": {},
   "outputs": [
    {
     "name": "stdout",
     "output_type": "stream",
     "text": [
      "IMDB reviews: train = 12500 pos / 12500 neg, test = 12500 pos / 12500 neg\n"
     ]
    }
   ],
   "source": [
    "data, labels = read_imdb_data()\n",
    "print(\"IMDB reviews: train = {} pos / {} neg, test = {} pos / {} neg\".format(\n",
    "            len(data['train']['pos']), len(data['train']['neg']),\n",
    "            len(data['test']['pos']), len(data['test']['neg'])))"
   ]
  },
  {
   "cell_type": "markdown",
   "metadata": {},
   "source": [
    "Now that we've read the raw training and testing data from the downloaded dataset, we will combine the positive and negative reviews and shuffle the resulting records."
   ]
  },
  {
   "cell_type": "code",
   "execution_count": 4,
   "metadata": {},
   "outputs": [],
   "source": [
    "from sklearn.utils import shuffle\n",
    "\n",
    "def prepare_imdb_data(data, labels):\n",
    "    \"\"\"Prepare training and test sets from IMDb movie reviews.\"\"\"\n",
    "    \n",
    "    #Combine positive and negative reviews and labels\n",
    "    data_train = data['train']['pos'] + data['train']['neg']\n",
    "    data_test = data['test']['pos'] + data['test']['neg']\n",
    "    labels_train = labels['train']['pos'] + labels['train']['neg']\n",
    "    labels_test = labels['test']['pos'] + labels['test']['neg']\n",
    "    \n",
    "    #Shuffle reviews and corresponding labels within training and test sets\n",
    "    data_train, labels_train = shuffle(data_train, labels_train)\n",
    "    data_test, labels_test = shuffle(data_test, labels_test)\n",
    "    \n",
    "    # Return a unified training data, test data, training labels, test labets\n",
    "    return data_train, data_test, labels_train, labels_test"
   ]
  },
  {
   "cell_type": "code",
   "execution_count": 5,
   "metadata": {},
   "outputs": [
    {
     "name": "stdout",
     "output_type": "stream",
     "text": [
      "IMDb reviews (combined): train = 25000, test = 25000\n"
     ]
    }
   ],
   "source": [
    "train_X, test_X, train_y, test_y = prepare_imdb_data(data, labels)\n",
    "print(\"IMDb reviews (combined): train = {}, test = {}\".format(len(train_X), len(test_X)))"
   ]
  },
  {
   "cell_type": "markdown",
   "metadata": {},
   "source": [
    "Now that we have our training and testing sets unified and prepared, we should do a quick check and see an example of the data our model will be trained on. This is generally a good idea as it allows you to see how each of the further processing steps affects the reviews and it also ensures that the data has been loaded correctly."
   ]
  },
  {
   "cell_type": "code",
   "execution_count": 6,
   "metadata": {},
   "outputs": [
    {
     "name": "stdout",
     "output_type": "stream",
     "text": [
      "For those who are too young to know this or for those who have forgotten, the Disney company went almost down the tubes by the end of the 1980s. People were NOT seeing their movies anymore and the company was not producing the usual wholesome material....at least no what people expected. A major problem: profanity.<br /><br />Yes, the idiots running the Disney movies during that decade would produce films with swear words - including the Lord's name in vain, if you can believe that - interspersed in these \"family films.\" In fact that happens twice here in the first 20 minutes! <br /><br />This movie, in addition to the language problems, has a nasty tone to it, too, which made it unlikeable almost right from the beginning. Thankfully, Disney woke up and has produced a lot of great material since these decadent '80s movies. (\"Touchstone\" is Disney, just under another name.)\n",
      "0\n"
     ]
    }
   ],
   "source": [
    "print(train_X[100])\n",
    "print(train_y[100])"
   ]
  },
  {
   "cell_type": "markdown",
   "metadata": {},
   "source": [
    "The first step in processing the reviews is to make sure that any html tags that appear should be removed. In addition we wish to tokenize our input, that way words such as *entertained* and *entertaining* are considered the same with regard to sentiment analysis."
   ]
  },
  {
   "cell_type": "code",
   "execution_count": 7,
   "metadata": {},
   "outputs": [],
   "source": [
    "import nltk\n",
    "from nltk.corpus import stopwords\n",
    "from nltk.stem.porter import *\n",
    "\n",
    "import re\n",
    "from bs4 import BeautifulSoup\n",
    "\n",
    "def review_to_words(review):\n",
    "    nltk.download(\"stopwords\", quiet=True)\n",
    "    stemmer = PorterStemmer()\n",
    "    \n",
    "    text = BeautifulSoup(review, \"html.parser\").get_text() # Remove HTML tags\n",
    "    text = re.sub(r\"[^a-zA-Z0-9]\", \" \", text.lower()) # Convert to lower case\n",
    "    words = text.split() # Split string into words\n",
    "    words = [w for w in words if w not in stopwords.words(\"english\")] # Remove stopwords\n",
    "    words = [PorterStemmer().stem(w) for w in words] # stem\n",
    "    \n",
    "    return words"
   ]
  },
  {
   "cell_type": "markdown",
   "metadata": {},
   "source": [
    "The `review_to_words` method defined above uses `BeautifulSoup` to remove any html tags that appear and uses the `nltk` package to tokenize the reviews. As a check to ensure we know how everything is working, try applying `review_to_words` to one of the reviews in the training set."
   ]
  },
  {
   "cell_type": "code",
   "execution_count": 8,
   "metadata": {},
   "outputs": [
    {
     "data": {
      "text/plain": [
       "['young',\n",
       " 'know',\n",
       " 'forgotten',\n",
       " 'disney',\n",
       " 'compani',\n",
       " 'went',\n",
       " 'almost',\n",
       " 'tube',\n",
       " 'end',\n",
       " '1980',\n",
       " 'peopl',\n",
       " 'see',\n",
       " 'movi',\n",
       " 'anymor',\n",
       " 'compani',\n",
       " 'produc',\n",
       " 'usual',\n",
       " 'wholesom',\n",
       " 'materi',\n",
       " 'least',\n",
       " 'peopl',\n",
       " 'expect',\n",
       " 'major',\n",
       " 'problem',\n",
       " 'profan',\n",
       " 'ye',\n",
       " 'idiot',\n",
       " 'run',\n",
       " 'disney',\n",
       " 'movi',\n",
       " 'decad',\n",
       " 'would',\n",
       " 'produc',\n",
       " 'film',\n",
       " 'swear',\n",
       " 'word',\n",
       " 'includ',\n",
       " 'lord',\n",
       " 'name',\n",
       " 'vain',\n",
       " 'believ',\n",
       " 'interspers',\n",
       " 'famili',\n",
       " 'film',\n",
       " 'fact',\n",
       " 'happen',\n",
       " 'twice',\n",
       " 'first',\n",
       " '20',\n",
       " 'minut',\n",
       " 'movi',\n",
       " 'addit',\n",
       " 'languag',\n",
       " 'problem',\n",
       " 'nasti',\n",
       " 'tone',\n",
       " 'made',\n",
       " 'unlik',\n",
       " 'almost',\n",
       " 'right',\n",
       " 'begin',\n",
       " 'thank',\n",
       " 'disney',\n",
       " 'woke',\n",
       " 'produc',\n",
       " 'lot',\n",
       " 'great',\n",
       " 'materi',\n",
       " 'sinc',\n",
       " 'decad',\n",
       " '80',\n",
       " 'movi',\n",
       " 'touchston',\n",
       " 'disney',\n",
       " 'anoth',\n",
       " 'name']"
      ]
     },
     "execution_count": 8,
     "metadata": {},
     "output_type": "execute_result"
    }
   ],
   "source": [
    "# TODO: Apply review_to_words to a review (train_X[100] or any other review)\n",
    "review_to_words(train_X[100])"
   ]
  },
  {
   "cell_type": "markdown",
   "metadata": {},
   "source": [
    "**Question:** Above we mentioned that `review_to_words` method removes html formatting and allows us to tokenize the words found in a review, for example, converting *entertained* and *entertaining* into *entertain* so that they are treated as though they are the same word. What else, if anything, does this method do to the input?"
   ]
  },
  {
   "cell_type": "markdown",
   "metadata": {},
   "source": [
    "**Answer:**\n",
    "This method will reduce the Word token by converting multiple words which holds same information in to a single word. so that it will reduce the training cost too. Aditionally\n",
    "- Remove HTML and any XML tags.\n",
    "- Convert all the words to lower case and remove unnecessary characters by allowing only chracters and numbers.\n",
    "- finally it Removes stopwords.\n",
    "\n",
    "This method helps to identify relationship between words with in less epocs of training"
   ]
  },
  {
   "cell_type": "markdown",
   "metadata": {},
   "source": [
    "The method below applies the `review_to_words` method to each of the reviews in the training and testing datasets. In addition it caches the results. This is because performing this processing step can take a long time. This way if you are unable to complete the notebook in the current session, you can come back without needing to process the data a second time."
   ]
  },
  {
   "cell_type": "code",
   "execution_count": 9,
   "metadata": {},
   "outputs": [],
   "source": [
    "import pickle\n",
    "\n",
    "cache_dir = os.path.join(\"../cache\", \"sentiment_analysis\")  # where to store cache files\n",
    "os.makedirs(cache_dir, exist_ok=True)  # ensure cache directory exists\n",
    "\n",
    "def preprocess_data(data_train, data_test, labels_train, labels_test,\n",
    "                    cache_dir=cache_dir, cache_file=\"preprocessed_data.pkl\"):\n",
    "    \"\"\"Convert each review to words; read from cache if available.\"\"\"\n",
    "\n",
    "    # If cache_file is not None, try to read from it first\n",
    "    cache_data = None\n",
    "    print(cache_file)\n",
    "    if cache_file is not None:\n",
    "        try:\n",
    "            with open(os.path.join(cache_dir, cache_file), \"rb\") as f:\n",
    "                cache_data = pickle.load(f)\n",
    "            print(\"Read preprocessed data from cache file:\", cache_file)\n",
    "        except:\n",
    "            print(\"File not found\")\n",
    "            pass  # unable to read from cache, but that's okay\n",
    "    \n",
    "    # If cache is missing, then do the heavy lifting\n",
    "    if cache_data is None:\n",
    "        print('Preprocess training and test data to obtain words for each review')\n",
    "        # Preprocess training and test data to obtain words for each review\n",
    "        #words_train = list(map(review_to_words, data_train))\n",
    "        #words_test = list(map(review_to_words, data_test))\n",
    "        words_train = [review_to_words(review) for review in data_train]\n",
    "        words_test = [review_to_words(review) for review in data_test]\n",
    "        \n",
    "        # Write to cache file for future runs\n",
    "        print('Preprocess training and test data to obtain words for each review')\n",
    "        if cache_file is not None:\n",
    "            cache_data = dict(words_train=words_train, words_test=words_test,\n",
    "                              labels_train=labels_train, labels_test=labels_test)\n",
    "            with open(os.path.join(cache_dir, cache_file), \"wb\") as f:\n",
    "                pickle.dump(cache_data, f)\n",
    "            print(\"Wrote preprocessed data to cache file:\", cache_file)\n",
    "    else:\n",
    "        print('Unpack data loaded from cache file')\n",
    "        # Unpack data loaded from cache file\n",
    "        words_train, words_test, labels_train, labels_test = (cache_data['words_train'],\n",
    "                cache_data['words_test'], cache_data['labels_train'], cache_data['labels_test'])\n",
    "    \n",
    "    return words_train, words_test, labels_train, labels_test"
   ]
  },
  {
   "cell_type": "code",
   "execution_count": 10,
   "metadata": {},
   "outputs": [
    {
     "name": "stdout",
     "output_type": "stream",
     "text": [
      "preprocessed_data.pkl\n",
      "Read preprocessed data from cache file: preprocessed_data.pkl\n",
      "Unpack data loaded from cache file\n"
     ]
    }
   ],
   "source": [
    "# Preprocess data\n",
    "train_X, test_X, train_y, test_y = preprocess_data(train_X, test_X, train_y, test_y)"
   ]
  },
  {
   "cell_type": "markdown",
   "metadata": {},
   "source": [
    "## Transform the data\n",
    "\n",
    "In the XGBoost notebook we transformed the data from its word representation to a bag-of-words feature representation. For the model we are going to construct in this notebook we will construct a feature representation which is very similar. To start, we will represent each word as an integer. Of course, some of the words that appear in the reviews occur very infrequently and so likely don't contain much information for the purposes of sentiment analysis. The way we will deal with this problem is that we will fix the size of our working vocabulary and we will only include the words that appear most frequently. We will then combine all of the infrequent words into a single category and, in our case, we will label it as `1`.\n",
    "\n",
    "Since we will be using a recurrent neural network, it will be convenient if the length of each review is the same. To do this, we will fix a size for our reviews and then pad short reviews with the category 'no word' (which we will label `0`) and truncate long reviews."
   ]
  },
  {
   "cell_type": "markdown",
   "metadata": {},
   "source": [
    "### (TODO) Create a word dictionary\n",
    "\n",
    "To begin with, we need to construct a way to map words that appear in the reviews to integers. Here we fix the size of our vocabulary (including the 'no word' and 'infrequent' categories) to be `5000` but you may wish to change this to see how it affects the model.\n",
    "\n",
    "> **TODO:** Complete the implementation for the `build_dict()` method below. Note that even though the vocab_size is set to `5000`, we only want to construct a mapping for the most frequently appearing `4998` words. This is because we want to reserve the special labels `0` for 'no word' and `1` for 'infrequent word'."
   ]
  },
  {
   "cell_type": "code",
   "execution_count": 11,
   "metadata": {},
   "outputs": [],
   "source": [
    "import numpy as np\n",
    "import re\n",
    "from collections import Counter\n",
    "\n",
    "def build_dict(data, vocab_size = 5000):\n",
    "    \"\"\"Construct and return a dictionary mapping each of the most frequently appearing words to a unique integer.\"\"\"\n",
    "    \n",
    "    # TODO: Determine how often each word appears in `data`. Note that `data` is a list of sentences and that a\n",
    "    #       sentence is a list of words.\n",
    "    # print(np.concatenate( data[0:5], axis=0 ))\n",
    "    word_counts = Counter(np.concatenate( data, axis=0 ))\n",
    "    # print(word_counts)\n",
    "    # word_count = {} # A dict storing the words that appear in the reviews along with how often they occur\n",
    "    \n",
    "    # TODO: Sort the words found in `data` so that sorted_words[0] is the most frequently appearing word and\n",
    "    #       sorted_words[-1] is the least frequently appearing word.\n",
    "    \n",
    "    sorted_words = sorted(word_counts, key=word_counts.get, reverse=True)\n",
    "    # print(sorted_words[-1])\n",
    "    \n",
    "    word_dict = {} # This is what we are building, a dictionary that translates words into integers\n",
    "    for idx, word in enumerate(sorted_words[:vocab_size - 2]): # The -2 is so that we save room for the 'no word'\n",
    "        word_dict[word] = idx + 2                              # 'infrequent' labels\n",
    "        \n",
    "    return word_dict"
   ]
  },
  {
   "cell_type": "code",
   "execution_count": 12,
   "metadata": {},
   "outputs": [
    {
     "name": "stdout",
     "output_type": "stream",
     "text": [
      "{'movi': 2, 'film': 3, 'one': 4, 'like': 5, 'time': 6, 'good': 7, 'make': 8, 'charact': 9, 'get': 10, 'see': 11, 'watch': 12, 'stori': 13, 'even': 14, 'would': 15, 'realli': 16, 'well': 17, 'scene': 18, 'look': 19, 'show': 20, 'much': 21, 'end': 22, 'peopl': 23, 'bad': 24, 'go': 25, 'great': 26, 'also': 27, 'first': 28, 'love': 29, 'think': 30, 'way': 31, 'act': 32, 'play': 33, 'made': 34, 'thing': 35, 'could': 36, 'know': 37, 'say': 38, 'seem': 39, 'work': 40, 'plot': 41, 'two': 42, 'actor': 43, 'year': 44, 'come': 45, 'mani': 46, 'seen': 47, 'take': 48, 'want': 49, 'life': 50, 'never': 51, 'littl': 52, 'best': 53, 'tri': 54, 'man': 55, 'ever': 56, 'give': 57, 'better': 58, 'still': 59, 'perform': 60, 'find': 61, 'feel': 62, 'part': 63, 'back': 64, 'use': 65, 'someth': 66, 'director': 67, 'actual': 68, 'interest': 69, 'lot': 70, 'real': 71, 'old': 72, 'cast': 73, 'though': 74, 'live': 75, 'star': 76, 'enjoy': 77, 'guy': 78, 'anoth': 79, 'new': 80, 'role': 81, 'noth': 82, '10': 83, 'funni': 84, 'music': 85, 'point': 86, 'start': 87, 'set': 88, 'girl': 89, 'origin': 90, 'day': 91, 'world': 92, 'everi': 93, 'believ': 94, 'turn': 95, 'quit': 96, 'direct': 97, 'us': 98, 'thought': 99, 'fact': 100, 'minut': 101, 'horror': 102, 'kill': 103, 'action': 104, 'comedi': 105, 'pretti': 106, 'young': 107, 'wonder': 108, 'happen': 109, 'around': 110, 'got': 111, 'effect': 112, 'right': 113, 'long': 114, 'howev': 115, 'big': 116, 'line': 117, 'famili': 118, 'enough': 119, 'seri': 120, 'may': 121, 'need': 122, 'fan': 123, 'bit': 124, 'script': 125, 'beauti': 126, 'person': 127, 'becom': 128, 'without': 129, 'must': 130, 'alway': 131, 'friend': 132, 'tell': 133, 'reason': 134, 'saw': 135, 'last': 136, 'final': 137, 'kid': 138, 'almost': 139, 'put': 140, 'least': 141, 'sure': 142, 'done': 143, 'whole': 144, 'place': 145, 'complet': 146, 'kind': 147, 'differ': 148, 'expect': 149, 'shot': 150, 'far': 151, 'mean': 152, 'anyth': 153, 'book': 154, 'laugh': 155, 'might': 156, 'name': 157, 'sinc': 158, 'begin': 159, '2': 160, 'probabl': 161, 'woman': 162, 'help': 163, 'entertain': 164, 'let': 165, 'screen': 166, 'call': 167, 'tv': 168, 'moment': 169, 'away': 170, 'read': 171, 'yet': 172, 'rather': 173, 'worst': 174, 'run': 175, 'fun': 176, 'lead': 177, 'hard': 178, 'audienc': 179, 'idea': 180, 'anyon': 181, 'episod': 182, 'american': 183, 'found': 184, 'appear': 185, 'bore': 186, 'especi': 187, 'although': 188, 'hope': 189, 'cours': 190, 'keep': 191, 'anim': 192, 'job': 193, 'goe': 194, 'move': 195, 'sens': 196, 'version': 197, 'dvd': 198, 'war': 199, 'money': 200, 'someon': 201, 'mind': 202, 'mayb': 203, 'problem': 204, 'true': 205, 'hous': 206, 'everyth': 207, 'nice': 208, 'second': 209, 'rate': 210, 'three': 211, 'night': 212, 'face': 213, 'follow': 214, 'recommend': 215, 'main': 216, 'product': 217, 'worth': 218, 'leav': 219, 'human': 220, 'special': 221, 'excel': 222, 'togeth': 223, 'wast': 224, 'sound': 225, 'everyon': 226, 'john': 227, 'hand': 228, '1': 229, 'father': 230, 'later': 231, 'eye': 232, 'said': 233, 'view': 234, 'instead': 235, 'review': 236, 'boy': 237, 'high': 238, 'hour': 239, 'miss': 240, 'classic': 241, 'talk': 242, 'wife': 243, 'understand': 244, 'left': 245, 'care': 246, 'black': 247, 'death': 248, 'open': 249, 'murder': 250, 'write': 251, 'half': 252, 'head': 253, 'rememb': 254, 'chang': 255, 'viewer': 256, 'fight': 257, 'gener': 258, 'surpris': 259, 'includ': 260, 'short': 261, 'die': 262, 'fall': 263, 'less': 264, 'els': 265, 'entir': 266, 'piec': 267, 'involv': 268, 'pictur': 269, 'simpli': 270, 'power': 271, 'top': 272, 'home': 273, 'total': 274, 'usual': 275, 'budget': 276, 'attempt': 277, 'suppos': 278, 'releas': 279, 'hollywood': 280, 'terribl': 281, 'song': 282, 'men': 283, 'possibl': 284, 'featur': 285, 'portray': 286, 'disappoint': 287, 'poor': 288, '3': 289, 'coupl': 290, 'camera': 291, 'stupid': 292, 'dead': 293, 'wrong': 294, 'low': 295, 'produc': 296, 'either': 297, 'video': 298, 'aw': 299, 'definit': 300, 'except': 301, 'rest': 302, 'given': 303, 'absolut': 304, 'women': 305, 'lack': 306, 'word': 307, 'writer': 308, 'titl': 309, 'talent': 310, 'decid': 311, 'full': 312, 'perfect': 313, 'along': 314, 'style': 315, 'close': 316, 'truli': 317, 'school': 318, 'save': 319, 'emot': 320, 'sex': 321, 'age': 322, 'next': 323, 'bring': 324, 'mr': 325, 'case': 326, 'killer': 327, 'heart': 328, 'comment': 329, 'sort': 330, 'creat': 331, 'perhap': 332, 'came': 333, 'brother': 334, 'sever': 335, 'joke': 336, 'art': 337, 'dialogu': 338, 'game': 339, 'small': 340, 'base': 341, 'flick': 342, 'written': 343, 'sequenc': 344, 'meet': 345, 'earli': 346, 'often': 347, 'other': 348, 'mother': 349, 'develop': 350, 'humor': 351, 'actress': 352, 'consid': 353, 'dark': 354, 'guess': 355, 'amaz': 356, 'unfortun': 357, 'lost': 358, 'light': 359, 'exampl': 360, 'cinema': 361, 'drama': 362, 'white': 363, 'ye': 364, 'experi': 365, 'imagin': 366, 'mention': 367, 'stop': 368, 'natur': 369, 'forc': 370, 'manag': 371, 'felt': 372, 'present': 373, 'cut': 374, 'children': 375, 'fail': 376, 'son': 377, 'qualiti': 378, 'car': 379, 'support': 380, 'ask': 381, 'hit': 382, 'side': 383, 'voic': 384, 'extrem': 385, 'impress': 386, 'evil': 387, 'wors': 388, 'stand': 389, 'went': 390, 'certainli': 391, 'basic': 392, 'oh': 393, 'overal': 394, 'favorit': 395, 'horribl': 396, 'mysteri': 397, 'number': 398, 'type': 399, 'danc': 400, 'wait': 401, 'hero': 402, '5': 403, 'alreadi': 404, 'learn': 405, 'matter': 406, '4': 407, 'michael': 408, 'genr': 409, 'fine': 410, 'despit': 411, 'throughout': 412, 'walk': 413, 'success': 414, 'histori': 415, 'question': 416, 'zombi': 417, 'town': 418, 'relationship': 419, 'realiz': 420, 'child': 421, 'past': 422, 'daughter': 423, 'late': 424, 'b': 425, 'wish': 426, 'credit': 427, 'hate': 428, 'event': 429, 'theme': 430, 'touch': 431, 'citi': 432, 'today': 433, 'sometim': 434, 'behind': 435, 'god': 436, 'twist': 437, 'sit': 438, 'deal': 439, 'annoy': 440, 'stay': 441, 'abl': 442, 'rent': 443, 'pleas': 444, 'edit': 445, 'blood': 446, 'deserv': 447, 'comic': 448, 'anyway': 449, 'appar': 450, 'soon': 451, 'gave': 452, 'etc': 453, 'level': 454, 'slow': 455, 'chanc': 456, 'score': 457, 'bodi': 458, 'brilliant': 459, 'incred': 460, 'figur': 461, 'situat': 462, 'self': 463, 'major': 464, 'stuff': 465, 'decent': 466, 'element': 467, 'return': 468, 'dream': 469, 'obvious': 470, 'order': 471, 'continu': 472, 'pace': 473, 'ridicul': 474, 'happi': 475, 'group': 476, 'highli': 477, 'add': 478, 'thank': 479, 'ladi': 480, 'novel': 481, 'speak': 482, 'pain': 483, 'career': 484, 'shoot': 485, 'strang': 486, 'heard': 487, 'sad': 488, 'husband': 489, 'polic': 490, 'import': 491, 'break': 492, 'took': 493, 'cannot': 494, 'strong': 495, 'robert': 496, 'predict': 497, 'violenc': 498, 'hilari': 499, 'recent': 500, 'countri': 501, 'known': 502, 'particularli': 503, 'pick': 504, 'documentari': 505, 'season': 506, 'critic': 507, 'jame': 508, 'compar': 509, 'alon': 510, 'obviou': 511, 'told': 512, 'state': 513, 'visual': 514, 'rock': 515, 'exist': 516, 'theater': 517, 'offer': 518, 'opinion': 519, 'gore': 520, 'crap': 521, 'hold': 522, 'result': 523, 'realiti': 524, 'hear': 525, 'room': 526, 'clich': 527, 'effort': 528, 'thriller': 529, 'caus': 530, 'explain': 531, 'serious': 532, 'sequel': 533, 'king': 534, 'local': 535, 'ago': 536, 'hell': 537, 'none': 538, 'note': 539, 'allow': 540, 'david': 541, 'sister': 542, 'simpl': 543, 'femal': 544, 'deliv': 545, 'ok': 546, 'class': 547, 'convinc': 548, 'check': 549, 'suspens': 550, 'win': 551, 'oscar': 552, 'buy': 553, 'huge': 554, 'valu': 555, 'sexual': 556, 'cool': 557, 'scari': 558, 'similar': 559, 'excit': 560, 'exactli': 561, 'apart': 562, 'provid': 563, 'shown': 564, 'avoid': 565, 'seriou': 566, 'english': 567, 'taken': 568, 'whose': 569, 'cinematographi': 570, 'shock': 571, 'polit': 572, 'spoiler': 573, 'offic': 574, 'across': 575, 'middl': 576, 'street': 577, 'pass': 578, 'messag': 579, 'charm': 580, 'somewhat': 581, 'silli': 582, 'modern': 583, 'confus': 584, 'filmmak': 585, 'form': 586, 'tale': 587, 'singl': 588, 'jack': 589, 'mostli': 590, 'william': 591, 'attent': 592, 'carri': 593, 'sing': 594, 'subject': 595, 'five': 596, 'prove': 597, 'richard': 598, 'team': 599, 'stage': 600, 'unlik': 601, 'cop': 602, 'georg': 603, 'televis': 604, 'monster': 605, 'earth': 606, 'villain': 607, 'cover': 608, 'pay': 609, 'marri': 610, 'toward': 611, 'build': 612, 'parent': 613, 'pull': 614, 'due': 615, 'respect': 616, 'fill': 617, 'dialog': 618, 'four': 619, 'remind': 620, 'futur': 621, 'typic': 622, 'weak': 623, '7': 624, 'cheap': 625, 'intellig': 626, 'atmospher': 627, 'british': 628, 'clearli': 629, '80': 630, 'dog': 631, 'non': 632, 'paul': 633, 'artist': 634, 'fast': 635, 'knew': 636, '8': 637, 'crime': 638, 'easili': 639, 'escap': 640, 'adult': 641, 'doubt': 642, 'detail': 643, 'date': 644, 'romant': 645, 'member': 646, 'fire': 647, 'drive': 648, 'gun': 649, 'straight': 650, 'beyond': 651, 'fit': 652, 'attack': 653, 'imag': 654, 'upon': 655, 'posit': 656, 'whether': 657, 'fantast': 658, 'peter': 659, 'captur': 660, 'aspect': 661, 'appreci': 662, 'ten': 663, 'plan': 664, 'discov': 665, 'remain': 666, 'period': 667, 'near': 668, 'realist': 669, 'air': 670, 'mark': 671, 'red': 672, 'dull': 673, 'adapt': 674, 'within': 675, 'spend': 676, 'lose': 677, 'color': 678, 'materi': 679, 'chase': 680, 'mari': 681, 'storylin': 682, 'forget': 683, 'bunch': 684, 'clear': 685, 'lee': 686, 'victim': 687, 'nearli': 688, 'box': 689, 'york': 690, 'match': 691, 'inspir': 692, 'mess': 693, 'finish': 694, 'standard': 695, 'easi': 696, 'truth': 697, 'busi': 698, 'suffer': 699, 'dramat': 700, 'space': 701, 'bill': 702, 'western': 703, 'e': 704, 'list': 705, 'battl': 706, 'notic': 707, 'de': 708, 'french': 709, 'ad': 710, '9': 711, 'tom': 712, 'larg': 713, 'among': 714, 'eventu': 715, 'train': 716, 'accept': 717, 'agre': 718, 'soundtrack': 719, 'spirit': 720, 'third': 721, 'teenag': 722, 'soldier': 723, 'adventur': 724, 'famou': 725, 'sorri': 726, 'drug': 727, 'suggest': 728, 'babi': 729, 'normal': 730, 'cri': 731, 'troubl': 732, 'ultim': 733, 'contain': 734, 'certain': 735, 'cultur': 736, 'romanc': 737, 'rare': 738, 'lame': 739, 'somehow': 740, 'mix': 741, 'disney': 742, 'gone': 743, 'cartoon': 744, 'student': 745, 'reveal': 746, 'fear': 747, 'kept': 748, 'suck': 749, 'attract': 750, 'appeal': 751, 'premis': 752, 'greatest': 753, 'secret': 754, 'design': 755, 'shame': 756, 'throw': 757, 'scare': 758, 'copi': 759, 'wit': 760, 'america': 761, 'admit': 762, 'particular': 763, 'brought': 764, 'relat': 765, 'screenplay': 766, 'whatev': 767, 'pure': 768, '70': 769, 'averag': 770, 'harri': 771, 'master': 772, 'describ': 773, 'treat': 774, 'male': 775, '20': 776, 'fantasi': 777, 'issu': 778, 'warn': 779, 'inde': 780, 'background': 781, 'forward': 782, 'free': 783, 'project': 784, 'memor': 785, 'japanes': 786, 'poorli': 787, 'award': 788, 'locat': 789, 'amus': 790, 'potenti': 791, 'struggl': 792, 'magic': 793, 'weird': 794, 'societi': 795, 'okay': 796, 'imdb': 797, 'accent': 798, 'doctor': 799, 'water': 800, 'hot': 801, '30': 802, 'express': 803, 'dr': 804, 'alien': 805, 'odd': 806, 'choic': 807, 'crazi': 808, 'studio': 809, 'fiction': 810, 'becam': 811, 'control': 812, 'masterpiec': 813, 'difficult': 814, 'fli': 815, 'joe': 816, 'scream': 817, 'costum': 818, 'lover': 819, 'refer': 820, 'uniqu': 821, 'remak': 822, 'vampir': 823, 'girlfriend': 824, 'prison': 825, 'execut': 826, 'wear': 827, 'jump': 828, 'wood': 829, 'unless': 830, 'creepi': 831, 'cheesi': 832, 'superb': 833, 'otherwis': 834, 'parti': 835, 'roll': 836, 'ghost': 837, 'mad': 838, 'public': 839, 'depict': 840, 'week': 841, 'jane': 842, 'badli': 843, 'moral': 844, 'earlier': 845, 'fi': 846, 'dumb': 847, 'grow': 848, 'flaw': 849, 'sci': 850, 'deep': 851, 'cat': 852, 'maker': 853, 'connect': 854, 'older': 855, 'footag': 856, 'plenti': 857, 'bother': 858, 'outsid': 859, 'stick': 860, 'gay': 861, 'catch': 862, 'co': 863, 'plu': 864, 'popular': 865, 'equal': 866, 'social': 867, 'disturb': 868, 'quickli': 869, 'perfectli': 870, 'dress': 871, 'era': 872, '90': 873, 'mistak': 874, 'lie': 875, 'ride': 876, 'previou': 877, 'combin': 878, 'band': 879, 'concept': 880, 'surviv': 881, 'rich': 882, 'answer': 883, 'front': 884, 'sweet': 885, 'christma': 886, 'insid': 887, 'bare': 888, 'concern': 889, 'eat': 890, 'listen': 891, 'beat': 892, 'ben': 893, 'c': 894, 'term': 895, 'serv': 896, 'meant': 897, 'german': 898, 'la': 899, 'hardli': 900, 'stereotyp': 901, 'innoc': 902, 'law': 903, 'desper': 904, 'memori': 905, 'promis': 906, 'intent': 907, 'cute': 908, 'steal': 909, 'inform': 910, 'variou': 911, 'brain': 912, 'post': 913, 'tone': 914, 'island': 915, 'amount': 916, 'nuditi': 917, 'compani': 918, 'track': 919, 'store': 920, 'claim': 921, 'hair': 922, 'flat': 923, '50': 924, 'land': 925, 'univers': 926, 'danger': 927, 'scott': 928, 'kick': 929, 'fairli': 930, 'player': 931, 'plain': 932, 'crew': 933, 'step': 934, 'toni': 935, 'share': 936, 'centuri': 937, 'tast': 938, 'achiev': 939, 'engag': 940, 'travel': 941, 'cold': 942, 'rip': 943, 'suit': 944, 'record': 945, 'manner': 946, 'sadli': 947, 'wrote': 948, 'tension': 949, 'spot': 950, 'fascin': 951, 'intens': 952, 'familiar': 953, 'depth': 954, 'remark': 955, 'burn': 956, 'destroy': 957, 'histor': 958, 'sleep': 959, 'purpos': 960, 'languag': 961, 'ruin': 962, 'ignor': 963, 'delight': 964, 'unbeliev': 965, 'italian': 966, 'soul': 967, 'abil': 968, 'collect': 969, 'clever': 970, 'detect': 971, 'violent': 972, 'rape': 973, 'reach': 974, 'door': 975, 'liter': 976, 'scienc': 977, 'trash': 978, 'commun': 979, 'reveng': 980, 'caught': 981, 'creatur': 982, 'trip': 983, 'approach': 984, 'fashion': 985, 'intrigu': 986, 'paint': 987, 'skill': 988, 'introduc': 989, 'complex': 990, 'channel': 991, 'camp': 992, 'christian': 993, 'hole': 994, 'extra': 995, 'limit': 996, 'mental': 997, 'ann': 998, 'immedi': 999, 'slightli': 1000, 'mere': 1001, '6': 1002, 'million': 1003, 'comput': 1004, 'conclus': 1005, 'slasher': 1006, 'imposs': 1007, 'suddenli': 1008, 'teen': 1009, 'crimin': 1010, 'neither': 1011, 'physic': 1012, 'spent': 1013, 'nation': 1014, 'respons': 1015, 'planet': 1016, 'receiv': 1017, 'fake': 1018, 'blue': 1019, 'sick': 1020, 'bizarr': 1021, 'embarrass': 1022, 'indian': 1023, 'ring': 1024, '15': 1025, 'drop': 1026, 'pop': 1027, 'drag': 1028, 'haunt': 1029, 'pointless': 1030, 'suspect': 1031, 'edg': 1032, 'search': 1033, 'handl': 1034, 'common': 1035, 'biggest': 1036, 'hurt': 1037, 'arriv': 1038, 'faith': 1039, 'technic': 1040, 'angel': 1041, 'genuin': 1042, 'dad': 1043, 'solid': 1044, 'f': 1045, 'awesom': 1046, 'focu': 1047, 'former': 1048, 'van': 1049, 'colleg': 1050, 'count': 1051, 'heavi': 1052, 'tear': 1053, 'wall': 1054, 'rais': 1055, 'younger': 1056, 'visit': 1057, 'laughabl': 1058, 'fair': 1059, 'sign': 1060, 'excus': 1061, 'cult': 1062, 'key': 1063, 'motion': 1064, 'tough': 1065, 'super': 1066, 'desir': 1067, 'stun': 1068, 'addit': 1069, 'exploit': 1070, 'cloth': 1071, 'tortur': 1072, 'smith': 1073, 'davi': 1074, 'race': 1075, 'author': 1076, 'cross': 1077, 'jim': 1078, 'consist': 1079, 'focus': 1080, 'compel': 1081, 'minor': 1082, 'chemistri': 1083, 'pathet': 1084, 'commit': 1085, 'park': 1086, 'obsess': 1087, 'frank': 1088, 'tradit': 1089, 'grade': 1090, 'asid': 1091, '60': 1092, 'brutal': 1093, 'somewher': 1094, 'steve': 1095, 'rule': 1096, 'depress': 1097, 'explor': 1098, 'opportun': 1099, 'grant': 1100, 'u': 1101, 'besid': 1102, 'honest': 1103, 'anti': 1104, 'dub': 1105, 'trailer': 1106, 'intend': 1107, 'bar': 1108, 'west': 1109, 'longer': 1110, 'regard': 1111, 'scientist': 1112, 'judg': 1113, 'decad': 1114, 'silent': 1115, 'armi': 1116, 'creativ': 1117, 'wild': 1118, 'g': 1119, 'south': 1120, 'stewart': 1121, 'draw': 1122, 'road': 1123, 'govern': 1124, 'ex': 1125, 'boss': 1126, 'practic': 1127, 'motiv': 1128, 'gang': 1129, 'club': 1130, 'surprisingli': 1131, 'festiv': 1132, 'london': 1133, 'redeem': 1134, 'page': 1135, 'green': 1136, 'militari': 1137, 'idiot': 1138, 'aliv': 1139, 'display': 1140, 'machin': 1141, 'repeat': 1142, 'thrill': 1143, 'yeah': 1144, '100': 1145, 'nobodi': 1146, 'folk': 1147, '40': 1148, 'journey': 1149, 'garbag': 1150, 'smile': 1151, 'tire': 1152, 'ground': 1153, 'mood': 1154, 'bought': 1155, 'cost': 1156, 'stone': 1157, 'sam': 1158, 'noir': 1159, 'mouth': 1160, 'agent': 1161, 'terrif': 1162, 'utterli': 1163, 'requir': 1164, 'area': 1165, 'sexi': 1166, 'honestli': 1167, 'geniu': 1168, 'report': 1169, 'investig': 1170, 'glad': 1171, 'enter': 1172, 'humour': 1173, 'serial': 1174, 'occasion': 1175, 'passion': 1176, 'narr': 1177, 'marriag': 1178, 'climax': 1179, 'industri': 1180, 'studi': 1181, 'center': 1182, 'demon': 1183, 'nowher': 1184, 'charli': 1185, 'ship': 1186, 'hors': 1187, 'bear': 1188, 'loos': 1189, 'wow': 1190, 'hang': 1191, 'graphic': 1192, 'admir': 1193, 'giant': 1194, 'send': 1195, 'loud': 1196, 'damn': 1197, 'profession': 1198, 'subtl': 1199, 'nake': 1200, 'rel': 1201, 'blow': 1202, 'bottom': 1203, 'batman': 1204, 'insult': 1205, 'boyfriend': 1206, 'r': 1207, 'kelli': 1208, 'doubl': 1209, 'initi': 1210, 'frame': 1211, 'gem': 1212, 'opera': 1213, 'drawn': 1214, 'cinemat': 1215, 'affect': 1216, 'challeng': 1217, 'church': 1218, 'fulli': 1219, 'l': 1220, 'evid': 1221, 'seek': 1222, 'nightmar': 1223, 'j': 1224, 'essenti': 1225, 'conflict': 1226, 'arm': 1227, 'christoph': 1228, 'henri': 1229, 'grace': 1230, 'wind': 1231, 'witch': 1232, 'assum': 1233, 'narrat': 1234, 'hunt': 1235, 'push': 1236, 'chri': 1237, 'wise': 1238, 'nomin': 1239, 'month': 1240, 'repres': 1241, 'sceneri': 1242, 'affair': 1243, 'hide': 1244, 'avail': 1245, 'bond': 1246, 'smart': 1247, 'justic': 1248, 'thu': 1249, 'outstand': 1250, 'interview': 1251, 'flashback': 1252, 'constantli': 1253, 'satisfi': 1254, 'presenc': 1255, 'bed': 1256, 'central': 1257, 'content': 1258, 'iron': 1259, 'sell': 1260, 'everybodi': 1261, 'gag': 1262, 'slowli': 1263, 'hotel': 1264, 'hire': 1265, 'system': 1266, 'hey': 1267, 'adam': 1268, 'charl': 1269, 'individu': 1270, 'thrown': 1271, 'mediocr': 1272, 'jone': 1273, 'allen': 1274, 'billi': 1275, 'lesson': 1276, 'ray': 1277, 'cameo': 1278, 'photographi': 1279, 'pari': 1280, 'fellow': 1281, 'strike': 1282, 'absurd': 1283, 'brief': 1284, 'rise': 1285, 'independ': 1286, 'neg': 1287, 'impact': 1288, 'phone': 1289, 'model': 1290, 'ill': 1291, 'born': 1292, 'spoil': 1293, 'angl': 1294, 'fresh': 1295, 'likabl': 1296, 'abus': 1297, 'discuss': 1298, 'hill': 1299, 'sight': 1300, 'ahead': 1301, 'photograph': 1302, 'sent': 1303, 'occur': 1304, 'logic': 1305, 'blame': 1306, 'shine': 1307, 'bruce': 1308, 'mainli': 1309, 'skip': 1310, 'commerci': 1311, 'forev': 1312, 'held': 1313, 'teacher': 1314, 'surround': 1315, 'segment': 1316, 'blond': 1317, 'zero': 1318, 'summer': 1319, 'resembl': 1320, 'trap': 1321, 'satir': 1322, 'queen': 1323, 'ball': 1324, 'fool': 1325, 'six': 1326, 'tragedi': 1327, 'twice': 1328, 'sub': 1329, 'reaction': 1330, 'pack': 1331, 'bomb': 1332, 'protagonist': 1333, 'will': 1334, 'hospit': 1335, 'mile': 1336, 'sport': 1337, 'vote': 1338, 'jerri': 1339, 'drink': 1340, 'mom': 1341, 'trust': 1342, 'encount': 1343, 'plane': 1344, 'current': 1345, 'program': 1346, 'station': 1347, 'al': 1348, 'choos': 1349, 'celebr': 1350, 'martin': 1351, 'join': 1352, 'round': 1353, 'tragic': 1354, 'field': 1355, 'lord': 1356, 'favourit': 1357, 'jean': 1358, 'vision': 1359, 'robot': 1360, 'arthur': 1361, 'tie': 1362, 'random': 1363, 'fortun': 1364, 'roger': 1365, 'dread': 1366, 'psycholog': 1367, 'intern': 1368, 'nonsens': 1369, 'improv': 1370, 'epic': 1371, 'prefer': 1372, 'pleasur': 1373, 'legend': 1374, 'highlight': 1375, 'formula': 1376, 'dollar': 1377, '11': 1378, 'tape': 1379, 'gorgeou': 1380, 'object': 1381, 'thin': 1382, 'wide': 1383, 'fox': 1384, 'porn': 1385, 'ugli': 1386, 'influenc': 1387, 'buddi': 1388, 'nasti': 1389, 'prepar': 1390, 'ii': 1391, 'supposedli': 1392, 'reflect': 1393, 'progress': 1394, 'warm': 1395, 'youth': 1396, 'worthi': 1397, 'latter': 1398, 'unusu': 1399, 'length': 1400, 'crash': 1401, 'shop': 1402, 'superior': 1403, 'seven': 1404, 'childhood': 1405, 'remot': 1406, 'theatr': 1407, 'paid': 1408, 'disgust': 1409, 'funniest': 1410, 'pilot': 1411, 'trick': 1412, 'fell': 1413, 'convers': 1414, 'castl': 1415, 'establish': 1416, 'rob': 1417, 'gangster': 1418, 'disast': 1419, 'suicid': 1420, 'heaven': 1421, 'ident': 1422, 'disappear': 1423, 'mine': 1424, 'heroin': 1425, 'tend': 1426, 'forgotten': 1427, 'mask': 1428, 'decis': 1429, 'singer': 1430, 'partner': 1431, 'brian': 1432, 'desert': 1433, 'recogn': 1434, 'alan': 1435, 'p': 1436, 'stuck': 1437, 'sky': 1438, 'thoroughli': 1439, 'ms': 1440, 'replac': 1441, 'accur': 1442, 'market': 1443, 'seemingli': 1444, 'danni': 1445, 'uncl': 1446, 'commentari': 1447, 'andi': 1448, 'clue': 1449, 'eddi': 1450, 'devil': 1451, 'jackson': 1452, 'pair': 1453, 'that': 1454, 'therefor': 1455, 'refus': 1456, 'unit': 1457, 'accid': 1458, 'ed': 1459, 'river': 1460, 'fate': 1461, 'fault': 1462, 'tune': 1463, 'afraid': 1464, 'russian': 1465, 'stephen': 1466, 'hidden': 1467, 'clean': 1468, 'test': 1469, 'instanc': 1470, 'quick': 1471, 'irrit': 1472, 'convey': 1473, 'readi': 1474, 'captain': 1475, 'european': 1476, 'daniel': 1477, 'frustrat': 1478, 'insan': 1479, 'rescu': 1480, 'food': 1481, 'wed': 1482, '1950': 1483, 'chines': 1484, 'angri': 1485, 'lock': 1486, 'dirti': 1487, 'joy': 1488, 'price': 1489, 'steven': 1490, 'bland': 1491, 'cage': 1492, 'rang': 1493, 'anymor': 1494, 'wooden': 1495, 'jason': 1496, 'news': 1497, 'n': 1498, 'rush': 1499, 'worri': 1500, 'twenti': 1501, 'martial': 1502, 'board': 1503, 'led': 1504, '12': 1505, 'cgi': 1506, 'symbol': 1507, 'transform': 1508, 'hunter': 1509, 'johnni': 1510, 'onto': 1511, 'sentiment': 1512, 'x': 1513, 'piti': 1514, 'invent': 1515, 'explan': 1516, 'attitud': 1517, 'process': 1518, 'owner': 1519, 'awar': 1520, 'aim': 1521, 'necessari': 1522, 'energi': 1523, 'floor': 1524, 'favor': 1525, 'target': 1526, 'opposit': 1527, 'religi': 1528, 'blind': 1529, 'insight': 1530, 'window': 1531, 'chick': 1532, 'movement': 1533, 'possess': 1534, 'comparison': 1535, 'research': 1536, 'deepli': 1537, 'mountain': 1538, 'comed': 1539, 'whatsoev': 1540, 'grand': 1541, 'rain': 1542, 'began': 1543, 'mid': 1544, 'shadow': 1545, 'bank': 1546, 'princ': 1547, 'parodi': 1548, 'friendship': 1549, 'credibl': 1550, 'weapon': 1551, 'pre': 1552, 'taylor': 1553, 'teach': 1554, 'dougla': 1555, 'flesh': 1556, 'protect': 1557, 'hint': 1558, 'bloodi': 1559, 'terror': 1560, 'marvel': 1561, 'leader': 1562, 'drunk': 1563, 'load': 1564, 'watchabl': 1565, 'anybodi': 1566, 'superman': 1567, 'accord': 1568, 'brown': 1569, 'freddi': 1570, 'appropri': 1571, 'seat': 1572, 'tim': 1573, 'jeff': 1574, 'hitler': 1575, 'unknown': 1576, 'charg': 1577, 'villag': 1578, 'knock': 1579, 'keaton': 1580, 'media': 1581, 'england': 1582, 'enemi': 1583, 'unnecessari': 1584, 'empti': 1585, 'strength': 1586, 'craft': 1587, 'utter': 1588, 'buck': 1589, 'dare': 1590, 'wave': 1591, 'perspect': 1592, 'nativ': 1593, 'kiss': 1594, 'ford': 1595, 'contrast': 1596, 'correct': 1597, 'magnific': 1598, 'nazi': 1599, 'knowledg': 1600, 'distract': 1601, 'anywher': 1602, 'chill': 1603, 'speed': 1604, 'soap': 1605, '1980': 1606, 'ice': 1607, 'fred': 1608, 'mission': 1609, 'breath': 1610, 'crowd': 1611, 'jr': 1612, 'joan': 1613, 'moon': 1614, '000': 1615, 'frighten': 1616, 'kate': 1617, 'soft': 1618, 'hundr': 1619, 'dick': 1620, 'dan': 1621, 'nick': 1622, 'dozen': 1623, 'radio': 1624, 'simon': 1625, 'somebodi': 1626, 'thousand': 1627, 'loss': 1628, 'academi': 1629, 'andrew': 1630, 'shakespear': 1631, 'sum': 1632, 'quot': 1633, 'root': 1634, 'vehicl': 1635, 'account': 1636, '1970': 1637, 'behavior': 1638, 'convent': 1639, 'leg': 1640, 'gold': 1641, 'regular': 1642, 'worker': 1643, 'demand': 1644, 'pretenti': 1645, 'compet': 1646, 'candi': 1647, 'stretch': 1648, 'lynch': 1649, 'explos': 1650, 'japan': 1651, 'notabl': 1652, 'interpret': 1653, 'privat': 1654, 'constant': 1655, 'debut': 1656, 'tarzan': 1657, 'spi': 1658, 'sea': 1659, 'prais': 1660, 'revolv': 1661, 'translat': 1662, 'technolog': 1663, 'sat': 1664, 'quiet': 1665, 'threaten': 1666, 'jesu': 1667, 'ass': 1668, 'failur': 1669, 'franc': 1670, 'higher': 1671, 'toy': 1672, 'punch': 1673, 'met': 1674, 'aid': 1675, 'kevin': 1676, 'vh': 1677, 'mike': 1678, 'abandon': 1679, 'interact': 1680, 'confront': 1681, 'separ': 1682, 'command': 1683, 'bet': 1684, 'servic': 1685, 'stunt': 1686, 'recal': 1687, 'belong': 1688, 'gotten': 1689, 'site': 1690, 'techniqu': 1691, 'foot': 1692, 'bug': 1693, 'freak': 1694, 'cabl': 1695, 'bright': 1696, 'capabl': 1697, 'jimmi': 1698, 'fu': 1699, 'african': 1700, 'fat': 1701, 'clark': 1702, 'succeed': 1703, 'stock': 1704, 'presid': 1705, 'boat': 1706, 'gene': 1707, 'structur': 1708, 'spanish': 1709, 'kidnap': 1710, 'paper': 1711, 'factor': 1712, 'whilst': 1713, 'belief': 1714, 'witti': 1715, 'educ': 1716, 'bob': 1717, 'realism': 1718, 'complic': 1719, 'realis': 1720, 'tree': 1721, 'attend': 1722, 'assist': 1723, 'broken': 1724, 'finest': 1725, 'santa': 1726, 'determin': 1727, 'up': 1728, 'observ': 1729, 'v': 1730, 'smoke': 1731, 'depart': 1732, 'domin': 1733, 'lewi': 1734, 'rubbish': 1735, 'hat': 1736, 'oper': 1737, 'fame': 1738, 'routin': 1739, 'foreign': 1740, 'advanc': 1741, 'lone': 1742, 'morgan': 1743, 'safe': 1744, 'kinda': 1745, 'hook': 1746, 'numer': 1747, 'rank': 1748, 'vs': 1749, 'shallow': 1750, 'rose': 1751, 'washington': 1752, 'civil': 1753, 'werewolf': 1754, 'shape': 1755, 'morn': 1756, 'gari': 1757, 'winner': 1758, 'ordinari': 1759, 'accomplish': 1760, 'kong': 1761, 'whenev': 1762, 'grab': 1763, 'peac': 1764, 'virtual': 1765, 'luck': 1766, 'offens': 1767, 'h': 1768, 'patient': 1769, 'unfunni': 1770, 'contriv': 1771, 'bigger': 1772, 'complain': 1773, 'activ': 1774, 'welcom': 1775, 'pretend': 1776, 'dimension': 1777, 'con': 1778, 'trek': 1779, 'code': 1780, 'dri': 1781, 'eric': 1782, 'lesbian': 1783, 'cain': 1784, 'wake': 1785, 'flash': 1786, 'statu': 1787, 'corrupt': 1788, 'manipul': 1789, 'guard': 1790, 'albert': 1791, 'dancer': 1792, 'signific': 1793, 'sourc': 1794, 'gain': 1795, 'context': 1796, 'speech': 1797, 'awkward': 1798, '13': 1799, 'psycho': 1800, 'anthoni': 1801, 'clip': 1802, 'sean': 1803, 'corni': 1804, 'w': 1805, 'reli': 1806, 'curiou': 1807, 'priest': 1808, 'theatric': 1809, 'advic': 1810, 'religion': 1811, 'flow': 1812, 'addict': 1813, 'specif': 1814, 'secur': 1815, 'jennif': 1816, 'asian': 1817, 'howard': 1818, 'skin': 1819, 'promot': 1820, 'comfort': 1821, 'organ': 1822, 'luke': 1823, 'golden': 1824, 'core': 1825, 'cheat': 1826, 'cash': 1827, 'lucki': 1828, 'associ': 1829, 'lower': 1830, 'dislik': 1831, 'balanc': 1832, 'devic': 1833, 'contribut': 1834, 'frankli': 1835, 'wing': 1836, 'spell': 1837, 'frequent': 1838, 'regret': 1839, 'degre': 1840, 'lake': 1841, 'forgiv': 1842, 'sake': 1843, 'print': 1844, 'mass': 1845, 'thoma': 1846, 'betti': 1847, 'crack': 1848, 'gordon': 1849, 'unexpect': 1850, 'grown': 1851, 'unfold': 1852, 'depend': 1853, 'categori': 1854, 'invit': 1855, 'construct': 1856, 'amateur': 1857, 'anna': 1858, 'honor': 1859, 'grew': 1860, 'matur': 1861, 'condit': 1862, 'walter': 1863, 'intellectu': 1864, 'sudden': 1865, 'veteran': 1866, 'sole': 1867, 'mirror': 1868, 'spectacular': 1869, 'card': 1870, 'meanwhil': 1871, 'robin': 1872, 'demonstr': 1873, 'overli': 1874, 'gift': 1875, 'experienc': 1876, 'grip': 1877, 'liner': 1878, 'freedom': 1879, 'crappi': 1880, 'unabl': 1881, 'subtitl': 1882, 'brilliantli': 1883, 'theori': 1884, 'circumst': 1885, 'section': 1886, 'sheriff': 1887, 'drew': 1888, 'oliv': 1889, 'colour': 1890, 'altern': 1891, 'cook': 1892, 'sheer': 1893, 'pile': 1894, 'parker': 1895, 'path': 1896, 'matt': 1897, 'laughter': 1898, 'wander': 1899, 'accident': 1900, 'relief': 1901, 'sinatra': 1902, 'defin': 1903, 'lawyer': 1904, 'hall': 1905, 'treatment': 1906, 'captiv': 1907, 'hank': 1908, 'dragon': 1909, 'moor': 1910, 'gratuit': 1911, 'halloween': 1912, 'cowboy': 1913, 'unintent': 1914, 'wound': 1915, 'barbara': 1916, 'broadway': 1917, 'kung': 1918, 'wayn': 1919, 'jacki': 1920, 'k': 1921, 'statement': 1922, 'canadian': 1923, 'winter': 1924, 'spoof': 1925, 'surreal': 1926, 'cheer': 1927, 'compos': 1928, 'treasur': 1929, 'fare': 1930, 'fish': 1931, 'gonna': 1932, 'emerg': 1933, 'woodi': 1934, 'victor': 1935, 'unrealist': 1936, 'sensit': 1937, 'driven': 1938, 'sympathet': 1939, 'ran': 1940, 'neighbor': 1941, 'glass': 1942, 'overlook': 1943, 'authent': 1944, 'topic': 1945, 'menac': 1946, 'expos': 1947, 'michel': 1948, 'ancient': 1949, 'handsom': 1950, 'chief': 1951, 'gross': 1952, 'feet': 1953, 'network': 1954, 'nevertheless': 1955, 'stranger': 1956, 'built': 1957, 'pleasant': 1958, 'comedian': 1959, 'contemporari': 1960, 'russel': 1961, 'cinderella': 1962, 'consider': 1963, 'earn': 1964, 'underr': 1965, 'endless': 1966, 'letter': 1967, 'blockbust': 1968, 'miser': 1969, 'gori': 1970, 'solv': 1971, 'switch': 1972, 'brook': 1973, 'edward': 1974, 'virgin': 1975, 'convict': 1976, 'joseph': 1977, 'bullet': 1978, 'victoria': 1979, 'cynic': 1980, 'scenario': 1981, 'chosen': 1982, '0': 1983, 'alex': 1984, 'scale': 1985, 'com': 1986, 'sword': 1987, 'outrag': 1988, 'gut': 1989, 'curs': 1990, 'juli': 1991, 'substanc': 1992, 'driver': 1993, 'wrap': 1994, 'proper': 1995, 'screenwrit': 1996, 'uk': 1997, 'monkey': 1998, 'indic': 1999, 'remov': 2000, 'court': 2001, 'bird': 2002, 'par': 2003, 'roy': 2004, 'naiv': 2005, 'inevit': 2006, 'rental': 2007, 'consequ': 2008, 'nanci': 2009, 'advertis': 2010, 'grave': 2011, 'loser': 2012, 'brave': 2013, 'le': 2014, 'fatal': 2015, 'slap': 2016, 'bridg': 2017, 'invis': 2018, 'germani': 2019, 'footbal': 2020, 'loui': 2021, 'ador': 2022, 'provok': 2023, 'anger': 2024, 'anderson': 2025, 'chan': 2026, 'alcohol': 2027, 'stumbl': 2028, 'ryan': 2029, 'willi': 2030, 'professor': 2031, 'bat': 2032, 'patrick': 2033, 'assassin': 2034, 'australian': 2035, '1930': 2036, 'sharp': 2037, 'amateurish': 2038, 'cell': 2039, 'lousi': 2040, 'trilog': 2041, 'refresh': 2042, 'saturday': 2043, 'strongli': 2044, 'deni': 2045, 'liber': 2046, 'eight': 2047, 'ape': 2048, 'heck': 2049, 'sin': 2050, 'san': 2051, 'vagu': 2052, 'justifi': 2053, 'resid': 2054, 'sympathi': 2055, 'mini': 2056, 'defeat': 2057, 'terrifi': 2058, 'indi': 2059, 'creator': 2060, 'reput': 2061, 'tediou': 2062, 'tabl': 2063, 'prevent': 2064, 'expert': 2065, 'task': 2066, 'endur': 2067, 'rival': 2068, 'offend': 2069, 'trial': 2070, 'employ': 2071, 'imit': 2072, 'basebal': 2073, 'che': 2074, 'europ': 2075, 'dig': 2076, 'complaint': 2077, 'pitch': 2078, 'weekend': 2079, 'fairi': 2080, 'beach': 2081, 'max': 2082, 'murphi': 2083, 'format': 2084, 'risk': 2085, 'purchas': 2086, 'titan': 2087, 'tini': 2088, 'reminisc': 2089, 'harsh': 2090, 'hype': 2091, 'glimps': 2092, 'bite': 2093, 'nois': 2094, 'powel': 2095, '14': 2096, 'till': 2097, 'asleep': 2098, 'strip': 2099, 'prime': 2100, 'fals': 2101, 'north': 2102, 'revel': 2103, 'descript': 2104, 'destruct': 2105, 'africa': 2106, 'texa': 2107, 'semi': 2108, 'sitcom': 2109, 'excess': 2110, 'inner': 2111, 'spin': 2112, 'surfac': 2113, 'arrest': 2114, 'uninterest': 2115, 'argu': 2116, 'twin': 2117, 'massiv': 2118, 'dinosaur': 2119, 'maintain': 2120, 'controversi': 2121, 'makeup': 2122, 'hitchcock': 2123, 'expens': 2124, 'reject': 2125, 'insist': 2126, 'ideal': 2127, 'stare': 2128, 'melodrama': 2129, 'ludicr': 2130, 'kim': 2131, 'host': 2132, 'erot': 2133, 'ga': 2134, 'forest': 2135, 'columbo': 2136, 'subplot': 2137, 'ala': 2138, 'supernatur': 2139, 'nail': 2140, 'atroci': 2141, 'press': 2142, 'dude': 2143, 'identifi': 2144, 'presum': 2145, 'notch': 2146, 'cant': 2147, 'forgett': 2148, 'guest': 2149, 'character': 2150, 'closer': 2151, 'crude': 2152, 'method': 2153, 'plagu': 2154, 'ear': 2155, 'border': 2156, 'landscap': 2157, 'princess': 2158, 'foster': 2159, 'beast': 2160, 'lion': 2161, 'aunt': 2162, 'jungl': 2163, 'pacino': 2164, 'previous': 2165, 'bound': 2166, 'accus': 2167, 'storytel': 2168, 'urban': 2169, 'damag': 2170, 'birth': 2171, 'jess': 2172, 'guid': 2173, 'nude': 2174, 'doll': 2175, 'thirti': 2176, 'propaganda': 2177, 'chose': 2178, 'emma': 2179, '25': 2180, 'warrior': 2181, 'pet': 2182, 'whoever': 2183, 'mainstream': 2184, 'mate': 2185, 'merit': 2186, 'deadli': 2187, 'size': 2188, 'cooper': 2189, 'gritti': 2190, 'exact': 2191, 'upset': 2192, 'poster': 2193, 'latest': 2194, 'friday': 2195, 'settl': 2196, 'blend': 2197, 'citizen': 2198, '1990': 2199, 'wilson': 2200, 'buff': 2201, 'warner': 2202, 'contest': 2203, 'popul': 2204, 'ton': 2205, 'contact': 2206, 'corps': 2207, 'rough': 2208, 'sun': 2209, 'mgm': 2210, 'select': 2211, 'pitt': 2212, 'environ': 2213, 'metal': 2214, 'widow': 2215, 'bu': 2216, 'rat': 2217, 'alic': 2218, 'overcom': 2219, 'link': 2220, 'lift': 2221, 'guilti': 2222, 'revolut': 2223, 'ted': 2224, 'particip': 2225, '1960': 2226, 'prostitut': 2227, 'corner': 2228, 'exagger': 2229, 'johnson': 2230, 'corpor': 2231, 'afternoon': 2232, 'matrix': 2233, 'moron': 2234, 'accompani': 2235, 'doom': 2236, 'hood': 2237, 'friendli': 2238, 'instal': 2239, 'sincer': 2240, 'leagu': 2241, 'holm': 2242, 'clair': 2243, 'multipl': 2244, 'aka': 2245, 'hip': 2246, 'string': 2247, 'advis': 2248, 'junk': 2249, 'grim': 2250, 'irish': 2251, 'defend': 2252, 'campi': 2253, 'sunday': 2254, 'lugosi': 2255, 'examin': 2256, 'blah': 2257, 'rachel': 2258, 'varieti': 2259, 'shut': 2260, 'confid': 2261, 'shake': 2262, 'pro': 2263, 'tight': 2264, 'icon': 2265, 'jaw': 2266, 'medic': 2267, 'sullivan': 2268, 'mexican': 2269, 'goal': 2270, 'directli': 2271, 'attach': 2272, 'denni': 2273, 'prior': 2274, 'breast': 2275, 'dean': 2276, 'vietnam': 2277, 'legendari': 2278, 'duke': 2279, 'truck': 2280, 'sentenc': 2281, 'sarah': 2282, 'terrorist': 2283, 'courag': 2284, 'bourn': 2285, 'split': 2286, 'behav': 2287, 'proceed': 2288, 'donald': 2289, 'nose': 2290, 'yell': 2291, 'entri': 2292, 'hong': 2293, 'un': 2294, 'unconvinc': 2295, 'gather': 2296, 'confess': 2297, 'stolen': 2298, 'forth': 2299, 'concentr': 2300, 'jerk': 2301, 'crush': 2302, 'buri': 2303, 'swim': 2304, 'borrow': 2305, 'lifetim': 2306, 'everywher': 2307, 'pan': 2308, 'deliveri': 2309, 'julia': 2310, 'california': 2311, 'turkey': 2312, 'lip': 2313, 'spite': 2314, 'quest': 2315, 'hoffman': 2316, 'china': 2317, 'flight': 2318, 'downright': 2319, 'offici': 2320, 'proud': 2321, 'reward': 2322, 'freeman': 2323, 'fabul': 2324, 'sir': 2325, 'worthwhil': 2326, 'fade': 2327, 'betray': 2328, 'encourag': 2329, 'jon': 2330, 'sink': 2331, 'inept': 2332, 'jail': 2333, 'notori': 2334, 'lazi': 2335, 'susan': 2336, 'relev': 2337, 'storm': 2338, 'branagh': 2339, 'bell': 2340, 'imageri': 2341, 'cousin': 2342, 'teeth': 2343, 'retard': 2344, 'survivor': 2345, 'lisa': 2346, 'bag': 2347, 'shower': 2348, 'facial': 2349, 'quirki': 2350, 'summari': 2351, 'hugh': 2352, 'finger': 2353, 'mexico': 2354, 'shark': 2355, 'bride': 2356, 'alright': 2357, 'tremend': 2358, 'toler': 2359, 'trade': 2360, 'stab': 2361, 'ha': 2362, 'blown': 2363, 'bitter': 2364, 'pose': 2365, 'hyster': 2366, 'von': 2367, 'scheme': 2368, 'address': 2369, 'afterward': 2370, 'larri': 2371, 'ned': 2372, 'bone': 2373, 'ron': 2374, 'christ': 2375, 'cruel': 2376, 'distinct': 2377, 'feed': 2378, 'swear': 2379, 'snake': 2380, 'traci': 2381, 'pursu': 2382, 'screw': 2383, 'thumb': 2384, 'tour': 2385, 'beg': 2386, 'chair': 2387, 'raw': 2388, 'photo': 2389, 'stomach': 2390, 'obscur': 2391, 'occas': 2392, 'mechan': 2393, 'southern': 2394, 'heavili': 2395, 'sidney': 2396, 'necessarili': 2397, 'chain': 2398, 'render': 2399, 'argument': 2400, 'cabin': 2401, 'gruesom': 2402, 'resist': 2403, 'holiday': 2404, 'hardi': 2405, 'indulg': 2406, 'racist': 2407, 'philip': 2408, 'understood': 2409, 'satan': 2410, 'india': 2411, 'fourth': 2412, 'stalk': 2413, 'lay': 2414, 'pregnant': 2415, 'outfit': 2416, 'forgot': 2417, 'integr': 2418, 'tongu': 2419, 'obnoxi': 2420, 'belov': 2421, 'midnight': 2422, 'slapstick': 2423, '17': 2424, 'deeper': 2425, 'restor': 2426, 'garden': 2427, 'inhabit': 2428, 'ticket': 2429, 'carol': 2430, 'magazin': 2431, 'shoe': 2432, 'devot': 2433, 'incid': 2434, 'brad': 2435, 'lincoln': 2436, 'disbelief': 2437, 'benefit': 2438, 'underground': 2439, 'divorc': 2440, 'lili': 2441, 'sandler': 2442, 'anticip': 2443, 'guarante': 2444, 'elizabeth': 2445, 'maria': 2446, 'mildli': 2447, 'greater': 2448, 'capit': 2449, 'princip': 2450, 'creation': 2451, 'explod': 2452, 'cring': 2453, 'slave': 2454, 'amazingli': 2455, 'bbc': 2456, 'extraordinari': 2457, 'lesli': 2458, 'funnier': 2459, 'introduct': 2460, 'halfway': 2461, 'punish': 2462, 'transfer': 2463, 'advantag': 2464, 'overwhelm': 2465, 'wreck': 2466, 'enhanc': 2467, 'extent': 2468, 'text': 2469, 'tap': 2470, 'deliber': 2471, 'lane': 2472, 'plant': 2473, 'jessica': 2474, 'preview': 2475, 'lo': 2476, 'horrif': 2477, 'error': 2478, 'east': 2479, 'dynam': 2480, '2000': 2481, 'sophist': 2482, 'vacat': 2483, 'homosexu': 2484, 'vincent': 2485, 'miller': 2486, 'basi': 2487, 'appli': 2488, 'ensu': 2489, 'miscast': 2490, 'elev': 2491, 'spoken': 2492, 'measur': 2493, 'steel': 2494, 'reed': 2495, 'sleazi': 2496, 'via': 2497, 'bollywood': 2498, 'extend': 2499, 'mansion': 2500, 'uncomfort': 2501, 'goofi': 2502, 'fix': 2503, 'cathol': 2504, 'assign': 2505, 'mous': 2506, 'beer': 2507, 'dentist': 2508, 'conceiv': 2509, 'alter': 2510, 'blair': 2511, 'overact': 2512, 'breathtak': 2513, 'stanley': 2514, 'melt': 2515, 'hippi': 2516, 'savag': 2517, 'daili': 2518, 'subsequ': 2519, 'properli': 2520, 'succe': 2521, 'sacrific': 2522, 'inspector': 2523, 'oppos': 2524, 'burt': 2525, 'nowaday': 2526, 'everyday': 2527, 'carpent': 2528, 'laura': 2529, 'block': 2530, 'massacr': 2531, 'circl': 2532, 'neck': 2533, 'concert': 2534, 'mob': 2535, 'christi': 2536, 'pool': 2537, 'access': 2538, 'grey': 2539, 'fallen': 2540, 'fay': 2541, 'portrait': 2542, 'lesser': 2543, 'seagal': 2544, 'sinist': 2545, 'jewish': 2546, 'isol': 2547, 'chees': 2548, 'jake': 2549, 'react': 2550, 'usa': 2551, 'competit': 2552, 'relax': 2553, 'lyric': 2554, 'nonetheless': 2555, 'ironi': 2556, 'chop': 2557, 'spiritu': 2558, 'suitabl': 2559, '2006': 2560, 'creep': 2561, 'stink': 2562, 'appal': 2563, 'nine': 2564, 'immens': 2565, 'luci': 2566, 'navi': 2567, 'user': 2568, 'retir': 2569, 'rage': 2570, 'reduc': 2571, 'showcas': 2572, 'needless': 2573, 'shirt': 2574, 'sold': 2575, 'franchis': 2576, 'adopt': 2577, 'spring': 2578, 'nut': 2579, 'zone': 2580, 'nurs': 2581, 'asham': 2582, 'per': 2583, 'jay': 2584, 'digit': 2585, 'bulli': 2586, 'uninspir': 2587, 'stanwyck': 2588, 'bath': 2589, '1940': 2590, 'amongst': 2591, 'oddli': 2592, 'sutherland': 2593, 'broadcast': 2594, '2001': 2595, 'laid': 2596, 'upper': 2597, 'illustr': 2598, 'aspir': 2599, 'fulfil': 2600, 'stylish': 2601, 'baker': 2602, 'throat': 2603, 'brando': 2604, 'disguis': 2605, 'neighborhood': 2606, 'endear': 2607, 'em': 2608, 'thief': 2609, '18': 2610, 'wwii': 2611, 'pride': 2612, 'impli': 2613, 'wanna': 2614, 'nobl': 2615, 'pound': 2616, 'shoulder': 2617, 'dawn': 2618, 'tens': 2619, 'shift': 2620, 'bo': 2621, 'bett': 2622, 'diseas': 2623, 'rochest': 2624, 'albeit': 2625, '16': 2626, 'distribut': 2627, 'prop': 2628, 'cinematograph': 2629, 'coher': 2630, 'dinner': 2631, 'silenc': 2632, 'poignant': 2633, 'wash': 2634, 'snow': 2635, 'matthau': 2636, 'rebel': 2637, 'forti': 2638, 'contract': 2639, 'knife': 2640, 'function': 2641, 'shout': 2642, 'surf': 2643, 'cancel': 2644, 'horrend': 2645, 'instinct': 2646, 'eeri': 2647, 'widmark': 2648, 'silver': 2649, 'heat': 2650, 'henc': 2651, 'duti': 2652, 'reunion': 2653, 'proof': 2654, 'elvira': 2655, 'internet': 2656, 'mindless': 2657, 'height': 2658, 'cannib': 2659, 'derek': 2660, 'chuck': 2661, 'etern': 2662, 'greatli': 2663, 'torn': 2664, 'elvi': 2665, 'innov': 2666, 'premier': 2667, 'glori': 2668, 'spielberg': 2669, 'mill': 2670, 'alik': 2671, 'absorb': 2672, 'neat': 2673, 'pie': 2674, 'repetit': 2675, 'musician': 2676, 'incoher': 2677, 'lovabl': 2678, 'horrifi': 2679, 'racism': 2680, 'diamond': 2681, 'nelson': 2682, 'wealthi': 2683, 'infam': 2684, 'homag': 2685, 'precis': 2686, 'bang': 2687, 'fbi': 2688, 'itali': 2689, 'redempt': 2690, 'announc': 2691, 'burton': 2692, 'crisi': 2693, 'blank': 2694, 'britain': 2695, 'trite': 2696, 'happili': 2697, 'dedic': 2698, 'hammer': 2699, 'parallel': 2700, 'wilder': 2701, 'helen': 2702, 'flop': 2703, 'ensembl': 2704, 'streisand': 2705, 'resolut': 2706, 'chaplin': 2707, 'pat': 2708, 'plastic': 2709, 'carter': 2710, 'factori': 2711, 'cube': 2712, 'mar': 2713, 'oil': 2714, 'disagre': 2715, 'conclud': 2716, 'triumph': 2717, 'st': 2718, 'broke': 2719, 'march': 2720, 'weight': 2721, 'vega': 2722, 'rocket': 2723, 'own': 2724, 'fighter': 2725, 'climb': 2726, 'row': 2727, 'bush': 2728, 'chuckl': 2729, 'thug': 2730, 'enorm': 2731, 'sensibl': 2732, 'lust': 2733, 'unforgett': 2734, 'luca': 2735, 'mst3k': 2736, 'dump': 2737, 'spare': 2738, 'meaning': 2739, 'wherea': 2740, 'kurt': 2741, 'dane': 2742, 'boot': 2743, 'rap': 2744, 'bobbi': 2745, 'fifti': 2746, 'adequ': 2747, 'butt': 2748, 'stress': 2749, 'arnold': 2750, 'brand': 2751, 'threat': 2752, 'difficulti': 2753, 'dear': 2754, 'engin': 2755, 'caricatur': 2756, 'karloff': 2757, 'ego': 2758, 'elabor': 2759, 'fest': 2760, 'ralph': 2761, 'barri': 2762, 'secretari': 2763, 'swing': 2764, 'arrog': 2765, 'polish': 2766, 'journalist': 2767, 'homeless': 2768, 'hamlet': 2769, 'flynn': 2770, 'grate': 2771, 'tool': 2772, 'simpson': 2773, 'unbear': 2774, 'conspiraci': 2775, 'induc': 2776, 'resort': 2777, 'fanci': 2778, 'puppet': 2779, 'float': 2780, 'spike': 2781, 'arrang': 2782, 'pig': 2783, 'guilt': 2784, 'basement': 2785, 'cruis': 2786, 'exercis': 2787, 'muppet': 2788, 'tribut': 2789, 'choreograph': 2790, 'phillip': 2791, 'boll': 2792, 'korean': 2793, 'file': 2794, 'ward': 2795, 'puzzl': 2796, '24': 2797, 'slip': 2798, 'ham': 2799, 'toilet': 2800, 'document': 2801, 'layer': 2802, 'item': 2803, 'fianc': 2804, 'medium': 2805, 'tower': 2806, 'babe': 2807, 'scarecrow': 2808, 'editor': 2809, 'stan': 2810, 'portion': 2811, 'superfici': 2812, 'assur': 2813, 'inexplic': 2814, 'persona': 2815, 'larger': 2816, 'catherin': 2817, 'orient': 2818, 'territori': 2819, 'philosoph': 2820, 'spark': 2821, 'minim': 2822, 'glover': 2823, 'transit': 2824, 'librari': 2825, 'slaughter': 2826, 'denzel': 2827, 'doc': 2828, 'walken': 2829, 'financi': 2830, 'jeremi': 2831, 'shi': 2832, 'curti': 2833, 'pg': 2834, 'dorothi': 2835, 'jet': 2836, 'owe': 2837, 'wolf': 2838, 'boredom': 2839, 'ban': 2840, 'sneak': 2841, 'ambigu': 2842, 'cusack': 2843, 'multi': 2844, 'hudson': 2845, 'backdrop': 2846, 'metaphor': 2847, 'eleph': 2848, 'whale': 2849, 'profound': 2850, 'ultra': 2851, 'elsewher': 2852, '2005': 2853, 'gadget': 2854, 'notion': 2855, 'stiff': 2856, 'hack': 2857, 'rave': 2858, 'implaus': 2859, 'union': 2860, 'birthday': 2861, 'viru': 2862, 'hawk': 2863, 'slight': 2864, 'deriv': 2865, 'superhero': 2866, 'bibl': 2867, 'eva': 2868, 'lloyd': 2869, 'distanc': 2870, 'afford': 2871, 'pad': 2872, 'squar': 2873, 'reader': 2874, 'newspap': 2875, 'urg': 2876, 'eastwood': 2877, '1st': 2878, 'poison': 2879, 'canada': 2880, 'disc': 2881, 'restaur': 2882, 'drown': 2883, 'essenc': 2884, 'cure': 2885, 'charisma': 2886, 'button': 2887, 'skit': 2888, 'sadist': 2889, 'health': 2890, 'montag': 2891, 'huh': 2892, 'spread': 2893, 'heston': 2894, 'gradual': 2895, 'lab': 2896, 'maniac': 2897, 'fetch': 2898, 'estat': 2899, 'invest': 2900, 'dealt': 2901, 'scoobi': 2902, 'peak': 2903, 'companion': 2904, 'muslim': 2905, 'godfath': 2906, 'gothic': 2907, 'ritter': 2908, 'servant': 2909, 'countless': 2910, 'cup': 2911, 'tea': 2912, 'alli': 2913, 'kane': 2914, 'subtleti': 2915, 'miik': 2916, 'briefli': 2917, 'heroic': 2918, 'iii': 2919, 'charismat': 2920, 'elect': 2921, 'electr': 2922, 'salli': 2923, 'nuanc': 2924, 'toss': 2925, 'ingredi': 2926, 'resourc': 2927, 'admittedli': 2928, 'bud': 2929, 'grandmoth': 2930, 'wannab': 2931, 'tender': 2932, 'cole': 2933, 'reel': 2934, 'neil': 2935, 'reev': 2936, 'label': 2937, 'mafia': 2938, 'shall': 2939, 'pit': 2940, 'poverti': 2941, 'stronger': 2942, 'kubrick': 2943, 'pauli': 2944, 'punk': 2945, 'dawson': 2946, 'mild': 2947, 'gate': 2948, 'stood': 2949, 'carrey': 2950, 'astair': 2951, 'cox': 2952, 'useless': 2953, 'easier': 2954, 'bakshi': 2955, 'ian': 2956, 'smooth': 2957, 'smash': 2958, 'updat': 2959, 'assault': 2960, 'burst': 2961, 'terri': 2962, 'outcom': 2963, 'fond': 2964, 'cardboard': 2965, 'tag': 2966, 'samurai': 2967, 'exchang': 2968, 'increasingli': 2969, 'coincid': 2970, 'divers': 2971, 'fist': 2972, 'resolv': 2973, 'vulner': 2974, 'melodramat': 2975, 'qualifi': 2976, '2002': 2977, 'sketch': 2978, 'vari': 2979, 'rex': 2980, 'suspend': 2981, 'reynold': 2982, 'templ': 2983, 'blast': 2984, 'conveni': 2985, 'luckili': 2986, 'brillianc': 2987, 'insert': 2988, 'scratch': 2989, 'tame': 2990, 'be': 2991, 'gotta': 2992, 'meat': 2993, 'jami': 2994, 'soprano': 2995, 'hamilton': 2996, 'ambiti': 2997, 'farm': 2998, 'pin': 2999, 'walker': 3000, 'seventi': 3001, 'nuclear': 3002, 'strictli': 3003, 'matthew': 3004, 'fisher': 3005, 'coach': 3006, 'worthless': 3007, 'spooki': 3008, 'struck': 3009, 'empir': 3010, 'closet': 3011, 'joey': 3012, 'cave': 3013, 'monk': 3014, 'eccentr': 3015, 'clock': 3016, 'convolut': 3017, 'kudo': 3018, 'timeless': 3019, 'instantli': 3020, 'revers': 3021, 'butcher': 3022, 'ninja': 3023, 'recreat': 3024, 'discoveri': 3025, 'brosnan': 3026, 'grasp': 3027, 'evok': 3028, 'importantli': 3029, 'declar': 3030, 'gray': 3031, 'communist': 3032, 'clown': 3033, 'pal': 3034, 'mitchel': 3035, 'partli': 3036, 'cliff': 3037, 'sidekick': 3038, 'sloppi': 3039, 'bleak': 3040, 'eighti': 3041, 'inconsist': 3042, 'miracl': 3043, 'seller': 3044, 'fifteen': 3045, 'norman': 3046, 'selfish': 3047, 'wipe': 3048, 'aforement': 3049, '45': 3050, 'psychiatrist': 3051, 'lifestyl': 3052, 'flawless': 3053, 'chew': 3054, 'destin': 3055, 'enthusiast': 3056, 'australia': 3057, 'superbl': 3058, 'cheek': 3059, 'farc': 3060, 'ho': 3061, 'debat': 3062, 'stoog': 3063, 'seed': 3064, 'piano': 3065, 'websit': 3066, 'dash': 3067, 'soviet': 3068, 'regardless': 3069, 'directori': 3070, 'abc': 3071, 'akshay': 3072, 'slice': 3073, 'kitchen': 3074, 'splatter': 3075, 'emili': 3076, 'incompet': 3077, 'wick': 3078, 'bash': 3079, 'pressur': 3080, 'dire': 3081, 'wrestl': 3082, 'drivel': 3083, 'anni': 3084, 'pleasantli': 3085, 'beaten': 3086, 'recov': 3087, 'artifici': 3088, 'chapter': 3089, 'suppli': 3090, 'mann': 3091, 'ken': 3092, 'increas': 3093, 'cagney': 3094, 'jar': 3095, 'seduc': 3096, 'flower': 3097, 'doo': 3098, 'cameron': 3099, 'dave': 3100, 'boil': 3101, 'helicopt': 3102, 'curios': 3103, 'prize': 3104, 'judi': 3105, 'blob': 3106, 'cia': 3107, 'lou': 3108, 'distant': 3109, 'glow': 3110, 'duo': 3111, 'favour': 3112, 'turner': 3113, 'goldberg': 3114, 'psychot': 3115, 'combat': 3116, 'drunken': 3117, 'web': 3118, 'craig': 3119, 'ellen': 3120, 'perri': 3121, 'splendid': 3122, 'hop': 3123, 'craven': 3124, 'eleg': 3125, 'laurel': 3126, 'panic': 3127, 'ranger': 3128, 'francisco': 3129, 'glenn': 3130, 'gentl': 3131, 'hatr': 3132, 'fx': 3133, 'min': 3134, '20th': 3135, 'alexand': 3136, 'flip': 3137, 'falk': 3138, 'greek': 3139, 'plausibl': 3140, 'slightest': 3141, 'philosophi': 3142, 'graduat': 3143, 'modesti': 3144, 'shortli': 3145, 'wizard': 3146, 'rid': 3147, 'gandhi': 3148, 'ruth': 3149, 'harm': 3150, 'unpleas': 3151, 'dracula': 3152, 'preciou': 3153, 'jealou': 3154, 'fund': 3155, 'futurist': 3156, 'tall': 3157, 'ocean': 3158, 'holi': 3159, 'we': 3160, 'knight': 3161, 'legal': 3162, 'manhattan': 3163, 'felix': 3164, 'lend': 3165, 'thread': 3166, 'forbidden': 3167, 'mock': 3168, 'explicit': 3169, 'bless': 3170, 'overdon': 3171, 'giallo': 3172, 'nod': 3173, 'reviv': 3174, 'digniti': 3175, 'scientif': 3176, 'childish': 3177, 'ami': 3178, 'tank': 3179, 'yesterday': 3180, 'torment': 3181, 'verhoeven': 3182, 'nerv': 3183, 'unwatch': 3184, 'margaret': 3185, 'eve': 3186, '99': 3187, 'awe': 3188, 'broad': 3189, 'awaken': 3190, 'elderli': 3191, '2004': 3192, 'thick': 3193, 'repeatedli': 3194, 'fever': 3195, 'pirat': 3196, 'mel': 3197, 'uniform': 3198, 'bin': 3199, 'royal': 3200, 'ah': 3201, 'ambit': 3202, 'roman': 3203, 'automat': 3204, 'eas': 3205, 'griffith': 3206, 'acclaim': 3207, 'lean': 3208, 'publish': 3209, 'launch': 3210, 'custom': 3211, 'timothi': 3212, 'rivet': 3213, 'politician': 3214, 'romero': 3215, 'stiller': 3216, 'kay': 3217, 'absenc': 3218, 'crook': 3219, 'gabriel': 3220, 'homicid': 3221, 'phrase': 3222, 'stinker': 3223, 'foul': 3224, 'antic': 3225, 'tomato': 3226, 'darker': 3227, 'transport': 3228, 'bathroom': 3229, 'termin': 3230, 'wallac': 3231, 'pulp': 3232, 'warren': 3233, 'sunshin': 3234, 'pierc': 3235, 'purpl': 3236, 'brazil': 3237, 'horrid': 3238, 'evolv': 3239, '2003': 3240, 'donna': 3241, 'viciou': 3242, 'q': 3243, 'kenneth': 3244, 'prom': 3245, 'contrari': 3246, 'saint': 3247, 'rambo': 3248, 'pray': 3249, 'album': 3250, 'li': 3251, 'revolutionari': 3252, 'karen': 3253, 'marin': 3254, 'juvenil': 3255, 'hollow': 3256, 'choreographi': 3257, 'ought': 3258, 'eyr': 3259, 'coloni': 3260, 'sixti': 3261, 'packag': 3262, 'awak': 3263, 'option': 3264, 'stole': 3265, 'boast': 3266, 'overr': 3267, 'beatti': 3268, 'conserv': 3269, 'blade': 3270, 'ramon': 3271, 'ireland': 3272, 'dose': 3273, 'nerd': 3274, 'kapoor': 3275, 'mildr': 3276, 'candid': 3277, 'defi': 3278, 'twelv': 3279, 'mummi': 3280, 'astonish': 3281, 'trio': 3282, 'detract': 3283, 'protest': 3284, 'natali': 3285, 'altman': 3286, 'confirm': 3287, 'jazz': 3288, 'fulci': 3289, 'collabor': 3290, 'funer': 3291, 'global': 3292, 'kirk': 3293, 'flame': 3294, 'destini': 3295, 'shade': 3296, 'bull': 3297, 'whip': 3298, 'blake': 3299, 'tommi': 3300, 'leap': 3301, 'delici': 3302, 'mystic': 3303, 'audio': 3304, 'spit': 3305, 'nicholson': 3306, 'bottl': 3307, 'racial': 3308, 'enterpris': 3309, 'yellow': 3310, 'merci': 3311, 'harder': 3312, 'staff': 3313, 'vivid': 3314, 'fonda': 3315, 'altogeth': 3316, 'enchant': 3317, 'neo': 3318, 'reunit': 3319, 'popcorn': 3320, 'visibl': 3321, 'meaningless': 3322, 'adolesc': 3323, 'bedroom': 3324, 'inherit': 3325, 'pseudo': 3326, 'todd': 3327, 'threw': 3328, 'swedish': 3329, 'uneven': 3330, 'await': 3331, 'befriend': 3332, 'suspici': 3333, 'tip': 3334, 'madonna': 3335, 'decor': 3336, 'voight': 3337, 'bust': 3338, 'moodi': 3339, 'reserv': 3340, 'ruthless': 3341, 'kennedi': 3342, 'roommat': 3343, 'respond': 3344, 'lawrenc': 3345, 'leonard': 3346, 'wire': 3347, 'fanat': 3348, 'exhibit': 3349, 'synopsi': 3350, 'lemmon': 3351, 'crocodil': 3352, 'jew': 3353, 'edi': 3354, 'atlanti': 3355, 'unsettl': 3356, 'incident': 3357, 'audit': 3358, 'chao': 3359, 'bradi': 3360, 'holli': 3361, 'carl': 3362, 'bold': 3363, 'ventur': 3364, 'garner': 3365, 'bargain': 3366, 'rural': 3367, 'clint': 3368, 'dimens': 3369, 'voyag': 3370, 'abysm': 3371, 'palma': 3372, 'centr': 3373, '2007': 3374, 'clumsi': 3375, 'ant': 3376, '2nd': 3377, 'humili': 3378, 'immigr': 3379, 'versu': 3380, 'neglect': 3381, 'acknowledg': 3382, 'cd': 3383, 'lit': 3384, 'hart': 3385, 'cari': 3386, 'imperson': 3387, 'poetic': 3388, 'nearbi': 3389, 'elimin': 3390, 'trail': 3391, 'mall': 3392, 'daddi': 3393, 'troop': 3394, 'timon': 3395, 'tiger': 3396, 'cuba': 3397, 'characterist': 3398, 'echo': 3399, 'wealth': 3400, 'repuls': 3401, 'jeffrey': 3402, 'homer': 3403, 'infect': 3404, 'celluloid': 3405, 'marshal': 3406, 'solo': 3407, 'mistaken': 3408, 'collaps': 3409, 'domest': 3410, 'pun': 3411, 'saga': 3412, 'prejudic': 3413, 'paus': 3414, 'mickey': 3415, 'ginger': 3416, 'harvey': 3417, 'gear': 3418, '1996': 3419, 'leon': 3420, 'apolog': 3421, 'inappropri': 3422, 'equip': 3423, 'assembl': 3424, 'olivi': 3425, 'chest': 3426, 'cake': 3427, 'sore': 3428, 'undoubtedli': 3429, 'inan': 3430, 'pant': 3431, 'coffe': 3432, 'promin': 3433, 'coat': 3434, 'tribe': 3435, 'interrupt': 3436, 'milk': 3437, 'hbo': 3438, 'aveng': 3439, 'primari': 3440, 'highest': 3441, 'brooklyn': 3442, 'colleagu': 3443, 'pen': 3444, 'humbl': 3445, 'instant': 3446, 'retain': 3447, 'consum': 3448, 'furthermor': 3449, 'pot': 3450, 'solut': 3451, 'polanski': 3452, 'colonel': 3453, 'institut': 3454, 'airplan': 3455, 'devast': 3456, 'trace': 3457, 'maggi': 3458, 'florida': 3459, 'embrac': 3460, 'vulgar': 3461, 'jenni': 3462, 'exot': 3463, 'linda': 3464, '1999': 3465, 'wive': 3466, 'bowl': 3467, 'gender': 3468, 'cope': 3469, 'descend': 3470, 'sale': 3471, 'dutch': 3472, 'outer': 3473, 'strain': 3474, 'godzilla': 3475, 'smaller': 3476, 'rick': 3477, 'illog': 3478, 'principl': 3479, 'disabl': 3480, 'seduct': 3481, 'ya': 3482, 'poke': 3483, 'dian': 3484, '3rd': 3485, 'bubbl': 3486, 'cue': 3487, 'primarili': 3488, 'dive': 3489, 'lol': 3490, 'inferior': 3491, 'yard': 3492, 'blatant': 3493, 'mixtur': 3494, 'secondli': 3495, 'rabbit': 3496, 'scope': 3497, 'vast': 3498, 'hal': 3499, 'dud': 3500, 'beneath': 3501, 'glamor': 3502, 'predecessor': 3503, 'gloriou': 3504, 'gundam': 3505, 'devoid': 3506, 'talki': 3507, 'z': 3508, 'arab': 3509, 'simplist': 3510, 'countrysid': 3511, 'museum': 3512, 'aggress': 3513, 'disjoint': 3514, 'invas': 3515, 'garbo': 3516, 'trademark': 3517, 'alfr': 3518, 'alert': 3519, 'casual': 3520, 'hideou': 3521, 'pearl': 3522, 'domino': 3523, 'shelf': 3524, 'april': 3525, 'myer': 3526, 'breed': 3527, 'et': 3528, 'senseless': 3529, 'shirley': 3530, 'grinch': 3531, 'streep': 3532, 'illeg': 3533, 'khan': 3534, 'vanish': 3535, 'maci': 3536, 'applaud': 3537, 'experiment': 3538, 'boom': 3539, 'mail': 3540, 'rendit': 3541, 'obtain': 3542, 'stellar': 3543, 'robberi': 3544, 'hopeless': 3545, 'acid': 3546, 'disgrac': 3547, 'defens': 3548, 'stir': 3549, 'loyal': 3550, 'stack': 3551, 'sh': 3552, 'slide': 3553, 'hardcor': 3554, 'unhappi': 3555, 'oz': 3556, 'robinson': 3557, 'uwe': 3558, 'mayor': 3559, 'craze': 3560, 'dismiss': 3561, 'incomprehens': 3562, 'tenant': 3563, 'rifl': 3564, 'counter': 3565, 'topless': 3566, 'wont': 3567, 'diana': 3568, 'span': 3569, 'emphasi': 3570, 'fri': 3571, 'dicken': 3572, 'declin': 3573, 'berlin': 3574, 'grandfath': 3575, 'spider': 3576, 'blew': 3577, 'recruit': 3578, 'amanda': 3579, 'hartley': 3580, 'tempt': 3581, 'soccer': 3582, 'psychic': 3583, 'scroog': 3584, 'lumet': 3585, 'intim': 3586, 'trashi': 3587, 'justin': 3588, 'shaw': 3589, 'sibl': 3590, 'goer': 3591, 'ethnic': 3592, 'bitch': 3593, 'riot': 3594, 'shed': 3595, 'resurrect': 3596, 'woo': 3597, 'ration': 3598, 'revolt': 3599, 'sympath': 3600, 'niro': 3601, 'parad': 3602, 'faster': 3603, 'wet': 3604, 'porno': 3605, 'rider': 3606, 'feminist': 3607, 'dealer': 3608, 'choru': 3609, 'commend': 3610, 'ballet': 3611, '00': 3612, 'hesit': 3613, 'jonathan': 3614, 'slick': 3615, 'mario': 3616, 'weakest': 3617, 'eager': 3618, 'gap': 3619, 'ensur': 3620, 'steam': 3621, 'enlighten': 3622, 'farmer': 3623, 'unreal': 3624, 'region': 3625, 'lena': 3626, 'nephew': 3627, 'patriot': 3628, 'honesti': 3629, 'biographi': 3630, 'wheel': 3631, 'partial': 3632, 'hopper': 3633, 'worm': 3634, 'immort': 3635, 'wendi': 3636, 'andr': 3637, 'confin': 3638, 'similarli': 3639, 'sandra': 3640, 'owen': 3641, 'composit': 3642, 'snap': 3643, 'victori': 3644, 'wore': 3645, 'vice': 3646, 'hung': 3647, 'leo': 3648, 'blunt': 3649, 'repress': 3650, 'charlott': 3651, 'mutant': 3652, 'safeti': 3653, 'kingdom': 3654, 'util': 3655, 'sappi': 3656, 'macarthur': 3657, 'morri': 3658, 'franco': 3659, 'skull': 3660, 'nostalg': 3661, 'properti': 3662, 'psychopath': 3663, 'prequel': 3664, 'exit': 3665, 'bumbl': 3666, 'dust': 3667, 'nervou': 3668, 'tad': 3669, 'campbel': 3670, 'despair': 3671, '1972': 3672, 'repli': 3673, 'compens': 3674, 'recycl': 3675, 'emperor': 3676, 'whoopi': 3677, 'farrel': 3678, 'deed': 3679, 'rocki': 3680, 'drum': 3681, 'heartbreak': 3682, 'dalton': 3683, 'snl': 3684, 'bergman': 3685, 'drain': 3686, 'acquir': 3687, 'rambl': 3688, 'valuabl': 3689, 'rope': 3690, 'miseri': 3691, 'bonu': 3692, 'latin': 3693, 'cg': 3694, 'pattern': 3695, 'strand': 3696, 'bow': 3697, 'speci': 3698, 'montana': 3699, 'del': 3700, 'hyde': 3701, 'kyle': 3702, 'thru': 3703, 'tail': 3704, 'compass': 3705, 'contempl': 3706, 'gimmick': 3707, 'oppress': 3708, 'radic': 3709, 'da': 3710, 'percept': 3711, 'rapist': 3712, 'orson': 3713, 'slug': 3714, 'rotten': 3715, 'mistress': 3716, 'downhil': 3717, 'romp': 3718, 'bleed': 3719, 'tonight': 3720, 'carradin': 3721, 'airport': 3722, 'wacki': 3723, 'gal': 3724, '35': 3725, 'roth': 3726, 'pour': 3727, 'martian': 3728, 'chess': 3729, 'olli': 3730, 'belt': 3731, '1983': 3732, 'edgar': 3733, 'arguabl': 3734, 'pervert': 3735, 'shelley': 3736, 'tackl': 3737, 'pervers': 3738, 'arc': 3739, 'mislead': 3740, 'paltrow': 3741, 'slash': 3742, 'banal': 3743, 'attorney': 3744, 'dazzl': 3745, 'stilt': 3746, 'programm': 3747, 'taught': 3748, 'unpredict': 3749, 'pursuit': 3750, 'champion': 3751, 'melodi': 3752, 'heal': 3753, 'preach': 3754, 'tooth': 3755, 'orang': 3756, 'graham': 3757, 'tiresom': 3758, 'virginia': 3759, 'employe': 3760, 'maid': 3761, 'cleverli': 3762, 'vocal': 3763, 'chicken': 3764, 'closest': 3765, 'poem': 3766, 'raymond': 3767, 'rubi': 3768, 'marti': 3769, 'vengeanc': 3770, 'conneri': 3771, 'duval': 3772, 'franki': 3773, 'dixon': 3774, 'plight': 3775, 'bela': 3776, 'uplift': 3777, 'gambl': 3778, 'mesmer': 3779, 'passeng': 3780, 'sensat': 3781, 'secretli': 3782, 'clone': 3783, 'quarter': 3784, 'giggl': 3785, 'abraham': 3786, 'bay': 3787, 'crystal': 3788, 'gerard': 3789, 'whine': 3790, 'tube': 3791, 'outing': 3792, 'calm': 3793, 'inject': 3794, 'mute': 3795, 'amitabh': 3796, 'habit': 3797, 'engross': 3798, '1968': 3799, 'volum': 3800, 'climact': 3801, 'swallow': 3802, 'suffic': 3803, 'yawn': 3804, 'profan': 3805, 'numb': 3806, 'paranoia': 3807, 'convincingli': 3808, 'lundgren': 3809, 'scottish': 3810, 'monologu': 3811, 'pokemon': 3812, 'sirk': 3813, 'extens': 3814, 'iran': 3815, 'ethan': 3816, 'underst': 3817, 'surpass': 3818, 'taxi': 3819, 'earl': 3820, 'richardson': 3821, 'septemb': 3822, 'plod': 3823, 'profess': 3824, 'lowest': 3825, 'fed': 3826, 'backward': 3827, 'chicago': 3828, 'linger': 3829, 'expand': 3830, 'abort': 3831, 'grotesqu': 3832, 'poetri': 3833, 'franci': 3834, 'frankenstein': 3835, 'bend': 3836, 'trend': 3837, 'spock': 3838, 'junior': 3839, 'nichola': 3840, 'meander': 3841, 'dispos': 3842, 'im': 3843, 'austen': 3844, 'eugen': 3845, 'catchi': 3846, 'hum': 3847, 'compliment': 3848, 'cannon': 3849, 'waitress': 3850, 'sue': 3851, 'instrument': 3852, 'der': 3853, 'spoke': 3854, 'econom': 3855, 'lure': 3856, 'household': 3857, 'dysfunct': 3858, 'rubber': 3859, 'mundan': 3860, 'greedi': 3861, 'tourist': 3862, 'descent': 3863, 'literatur': 3864, 'muddl': 3865, 'myth': 3866, 'simplic': 3867, 'rant': 3868, 'nostalgia': 3869, 'stallon': 3870, 'sissi': 3871, 'alongsid': 3872, 'louis': 3873, 'hello': 3874, 'deaf': 3875, 'recognis': 3876, 'dictat': 3877, 'mortal': 3878, 'phantom': 3879, 'irrelev': 3880, 'dement': 3881, 'equival': 3882, 'occupi': 3883, 'stale': 3884, 'crucial': 3885, 'firstli': 3886, 'recognit': 3887, 'randi': 3888, 'map': 3889, 'flee': 3890, 'cent': 3891, 'june': 3892, 'carel': 3893, 'eaten': 3894, 'coast': 3895, 'mankind': 3896, 'insur': 3897, 'bacal': 3898, 'furi': 3899, 'lang': 3900, 'omen': 3901, 'phoni': 3902, 'molli': 3903, 'duck': 3904, 'damon': 3905, 'freez': 3906, 'twilight': 3907, 'distinguish': 3908, 'grayson': 3909, 'likewis': 3910, 'heel': 3911, 'bump': 3912, '1973': 3913, 'ashley': 3914, 'daisi': 3915, 'rude': 3916, 'drake': 3917, 'newli': 3918, 'bike': 3919, 'lengthi': 3920, 'labor': 3921, 'onlin': 3922, 'blackmail': 3923, 'reign': 3924, 'cyborg': 3925, 'loyalti': 3926, 'wisdom': 3927, 'dreari': 3928, 'buffalo': 3929, 'damm': 3930, 'biko': 3931, 'antwon': 3932, 'rooney': 3933, 'butler': 3934, 'prey': 3935, 'emphas': 3936, 'boxer': 3937, 'sailor': 3938, 'proce': 3939, 'unorigin': 3940, 'baddi': 3941, 'nineti': 3942, 'ridden': 3943, 'provoc': 3944, 'startl': 3945, 'incorpor': 3946, 'analysi': 3947, 'chronicl': 3948, 'keith': 3949, 'vein': 3950, 'worn': 3951, 'attribut': 3952, 'pink': 3953, 'inher': 3954, 'approv': 3955, 'interior': 3956, 'tunnel': 3957, 'barrymor': 3958, 'exposur': 3959, 'basketbal': 3960, 'fleet': 3961, 'julian': 3962, 'predat': 3963, 'belushi': 3964, 'meg': 3965, 'robbin': 3966, 'stalker': 3967, 'indiffer': 3968, 'hypnot': 3969, 'millionair': 3970, 'carla': 3971, 'barrel': 3972, 'mormon': 3973, 'othello': 3974, 'unrel': 3975, 'er': 3976, 'elm': 3977, 'nicol': 3978, 'degrad': 3979, 'undeni': 3980, 'meyer': 3981, 'underli': 3982, 'simmon': 3983, 'bunni': 3984, 'mighti': 3985, 'drift': 3986, 'walsh': 3987, 'substitut': 3988, 'improvis': 3989, 'condemn': 3990, 'mtv': 3991, 'exquisit': 3992, 'enthusiasm': 3993, 'roof': 3994, 'disord': 3995, 'hay': 3996, 'priceless': 3997, 'vital': 3998, 'firm': 3999, 'warmth': 4000, 'marion': 4001, 'lampoon': 4002, 'palac': 4003, 'agenda': 4004, '3d': 4005, 'unawar': 4006, 'watson': 4007, 'edgi': 4008, 'novak': 4009, 'greed': 4010, 'shove': 4011, 'dolph': 4012, 'nyc': 4013, 'reid': 4014, 'alarm': 4015, 'rukh': 4016, 'alison': 4017, 'errol': 4018, 'angela': 4019, 'israel': 4020, 'campaign': 4021, 'pamela': 4022, 'coup': 4023, 'drip': 4024, 'profit': 4025, 'showdown': 4026, 'what': 4027, 'ponder': 4028, 'cassidi': 4029, 'simultan': 4030, 'crown': 4031, 'minimum': 4032, 'session': 4033, 'thompson': 4034, 'glanc': 4035, 'peck': 4036, 'orlean': 4037, 'gestur': 4038, 'distort': 4039, 'peril': 4040, 'eastern': 4041, 'preserv': 4042, 'unleash': 4043, 'petti': 4044, 'iraq': 4045, 'valentin': 4046, 'nun': 4047, 'sergeant': 4048, '1933': 4049, 'spain': 4050, 'beatl': 4051, '13th': 4052, 'testament': 4053, 'randomli': 4054, 'zizek': 4055, 'championship': 4056, 'valley': 4057, 'climat': 4058, 'realm': 4059, 'empathi': 4060, 'scotland': 4061, 'brenda': 4062, 'stroke': 4063, 'gentleman': 4064, 'restrain': 4065, 'bro': 4066, 'rout': 4067, 'han': 4068, 'mon': 4069, 'unimagin': 4070, 'travesti': 4071, 'reson': 4072, 'calib': 4073, 'represent': 4074, 'perpetu': 4075, 'fido': 4076, 'exposit': 4077, 'crawl': 4078, 'regist': 4079, 'wig': 4080, 'contradict': 4081, 'jan': 4082, 'buster': 4083, 'cooki': 4084, 'cream': 4085, '1984': 4086, 'kurosawa': 4087, 'miyazaki': 4088, 'shootout': 4089, 'din': 4090, 'crow': 4091, 'stake': 4092, 'quinn': 4093, 'sabrina': 4094, 'passabl': 4095, 'greg': 4096, 'unseen': 4097, 'abomin': 4098, 'wax': 4099, 'perceiv': 4100, 'absent': 4101, 'mclaglen': 4102, 'spacey': 4103, 'painter': 4104, 'warrant': 4105, 'shaki': 4106, 'cloud': 4107, 'pretens': 4108, 'meryl': 4109, 'censor': 4110, 'josh': 4111, 'tacki': 4112, 'pole': 4113, 'demis': 4114, 'shoddi': 4115, '1997': 4116, 'sammi': 4117, 'baldwin': 4118, 'fuller': 4119, 'traumat': 4120, 'sucker': 4121, 'monoton': 4122, 'compromis': 4123, 'femm': 4124, 'soderbergh': 4125, 'stargat': 4126, '1987': 4127, 'ustinov': 4128, 'geek': 4129, 'derang': 4130, 'distress': 4131, 'businessman': 4132, 'ross': 4133, 'dana': 4134, 'unsatisfi': 4135, 'darren': 4136, 'delic': 4137, 'crawford': 4138, 'judgment': 4139, 'kumar': 4140, 'antonioni': 4141, 'primit': 4142, 'tarantino': 4143, 'anchor': 4144, 'fenc': 4145, 'wholli': 4146, 'reluct': 4147, 'unravel': 4148, 'norm': 4149, 'valid': 4150, '1993': 4151, 'click': 4152, 'deceas': 4153, 'accuraci': 4154, 'polici': 4155, 'tech': 4156, 'clash': 4157, 'furiou': 4158, 'nathan': 4159, 'expedit': 4160, 'sid': 4161, 'dee': 4162, 'exclus': 4163, 'jewel': 4164, 'deniro': 4165, 'austin': 4166, 'correctli': 4167, 'seal': 4168, 'verbal': 4169, 'uncov': 4170, 'fog': 4171, 'temper': 4172, 'patienc': 4173, 'hallucin': 4174, 'murray': 4175, 'slam': 4176, 'clerk': 4177, 'nicola': 4178, '1995': 4179, 'seldom': 4180, 'mode': 4181, 'joel': 4182, 'tax': 4183, '1971': 4184, 'fart': 4185, 'alec': 4186, 'crippl': 4187, '3000': 4188, 'sunni': 4189, 'sand': 4190, 'debt': 4191, 'sustain': 4192, 'fabric': 4193, 'conduct': 4194, 'roller': 4195, 'wang': 4196, 'fought': 4197, 'bake': 4198, 'dreck': 4199, 'behold': 4200, 'enforc': 4201, 'sheet': 4202, 'pocket': 4203, 'wretch': 4204, 'darn': 4205, 'unfair': 4206, 'logan': 4207, '2008': 4208, 'ritual': 4209, 'trait': 4210, 'vanc': 4211, 'shanghai': 4212, 'malon': 4213, 'critiqu': 4214, 'squad': 4215, 'outlin': 4216, 'bridget': 4217, 'shell': 4218, 'bias': 4219, 'stuart': 4220, 'canyon': 4221, 'robber': 4222, 'conscious': 4223, 'isabel': 4224, 'tactic': 4225, 'exhaust': 4226, 'preston': 4227, 'rita': 4228, 'guitar': 4229, 'stark': 4230, 'grief': 4231, 'divid': 4232, 'legaci': 4233, 'helpless': 4234, 'schedul': 4235, 'penni': 4236, 'soup': 4237, 'preposter': 4238, 'scriptwrit': 4239, 'fundament': 4240, 'sweep': 4241, 'technicolor': 4242, 'runner': 4243, 'phil': 4244, 'pete': 4245, 'despis': 4246, 'clau': 4247, 'consciou': 4248, 'alley': 4249, 'rehash': 4250, 'flair': 4251, 'connor': 4252, 'boyl': 4253, 'implic': 4254, 'unexpectedli': 4255, 'restrict': 4256, 'rear': 4257, 'marc': 4258, 'jodi': 4259, 'russia': 4260, 'sugar': 4261, 'liberti': 4262, 'drove': 4263, 'alicia': 4264, 'agenc': 4265, 'propos': 4266, 'jacket': 4267, 'lacklust': 4268, 'gregori': 4269, 'invad': 4270, 'palanc': 4271, 'cigarett': 4272, 'delv': 4273, 'passag': 4274, 'bloom': 4275, 'sniper': 4276, 'kansa': 4277, 'downey': 4278, 'inabl': 4279, 'culmin': 4280, 'sentinel': 4281, 'newman': 4282, 'vomit': 4283, 'lush': 4284, 'foxx': 4285, 'asylum': 4286, 'tripe': 4287, 'improb': 4288, 'horn': 4289, 'feat': 4290, 'behaviour': 4291, 'aesthet': 4292, 'yeti': 4293, 'rampag': 4294, 'ladder': 4295, 'chainsaw': 4296, '22': 4297, 'rehears': 4298, 'bacon': 4299, 'awhil': 4300, '1936': 4301, 'delet': 4302, 'tendenc': 4303, 'vet': 4304, 'karl': 4305, 'pale': 4306, 'cap': 4307, 'wrench': 4308, 'mccoy': 4309, 'arrow': 4310, 'sharon': 4311, 'rod': 4312, 'kolchak': 4313, 'spice': 4314, '1920': 4315, 'conscienc': 4316, 'hackney': 4317, 'coaster': 4318, 'suspicion': 4319, 'thunderbird': 4320, 'newcom': 4321, 'weav': 4322, 'loneli': 4323, 'rhythm': 4324, 'visitor': 4325, 'underneath': 4326, 'tomorrow': 4327, 'filler': 4328, 'rumor': 4329, '1988': 4330, 'amazon': 4331, 'globe': 4332, 'hungri': 4333, 'tasteless': 4334, 'wagner': 4335, 'el': 4336, 'paramount': 4337, 'minu': 4338, '1978': 4339, 'fright': 4340, 'elit': 4341, 'scoop': 4342, '19th': 4343, 'prank': 4344, 'shortcom': 4345, 'paradis': 4346, 'stream': 4347, 'hulk': 4348, 'suffici': 4349, 'wildli': 4350, 'financ': 4351, 'basing': 4352, 'sung': 4353, 'lurk': 4354, 'aristocrat': 4355, 'secondari': 4356, 'heist': 4357, 'en': 4358, 'literari': 4359, 'recogniz': 4360, 'iv': 4361, 'cancer': 4362, 'naughti': 4363, 'quietli': 4364, 'couch': 4365, 'ingeni': 4366, 'immers': 4367, 'minist': 4368, '1989': 4369, 'abrupt': 4370, '75': 4371, 'dirt': 4372, 'counterpart': 4373, 'rub': 4374, 'smell': 4375, 'penn': 4376, 'entranc': 4377, 'inmat': 4378, 'worship': 4379, 'curli': 4380, 'posey': 4381, 'ram': 4382, '1939': 4383, 'choppi': 4384, 'beverli': 4385, 'lectur': 4386, 'impos': 4387, 'standout': 4388, 'teas': 4389, 'atroc': 4390, 'chamberlain': 4391, 'springer': 4392, 'paxton': 4393, 'chavez': 4394, 'brit': 4395, 'leigh': 4396, 'tierney': 4397, 'bread': 4398, 'straightforward': 4399, 'hopkin': 4400, 'grudg': 4401, 'wwe': 4402, 'entitl': 4403, 'enthral': 4404, 'policeman': 4405, 'geni': 4406, 'convert': 4407, 'missil': 4408, 'heartfelt': 4409, 'net': 4410, 'nemesi': 4411, 'bernard': 4412, 'duel': 4413, 'laurenc': 4414, 'ace': 4415, 'sassi': 4416, '1986': 4417, 'morbid': 4418, 'transcend': 4419, 'injuri': 4420, 'misguid': 4421, 'watcher': 4422, 'esther': 4423, 'yearn': 4424, 'sublim': 4425, 'moreov': 4426, 'nolan': 4427, 'cattl': 4428, 'skeptic': 4429, 'attenborough': 4430, 'quaid': 4431, 'clan': 4432, 'lindsay': 4433, 'variat': 4434, 'ratso': 4435, 'grin': 4436, '1979': 4437, 'spiral': 4438, 'rosemari': 4439, 'hopelessli': 4440, 'brood': 4441, 'out': 4442, 'reliabl': 4443, 'kitti': 4444, 'vader': 4445, 'moder': 4446, 'artsi': 4447, 'youngest': 4448, 'mytholog': 4449, 'puppi': 4450, 'graini': 4451, 'tyler': 4452, 'kidman': 4453, 'uncut': 4454, 'poe': 4455, 'obstacl': 4456, 'characteris': 4457, 'enabl': 4458, 'unexplain': 4459, 'bean': 4460, 'carlito': 4461, 'egg': 4462, 'hk': 4463, 'cruelti': 4464, 'setup': 4465, 'bye': 4466, 'diari': 4467, 'steadi': 4468, 'buzz': 4469, 'facil': 4470, 'dont': 4471, 'oblig': 4472, 'fuel': 4473, 'disastr': 4474, 'spontan': 4475, 'effici': 4476, 'hain': 4477, 'patricia': 4478, 'acquaint': 4479, 'athlet': 4480, 'martha': 4481, 'sweat': 4482, 'niec': 4483, 'underworld': 4484, 'gina': 4485, 'christin': 4486, 'narrow': 4487, 'decept': 4488, 'clueless': 4489, 'exterior': 4490, 'despic': 4491, 'bounc': 4492, 'heap': 4493, 'kline': 4494, 'bronson': 4495, 'bewar': 4496, 'weather': 4497, 'preming': 4498, 'gillian': 4499, 'baffl': 4500, '1969': 4501, 'hammi': 4502, 'brendan': 4503, 'trigger': 4504, 'astound': 4505, 'preachi': 4506, 'biker': 4507, 'injur': 4508, 'shatter': 4509, 'enlist': 4510, 'hepburn': 4511, '73': 4512, 'outlaw': 4513, 'tick': 4514, 'analyz': 4515, 'viewpoint': 4516, 'renaiss': 4517, 'loath': 4518, 'harmless': 4519, 'headach': 4520, 'sooner': 4521, 'loi': 4522, 'circu': 4523, 'sleepwalk': 4524, 'rome': 4525, 'goof': 4526, 'virtu': 4527, 'scar': 4528, 'dilemma': 4529, 'uh': 4530, 'angst': 4531, 'insipid': 4532, 'suprem': 4533, 'housewif': 4534, 'mermaid': 4535, 'lester': 4536, 'fontain': 4537, 'taboo': 4538, 'dandi': 4539, '19': 4540, 'candl': 4541, 'mayhem': 4542, 'bent': 4543, 'claustrophob': 4544, 'phenomenon': 4545, 'camcord': 4546, 'hooker': 4547, 'spade': 4548, 'dismal': 4549, 'fluff': 4550, 'macho': 4551, 'gere': 4552, 'whore': 4553, 'slimi': 4554, 'hostag': 4555, 'redund': 4556, 'intric': 4557, 'contempt': 4558, 'boston': 4559, 'zoom': 4560, 'immatur': 4561, 'filth': 4562, 'ebert': 4563, 'foolish': 4564, 'idol': 4565, 'ariel': 4566, 'steer': 4567, 'salt': 4568, 'stair': 4569, 'hokey': 4570, 'glorifi': 4571, 'stimul': 4572, 'dish': 4573, 'guin': 4574, 'scorses': 4575, 'overlong': 4576, 'surgeri': 4577, 'corbett': 4578, 'amor': 4579, 'oldest': 4580, 'tripl': 4581, 'cassavet': 4582, 'sox': 4583, 'remad': 4584, 'antagonist': 4585, 'trivia': 4586, 'alvin': 4587, 'shield': 4588, 'assert': 4589, 'harold': 4590, 'cush': 4591, 'flirt': 4592, 'messi': 4593, 'naschi': 4594, 'frantic': 4595, 'preced': 4596, 'mutual': 4597, 'joker': 4598, 'radiat': 4599, 'rhyme': 4600, 'fascist': 4601, 'keen': 4602, 'transplant': 4603, 'perman': 4604, 'corman': 4605, 'schlock': 4606, 'mount': 4607, 'faint': 4608, 'gasp': 4609, 'margin': 4610, 'dwarf': 4611, '1976': 4612, 'nolt': 4613, 'cow': 4614, 'spree': 4615, 'conquer': 4616, 'widescreen': 4617, 'strongest': 4618, 'down': 4619, 'beard': 4620, 'spinal': 4621, 'shred': 4622, 'cohen': 4623, 'zane': 4624, '1981': 4625, 'flashi': 4626, 'obligatori': 4627, 'muscl': 4628, 'proport': 4629, 'flag': 4630, 'gabl': 4631, 'astronaut': 4632, 'divin': 4633, 'off': 4634, 'neurot': 4635, 'boob': 4636, 'instruct': 4637, 'vaniti': 4638, 'mol': 4639, 'scandal': 4640, 'strive': 4641, 'inflict': 4642, 'hara': 4643, 'flock': 4644, 'bitten': 4645, 'ritchi': 4646, 'resum': 4647, 'fishburn': 4648, 'www': 4649, 'triangl': 4650, 'bachelor': 4651, 'someday': 4652, 'wield': 4653, 'brush': 4654, 'interestingli': 4655, 'mobil': 4656, 'archiv': 4657, 'info': 4658, 'aborigin': 4659, '95': 4660, 'departur': 4661, '28': 4662, 'raj': 4663, 'carey': 4664, 'sensual': 4665, 'deer': 4666, 'persuad': 4667, 'discern': 4668, 'repris': 4669, '1945': 4670, 'danish': 4671, 'claud': 4672, 'barn': 4673, 'pacif': 4674, 'undermin': 4675, 'banter': 4676, 'jade': 4677, 'cb': 4678, 'mobster': 4679, 'vibrant': 4680, 'hilar': 4681, 'submit': 4682, 'loretta': 4683, 'dim': 4684, 'proclaim': 4685, 'heartwarm': 4686, 'anton': 4687, 'cycl': 4688, 'harrison': 4689, 'miracul': 4690, 'rot': 4691, 'recit': 4692, 'prophet': 4693, 'dylan': 4694, 'colin': 4695, 'pixar': 4696, 'axe': 4697, 'earnest': 4698, 'carlo': 4699, 'senior': 4700, 'helm': 4701, 'bate': 4702, 'traffic': 4703, 'biblic': 4704, 'wendigo': 4705, 'hapless': 4706, 'hug': 4707, 'neill': 4708, 'kathryn': 4709, 'dame': 4710, 'timberlak': 4711, 'clad': 4712, 'parson': 4713, 'melissa': 4714, 'casino': 4715, 'fragil': 4716, 'frontier': 4717, 'cher': 4718, 'artwork': 4719, 'cliffhang': 4720, 'ish': 4721, 'europa': 4722, 'luka': 4723, 'pickford': 4724, 'isra': 4725, 'foil': 4726, 'legitim': 4727, 'lucil': 4728, 'akin': 4729, 'flavor': 4730, 'redneck': 4731, 'jordan': 4732, 'antholog': 4733, 'cerebr': 4734, 'vile': 4735, 'winchest': 4736, 'wardrob': 4737, 'choke': 4738, 'milo': 4739, 'venom': 4740, 'uma': 4741, 'estrang': 4742, 'holocaust': 4743, 'illus': 4744, 'jo': 4745, 'feast': 4746, 'pc': 4747, 'http': 4748, 'mason': 4749, 'lui': 4750, 'bondag': 4751, 'bikini': 4752, 'aris': 4753, 'misfortun': 4754, 'razor': 4755, 'token': 4756, 'breakfast': 4757, 'orphan': 4758, 'articl': 4759, 'shepherd': 4760, 'eli': 4761, 'toronto': 4762, 'electron': 4763, 'vanessa': 4764, 'marlon': 4765, 'rooki': 4766, 'mathieu': 4767, 'nope': 4768, 'blatantli': 4769, 'seedi': 4770, 'northern': 4771, 'sicken': 4772, 'static': 4773, 'trier': 4774, 'alexandr': 4775, 'swept': 4776, 'dudley': 4777, 'ideolog': 4778, 'glare': 4779, 'peer': 4780, 'tack': 4781, 'cartoonish': 4782, 'frog': 4783, 'styliz': 4784, 'oppon': 4785, 'turd': 4786, 'shorter': 4787, 'affleck': 4788, 'leather': 4789, 'psych': 4790, 'knightley': 4791, 'feminin': 4792, 'magician': 4793, 'abund': 4794, 'gilbert': 4795, 'comprehend': 4796, 'audrey': 4797, 'wrestler': 4798, 'nightclub': 4799, 'highway': 4800, 'clinic': 4801, 'huston': 4802, 'howl': 4803, 'smack': 4804, 'linear': 4805, 'retriev': 4806, 'ceremoni': 4807, 'deem': 4808, 'gunga': 4809, 'boyer': 4810, 'disregard': 4811, 'fifth': 4812, 'outdat': 4813, 'charlton': 4814, '1994': 4815, 'corn': 4816, 'sleaz': 4817, 'greet': 4818, 'cuban': 4819, 'lighter': 4820, 'salman': 4821, 'deliver': 4822, 'toe': 4823, '4th': 4824, 'lifeless': 4825, 'energet': 4826, 'senat': 4827, 'evolut': 4828, 'plate': 4829, 'spine': 4830, 'bastard': 4831, 'lavish': 4832, 'summar': 4833, 'cemeteri': 4834, 'btw': 4835, 'potter': 4836, 'moe': 4837, 'chip': 4838, 'uniformli': 4839, 'newer': 4840, 'snatch': 4841, 'monument': 4842, 'durat': 4843, '1991': 4844, 'mitch': 4845, 'phenomen': 4846, 'conrad': 4847, 'whack': 4848, 'tara': 4849, 'spawn': 4850, 'compris': 4851, 'client': 4852, 'boo': 4853, 'breakdown': 4854, 'braveheart': 4855, 'collector': 4856, 'einstein': 4857, 'bogu': 4858, 'goldsworthi': 4859, 'outright': 4860, 'luxuri': 4861, 'replay': 4862, 'signal': 4863, 'creek': 4864, 'healthi': 4865, '1974': 4866, 'liu': 4867, 'neatli': 4868, 'judd': 4869, 'randolph': 4870, 'jedi': 4871, 'jam': 4872, 'ie': 4873, 'nina': 4874, 'cecil': 4875, 'capot': 4876, 'evelyn': 4877, 'ol': 4878, 'occup': 4879, 'inaccuraci': 4880, 'historian': 4881, 'bulk': 4882, 'kent': 4883, 'armstrong': 4884, 'kazan': 4885, 'spectacl': 4886, 'gilliam': 4887, 'fluid': 4888, 'alleg': 4889, 'pronounc': 4890, 'embark': 4891, 'constitut': 4892, 'clara': 4893, '1977': 4894, 'appl': 4895, 'belli': 4896, 'wtf': 4897, 'trauma': 4898, 'sorrow': 4899, 'jare': 4900, 'firmli': 4901, 'lex': 4902, 'eleven': 4903, 'undertak': 4904, 'jule': 4905, 'bori': 4906, 'undead': 4907, 'mcqueen': 4908, 'unsuspect': 4909, 'mum': 4910, 'abound': 4911, '1985': 4912, 'cape': 4913, 'bait': 4914, 'vain': 4915, 'galaxi': 4916, 'pioneer': 4917, 'miami': 4918, 'relentless': 4919, 'truman': 4920, 'propheci': 4921, 'unattract': 4922, 'porter': 4923, 'vignett': 4924, 'subtli': 4925, 'inaccur': 4926, 'roar': 4927, 'knee': 4928, 'inclus': 4929, 'meal': 4930, 'walt': 4931, 'blur': 4932, 'fruit': 4933, 'sidewalk': 4934, 'basket': 4935, 'decapit': 4936, 'ash': 4937, 'id': 4938, 'tokyo': 4939, 'forgiven': 4940, 'poker': 4941, 'palm': 4942, 'genet': 4943, 'comb': 4944, 'curtain': 4945, 'lauren': 4946, 'spray': 4947, 'rosario': 4948, 'sacrif': 4949, 'paula': 4950, 'conan': 4951, 'comprehens': 4952, 'goldblum': 4953, 'groan': 4954, 'bsg': 4955, 'kiddi': 4956, 'congratul': 4957, 'miniseri': 4958, 'antonio': 4959, 'pepper': 4960, 'aussi': 4961, 'carmen': 4962, 'lanc': 4963, 'evan': 4964, 'detach': 4965, 'sparkl': 4966, 'orchestr': 4967, 'incorrect': 4968, 'bach': 4969, 'ghetto': 4970, 'hostil': 4971, 'frontal': 4972, 'weaker': 4973, 'ingrid': 4974, 'handicap': 4975, 'playboy': 4976, 'cypher': 4977, 'verg': 4978, 'turtl': 4979, 'omin': 4980, 'weari': 4981, 'reincarn': 4982, 'assort': 4983, 'growth': 4984, '21st': 4985, 'scariest': 4986, 'drone': 4987, 'hackman': 4988, 'dubiou': 4989, 'casper': 4990, 'sophi': 4991, 'profil': 4992, 'epitom': 4993, 'substanti': 4994, 'mice': 4995, 'jill': 4996, 'asset': 4997, 'monti': 4998, 'vastli': 4999}\n"
     ]
    }
   ],
   "source": [
    "word_dict = build_dict(train_X)\n",
    "print(word_dict)"
   ]
  },
  {
   "cell_type": "markdown",
   "metadata": {},
   "source": [
    "**Question:** What are the five most frequently appearing (tokenized) words in the training set? Does it makes sense that these words appear frequently in the training set?"
   ]
  },
  {
   "cell_type": "markdown",
   "metadata": {},
   "source": [
    "**Answer:**\n",
    "'movi', 'film', 'one', 'like', 'time'\n",
    "\n",
    "\"movi\" word is nearly 51695 times\n",
    "\n",
    "it doesn't make sence in training because 'movi', 'film', 'one', 'time' has no sentiment.  "
   ]
  },
  {
   "cell_type": "code",
   "execution_count": 13,
   "metadata": {},
   "outputs": [
    {
     "name": "stdout",
     "output_type": "stream",
     "text": [
      "['movi', 'film', 'one', 'like', 'time']\n",
      "51695\n"
     ]
    }
   ],
   "source": [
    "# TODO: Use this space to determine the five most frequently appearing words in the training set.\n",
    "word_counts = Counter(np.concatenate( train_X, axis=0 ))\n",
    "sorted_words = sorted(word_counts, key=word_counts.get, reverse=True)\n",
    "print(sorted_words[0:5])\n",
    "print(word_counts['movi'])"
   ]
  },
  {
   "cell_type": "markdown",
   "metadata": {},
   "source": [
    "### Save `word_dict`\n",
    "\n",
    "Later on when we construct an endpoint which processes a submitted review we will need to make use of the `word_dict` which we have created. As such, we will save it to a file now for future use."
   ]
  },
  {
   "cell_type": "code",
   "execution_count": 14,
   "metadata": {},
   "outputs": [],
   "source": [
    "data_dir = '../data/pytorch' # The folder we will use for storing data\n",
    "if not os.path.exists(data_dir): # Make sure that the folder exists\n",
    "    os.makedirs(data_dir)"
   ]
  },
  {
   "cell_type": "code",
   "execution_count": 15,
   "metadata": {},
   "outputs": [],
   "source": [
    "with open(os.path.join(data_dir, 'word_dict.pkl'), \"wb\") as f:\n",
    "    pickle.dump(word_dict, f)"
   ]
  },
  {
   "cell_type": "markdown",
   "metadata": {},
   "source": [
    "### Transform the reviews\n",
    "\n",
    "Now that we have our word dictionary which allows us to transform the words appearing in the reviews into integers, it is time to make use of it and convert our reviews to their integer sequence representation, making sure to pad or truncate to a fixed length, which in our case is `500`."
   ]
  },
  {
   "cell_type": "code",
   "execution_count": 16,
   "metadata": {},
   "outputs": [],
   "source": [
    "def convert_and_pad(word_dict, sentence, pad=500):\n",
    "    NOWORD = 0 # We will use 0 to represent the 'no word' category\n",
    "    INFREQ = 1 # and we use 1 to represent the infrequent words, i.e., words not appearing in word_dict\n",
    "    \n",
    "    working_sentence = [NOWORD] * pad\n",
    "    \n",
    "    for word_index, word in enumerate(sentence[:pad]):\n",
    "        if word in word_dict:\n",
    "            working_sentence[word_index] = word_dict[word]\n",
    "        else:\n",
    "            working_sentence[word_index] = INFREQ\n",
    "            \n",
    "    return working_sentence, min(len(sentence), pad)\n",
    "\n",
    "def convert_and_pad_data(word_dict, data, pad=500):\n",
    "    result = []\n",
    "    lengths = []\n",
    "    \n",
    "    for sentence in data:\n",
    "        converted, leng = convert_and_pad(word_dict, sentence, pad)\n",
    "        result.append(converted)\n",
    "        lengths.append(leng)\n",
    "        \n",
    "    return np.array(result), np.array(lengths)"
   ]
  },
  {
   "cell_type": "code",
   "execution_count": 17,
   "metadata": {},
   "outputs": [],
   "source": [
    "train_X, train_X_len = convert_and_pad_data(word_dict, train_X)\n",
    "test_X, test_X_len = convert_and_pad_data(word_dict, test_X)"
   ]
  },
  {
   "cell_type": "markdown",
   "metadata": {},
   "source": [
    "As a quick check to make sure that things are working as intended, check to see what one of the reviews in the training set looks like after having been processeed. Does this look reasonable? What is the length of a review in the training set?"
   ]
  },
  {
   "cell_type": "code",
   "execution_count": 18,
   "metadata": {},
   "outputs": [
    {
     "name": "stdout",
     "output_type": "stream",
     "text": [
      "500\n",
      "[95]\n"
     ]
    }
   ],
   "source": [
    "# Use this cell to examine one of the processed reviews to make sure everything is working as intended.\n",
    "print(len(train_X[0]))\n",
    "print(train_X_len[0:1]) # 500 - 333 (non zeros) = 167"
   ]
  },
  {
   "cell_type": "markdown",
   "metadata": {},
   "source": [
    "**Question:** In the cells above we use the `preprocess_data` and `convert_and_pad_data` methods to process both the training and testing set. Why or why not might this be a problem?"
   ]
  },
  {
   "cell_type": "markdown",
   "metadata": {},
   "source": [
    "**Answer:**\n",
    "- `preprocess_data` function will cut the data preparation cost, since it is one time process and the result are saved in a file. In case if the notebook instance terminal connection is broken then we need to restart from begining in that case we can skip the data preparation step and proceed to training by directly loading the preprocessed data from file\n",
    "- `convert_and_pad_data` this function helps to maintain a constant data length. since we using LSTM Clasifier with Embedding so we need to maintain a constant batch size throughout the training"
   ]
  },
  {
   "cell_type": "markdown",
   "metadata": {},
   "source": [
    "## Step 3: Upload the data to S3\n",
    "\n",
    "As in the XGBoost notebook, we will need to upload the training dataset to S3 in order for our training code to access it. For now we will save it locally and we will upload to S3 later on.\n",
    "\n",
    "### Save the processed training dataset locally\n",
    "\n",
    "It is important to note the format of the data that we are saving as we will need to know it when we write the training code. In our case, each row of the dataset has the form `label`, `length`, `review[500]` where `review[500]` is a sequence of `500` integers representing the words in the review."
   ]
  },
  {
   "cell_type": "code",
   "execution_count": 19,
   "metadata": {},
   "outputs": [],
   "source": [
    "import pandas as pd\n",
    "    \n",
    "pd.concat([pd.DataFrame(train_y), pd.DataFrame(train_X_len), pd.DataFrame(train_X)], axis=1) \\\n",
    "        .to_csv(os.path.join(data_dir, 'train.csv'), header=False, index=False)"
   ]
  },
  {
   "cell_type": "markdown",
   "metadata": {},
   "source": [
    "### Uploading the training data\n",
    "\n",
    "\n",
    "Next, we need to upload the training data to the SageMaker default S3 bucket so that we can provide access to it while training our model."
   ]
  },
  {
   "cell_type": "code",
   "execution_count": 20,
   "metadata": {},
   "outputs": [],
   "source": [
    "import sagemaker\n",
    "\n",
    "sagemaker_session = sagemaker.Session()\n",
    "\n",
    "bucket = sagemaker_session.default_bucket()\n",
    "prefix = 'sagemaker/sentiment_rnn'\n",
    "\n",
    "role = sagemaker.get_execution_role()"
   ]
  },
  {
   "cell_type": "code",
   "execution_count": 21,
   "metadata": {},
   "outputs": [],
   "source": [
    "input_data = sagemaker_session.upload_data(path=data_dir, bucket=bucket, key_prefix=prefix)"
   ]
  },
  {
   "cell_type": "markdown",
   "metadata": {},
   "source": [
    "**NOTE:** The cell above uploads the entire contents of our data directory. This includes the `word_dict.pkl` file. This is fortunate as we will need this later on when we create an endpoint that accepts an arbitrary review. For now, we will just take note of the fact that it resides in the data directory (and so also in the S3 training bucket) and that we will need to make sure it gets saved in the model directory."
   ]
  },
  {
   "cell_type": "markdown",
   "metadata": {},
   "source": [
    "## Step 4: Build and Train the PyTorch Model\n",
    "\n",
    "In the XGBoost notebook we discussed what a model is in the SageMaker framework. In particular, a model comprises three objects\n",
    "\n",
    " - Model Artifacts,\n",
    " - Training Code, and\n",
    " - Inference Code,\n",
    " \n",
    "each of which interact with one another. In the XGBoost example we used training and inference code that was provided by Amazon. Here we will still be using containers provided by Amazon with the added benefit of being able to include our own custom code.\n",
    "\n",
    "We will start by implementing our own neural network in PyTorch along with a training script. For the purposes of this project we have provided the necessary model object in the `model.py` file, inside of the `train` folder. You can see the provided implementation by running the cell below."
   ]
  },
  {
   "cell_type": "code",
   "execution_count": 22,
   "metadata": {},
   "outputs": [
    {
     "name": "stdout",
     "output_type": "stream",
     "text": [
      "\u001b[34mimport\u001b[39;49;00m \u001b[04m\u001b[36mtorch.nn\u001b[39;49;00m \u001b[34mas\u001b[39;49;00m \u001b[04m\u001b[36mnn\u001b[39;49;00m\r\n",
      "\r\n",
      "\u001b[34mclass\u001b[39;49;00m \u001b[04m\u001b[32mLSTMClassifier\u001b[39;49;00m(nn.Module):\r\n",
      "    \u001b[33m\"\"\"\u001b[39;49;00m\r\n",
      "\u001b[33m    This is the simple RNN model we will be using to perform Sentiment Analysis.\u001b[39;49;00m\r\n",
      "\u001b[33m    \"\"\"\u001b[39;49;00m\r\n",
      "\r\n",
      "    \u001b[34mdef\u001b[39;49;00m \u001b[32m__init__\u001b[39;49;00m(\u001b[36mself\u001b[39;49;00m, embedding_dim, hidden_dim, vocab_size):\r\n",
      "        \u001b[33m\"\"\"\u001b[39;49;00m\r\n",
      "\u001b[33m        Initialize the model by settingg up the various layers.\u001b[39;49;00m\r\n",
      "\u001b[33m        \"\"\"\u001b[39;49;00m\r\n",
      "        \u001b[36msuper\u001b[39;49;00m(LSTMClassifier, \u001b[36mself\u001b[39;49;00m).\u001b[32m__init__\u001b[39;49;00m()\r\n",
      "\r\n",
      "        \u001b[36mself\u001b[39;49;00m.embedding = nn.Embedding(vocab_size, embedding_dim, padding_idx=\u001b[34m0\u001b[39;49;00m)\r\n",
      "        \u001b[36mself\u001b[39;49;00m.lstm = nn.LSTM(embedding_dim, hidden_dim)\r\n",
      "        \u001b[36mself\u001b[39;49;00m.dense = nn.Linear(in_features=hidden_dim, out_features=\u001b[34m1\u001b[39;49;00m)\r\n",
      "        \u001b[36mself\u001b[39;49;00m.sig = nn.Sigmoid()\r\n",
      "        \r\n",
      "        \u001b[36mself\u001b[39;49;00m.word_dict = \u001b[36mNone\u001b[39;49;00m\r\n",
      "\r\n",
      "    \u001b[34mdef\u001b[39;49;00m \u001b[32mforward\u001b[39;49;00m(\u001b[36mself\u001b[39;49;00m, x):\r\n",
      "        \u001b[33m\"\"\"\u001b[39;49;00m\r\n",
      "\u001b[33m        Perform a forward pass of our model on some input.\u001b[39;49;00m\r\n",
      "\u001b[33m        \"\"\"\u001b[39;49;00m\r\n",
      "        x = x.t()\r\n",
      "        lengths = x[\u001b[34m0\u001b[39;49;00m,:]\r\n",
      "        reviews = x[\u001b[34m1\u001b[39;49;00m:,:]\r\n",
      "        embeds = \u001b[36mself\u001b[39;49;00m.embedding(reviews)\r\n",
      "        lstm_out, _ = \u001b[36mself\u001b[39;49;00m.lstm(embeds)\r\n",
      "        out = \u001b[36mself\u001b[39;49;00m.dense(lstm_out)\r\n",
      "        out = out[lengths - \u001b[34m1\u001b[39;49;00m, \u001b[36mrange\u001b[39;49;00m(\u001b[36mlen\u001b[39;49;00m(lengths))]\r\n",
      "        \u001b[34mreturn\u001b[39;49;00m \u001b[36mself\u001b[39;49;00m.sig(out.squeeze())\r\n"
     ]
    }
   ],
   "source": [
    "!pygmentize train/model.py"
   ]
  },
  {
   "cell_type": "markdown",
   "metadata": {},
   "source": [
    "The important takeaway from the implementation provided is that there are three parameters that we may wish to tweak to improve the performance of our model. These are the embedding dimension, the hidden dimension and the size of the vocabulary. We will likely want to make these parameters configurable in the training script so that if we wish to modify them we do not need to modify the script itself. We will see how to do this later on. To start we will write some of the training code in the notebook so that we can more easily diagnose any issues that arise.\n",
    "\n",
    "First we will load a small portion of the training data set to use as a sample. It would be very time consuming to try and train the model completely in the notebook as we do not have access to a gpu and the compute instance that we are using is not particularly powerful. However, we can work on a small bit of the data to get a feel for how our training script is behaving."
   ]
  },
  {
   "cell_type": "code",
   "execution_count": 23,
   "metadata": {},
   "outputs": [],
   "source": [
    "import torch\n",
    "import torch.utils.data\n",
    "import pandas as pd\n",
    "\n",
    "# Read in only the first 250 rows\n",
    "train_sample = pd.read_csv(os.path.join(data_dir, 'train.csv'), header=None, names=None, nrows=250)\n",
    "\n",
    "# Turn the input pandas dataframe into tensors\n",
    "train_sample_y = torch.from_numpy(train_sample[[0]].values).float().squeeze()\n",
    "train_sample_X = torch.from_numpy(train_sample.drop([0], axis=1).values).long()\n",
    "\n",
    "# Build the dataset\n",
    "train_sample_ds = torch.utils.data.TensorDataset(train_sample_X, train_sample_y)\n",
    "# Build the dataloader\n",
    "train_sample_dl = torch.utils.data.DataLoader(train_sample_ds, batch_size=50)"
   ]
  },
  {
   "cell_type": "markdown",
   "metadata": {},
   "source": [
    "### (TODO) Writing the training method\n",
    "\n",
    "Next we need to write the training code itself. This should be very similar to training methods that you have written before to train PyTorch models. We will leave any difficult aspects such as model saving / loading and parameter loading until a little later."
   ]
  },
  {
   "cell_type": "code",
   "execution_count": 24,
   "metadata": {},
   "outputs": [],
   "source": [
    "def train(model, train_loader, epochs, optimizer, loss_fn, device):\n",
    "    for epoch in range(1, epochs + 1):\n",
    "        model.train()\n",
    "        total_loss = 0\n",
    "        for batch in train_loader:         \n",
    "            batch_X, batch_y = batch\n",
    "            \n",
    "            batch_X = batch_X.to(device)\n",
    "            batch_y = batch_y.to(device)\n",
    "            \n",
    "            # model.zero_grad()\n",
    "            optimizer.zero_grad()\n",
    "            \n",
    "            # TODO: Complete this train method to train the model provided.\n",
    "            output = model(batch_X)\n",
    "            loss = loss_fn(output, batch_y)\n",
    "            loss.backward()\n",
    "            optimizer.step()\n",
    "            \n",
    "            total_loss += loss.data.item()\n",
    "        print(\"Epoch: {}, BCELoss: {}\".format(epoch, total_loss / len(train_loader)))"
   ]
  },
  {
   "cell_type": "code",
   "execution_count": 25,
   "metadata": {},
   "outputs": [],
   "source": [
    "device = torch.device(\"cuda\" if torch.cuda.is_available() else \"cpu\")"
   ]
  },
  {
   "cell_type": "markdown",
   "metadata": {},
   "source": [
    "Supposing we have the training method above, we will test that it is working by writing a bit of code in the notebook that executes our training method on the small sample training set that we loaded earlier. The reason for doing this in the notebook is so that we have an opportunity to fix any errors that arise early when they are easier to diagnose."
   ]
  },
  {
   "cell_type": "code",
   "execution_count": 26,
   "metadata": {},
   "outputs": [
    {
     "name": "stdout",
     "output_type": "stream",
     "text": [
      "Epoch: 1, BCELoss: 0.6887754678726197\n",
      "Epoch: 2, BCELoss: 0.6716017961502075\n",
      "Epoch: 3, BCELoss: 0.6533112764358521\n",
      "Epoch: 4, BCELoss: 0.628024160861969\n",
      "Epoch: 5, BCELoss: 0.5933386802673339\n",
      "Epoch: 6, BCELoss: 0.5558509111404419\n",
      "Epoch: 7, BCELoss: 0.5469732463359833\n",
      "Epoch: 8, BCELoss: 0.5399762749671936\n",
      "Epoch: 9, BCELoss: 0.5085930347442627\n",
      "Epoch: 10, BCELoss: 0.46278573870658873\n"
     ]
    }
   ],
   "source": [
    "import torch.optim as optim\n",
    "from train.model import LSTMClassifier\n",
    "\n",
    "# device = torch.device(\"cuda\" if torch.cuda.is_available() else \"cpu\")\n",
    "model = LSTMClassifier(32, 200, 5000).to(device)\n",
    "optimizer = optim.Adam(model.parameters())\n",
    "loss_fn = torch.nn.BCELoss()\n",
    "\n",
    "train(model, train_sample_dl, 10, optimizer, loss_fn, device)"
   ]
  },
  {
   "cell_type": "markdown",
   "metadata": {},
   "source": [
    "In order to construct a PyTorch model using SageMaker we must provide SageMaker with a training script. We may optionally include a directory which will be copied to the container and from which our training code will be run. When the training container is executed it will check the uploaded directory (if there is one) for a `requirements.txt` file and install any required Python libraries, after which the training script will be run."
   ]
  },
  {
   "cell_type": "markdown",
   "metadata": {},
   "source": [
    "### (TODO) Training the model\n",
    "\n",
    "When a PyTorch model is constructed in SageMaker, an entry point must be specified. This is the Python file which will be executed when the model is trained. Inside of the `train` directory is a file called `train.py` which has been provided and which contains most of the necessary code to train our model. The only thing that is missing is the implementation of the `train()` method which you wrote earlier in this notebook.\n",
    "\n",
    "**TODO**: Copy the `train()` method written above and paste it into the `train/train.py` file where required.\n",
    "\n",
    "The way that SageMaker passes hyperparameters to the training script is by way of arguments. These arguments can then be parsed and used in the training script. To see how this is done take a look at the provided `train/train.py` file."
   ]
  },
  {
   "cell_type": "code",
   "execution_count": 27,
   "metadata": {},
   "outputs": [],
   "source": [
    "from sagemaker.pytorch import PyTorch\n",
    "\n",
    "estimator = PyTorch(entry_point=\"train.py\",\n",
    "                    source_dir=\"train\",\n",
    "                    role=role,\n",
    "                    framework_version='0.4.0',\n",
    "                    train_instance_count=1,\n",
    "                    train_instance_type='ml.m4.xlarge',\n",
    "                    hyperparameters={\n",
    "                        'epochs': 10,\n",
    "                        'hidden_dim': 200,\n",
    "                    })"
   ]
  },
  {
   "cell_type": "code",
   "execution_count": 28,
   "metadata": {},
   "outputs": [
    {
     "name": "stdout",
     "output_type": "stream",
     "text": [
      "2020-03-25 04:37:56 Starting - Preparing the instances for training\n",
      "2020-03-25 04:37:56 Downloading - Downloading input data\n",
      "2020-03-25 04:37:56 Training - Training image download completed. Training in progress.\n",
      "2020-03-25 04:37:56 Uploading - Uploading generated training model\n",
      "2020-03-25 04:37:56 Completed - Training job completed\u001b[34mbash: cannot set terminal process group (-1): Inappropriate ioctl for device\u001b[0m\n",
      "\u001b[34mbash: no job control in this shell\u001b[0m\n",
      "\u001b[34m2020-03-25 02:45:53,364 sagemaker-containers INFO     Imported framework sagemaker_pytorch_container.training\u001b[0m\n",
      "\u001b[34m2020-03-25 02:45:53,367 sagemaker-containers INFO     No GPUs detected (normal if no gpus installed)\u001b[0m\n",
      "\u001b[34m2020-03-25 02:45:53,380 sagemaker_pytorch_container.training INFO     Block until all host DNS lookups succeed.\u001b[0m\n",
      "\u001b[34m2020-03-25 02:45:53,386 sagemaker_pytorch_container.training INFO     Invoking user training script.\u001b[0m\n",
      "\u001b[34m2020-03-25 02:45:53,631 sagemaker-containers INFO     Module train does not provide a setup.py. \u001b[0m\n",
      "\u001b[34mGenerating setup.py\u001b[0m\n",
      "\u001b[34m2020-03-25 02:45:53,631 sagemaker-containers INFO     Generating setup.cfg\u001b[0m\n",
      "\u001b[34m2020-03-25 02:45:53,631 sagemaker-containers INFO     Generating MANIFEST.in\u001b[0m\n",
      "\u001b[34m2020-03-25 02:45:53,632 sagemaker-containers INFO     Installing module with the following command:\u001b[0m\n",
      "\u001b[34m/usr/bin/python -m pip install -U . -r requirements.txt\u001b[0m\n",
      "\u001b[34mProcessing /opt/ml/code\u001b[0m\n",
      "\u001b[34mCollecting pandas (from -r requirements.txt (line 1))\n",
      "  Downloading https://files.pythonhosted.org/packages/74/24/0cdbf8907e1e3bc5a8da03345c23cbed7044330bb8f73bb12e711a640a00/pandas-0.24.2-cp35-cp35m-manylinux1_x86_64.whl (10.0MB)\u001b[0m\n",
      "\u001b[34mCollecting numpy (from -r requirements.txt (line 2))\n",
      "  Downloading https://files.pythonhosted.org/packages/ff/18/c0b937e2f84095ae230196899e56d1d7d76c8e8424fb235ed7e5bb6d68af/numpy-1.18.2-cp35-cp35m-manylinux1_x86_64.whl (20.0MB)\u001b[0m\n",
      "\u001b[34mCollecting nltk (from -r requirements.txt (line 3))\n",
      "  Downloading https://files.pythonhosted.org/packages/f6/1d/d925cfb4f324ede997f6d47bea4d9babba51b49e87a767c170b77005889d/nltk-3.4.5.zip (1.5MB)\u001b[0m\n",
      "\u001b[34mCollecting beautifulsoup4 (from -r requirements.txt (line 4))\n",
      "  Downloading https://files.pythonhosted.org/packages/cb/a1/c698cf319e9cfed6b17376281bd0efc6bfc8465698f54170ef60a485ab5d/beautifulsoup4-4.8.2-py3-none-any.whl (106kB)\u001b[0m\n",
      "\u001b[34mCollecting html5lib (from -r requirements.txt (line 5))\n",
      "  Downloading https://files.pythonhosted.org/packages/a5/62/bbd2be0e7943ec8504b517e62bab011b4946e1258842bc159e5dfde15b96/html5lib-1.0.1-py2.py3-none-any.whl (117kB)\u001b[0m\n",
      "\u001b[34mCollecting pytz>=2011k (from pandas->-r requirements.txt (line 1))\n",
      "  Downloading https://files.pythonhosted.org/packages/e7/f9/f0b53f88060247251bf481fa6ea62cd0d25bf1b11a87888e53ce5b7c8ad2/pytz-2019.3-py2.py3-none-any.whl (509kB)\u001b[0m\n",
      "\u001b[34mRequirement already satisfied, skipping upgrade: python-dateutil>=2.5.0 in /usr/local/lib/python3.5/dist-packages (from pandas->-r requirements.txt (line 1)) (2.7.5)\u001b[0m\n",
      "\u001b[34mRequirement already satisfied, skipping upgrade: six in /usr/local/lib/python3.5/dist-packages (from nltk->-r requirements.txt (line 3)) (1.11.0)\u001b[0m\n",
      "\u001b[34mCollecting soupsieve>=1.2 (from beautifulsoup4->-r requirements.txt (line 4))\n",
      "  Downloading https://files.pythonhosted.org/packages/05/cf/ea245e52f55823f19992447b008bcbb7f78efc5960d77f6c34b5b45b36dd/soupsieve-2.0-py2.py3-none-any.whl\u001b[0m\n",
      "\u001b[34mCollecting webencodings (from html5lib->-r requirements.txt (line 5))\n",
      "  Downloading https://files.pythonhosted.org/packages/f4/24/2a3e3df732393fed8b3ebf2ec078f05546de641fe1b667ee316ec1dcf3b7/webencodings-0.5.1-py2.py3-none-any.whl\u001b[0m\n",
      "\u001b[34mBuilding wheels for collected packages: nltk, train\n",
      "  Running setup.py bdist_wheel for nltk: started\u001b[0m\n",
      "\u001b[34m  Running setup.py bdist_wheel for nltk: finished with status 'done'\n",
      "  Stored in directory: /root/.cache/pip/wheels/96/86/f6/68ab24c23f207c0077381a5e3904b2815136b879538a24b483\n",
      "  Running setup.py bdist_wheel for train: started\n",
      "  Running setup.py bdist_wheel for train: finished with status 'done'\n",
      "  Stored in directory: /tmp/pip-ephem-wheel-cache-d4z1e6_h/wheels/35/24/16/37574d11bf9bde50616c67372a334f94fa8356bc7164af8ca3\u001b[0m\n",
      "\u001b[34mSuccessfully built nltk train\u001b[0m\n",
      "\u001b[34mInstalling collected packages: pytz, numpy, pandas, nltk, soupsieve, beautifulsoup4, webencodings, html5lib, train\u001b[0m\n",
      "\u001b[34m  Found existing installation: numpy 1.15.4\n",
      "    Uninstalling numpy-1.15.4:\u001b[0m\n",
      "\u001b[34m      Successfully uninstalled numpy-1.15.4\u001b[0m\n",
      "\u001b[34mSuccessfully installed beautifulsoup4-4.8.2 html5lib-1.0.1 nltk-3.4.5 numpy-1.18.2 pandas-0.24.2 pytz-2019.3 soupsieve-2.0 train-1.0.0 webencodings-0.5.1\u001b[0m\n",
      "\u001b[34mYou are using pip version 18.1, however version 20.0.2 is available.\u001b[0m\n",
      "\u001b[34mYou should consider upgrading via the 'pip install --upgrade pip' command.\u001b[0m\n",
      "\u001b[34m2020-03-25 02:46:05,889 sagemaker-containers INFO     No GPUs detected (normal if no gpus installed)\u001b[0m\n",
      "\u001b[34m2020-03-25 02:46:05,903 sagemaker-containers INFO     Invoking user script\n",
      "\u001b[0m\n",
      "\u001b[34mTraining Env:\n",
      "\u001b[0m\n",
      "\u001b[34m{\n",
      "    \"additional_framework_parameters\": {},\n",
      "    \"hosts\": [\n",
      "        \"algo-1\"\n",
      "    ],\n",
      "    \"module_dir\": \"s3://sagemaker-us-west-2-192075818472/sagemaker-pytorch-2020-03-25-02-43-13-514/source/sourcedir.tar.gz\",\n",
      "    \"input_config_dir\": \"/opt/ml/input/config\",\n",
      "    \"user_entry_point\": \"train.py\",\n",
      "    \"network_interface_name\": \"eth0\",\n",
      "    \"num_cpus\": 4,\n",
      "    \"input_dir\": \"/opt/ml/input\",\n",
      "    \"job_name\": \"sagemaker-pytorch-2020-03-25-02-43-13-514\",\n",
      "    \"log_level\": 20,\n",
      "    \"output_dir\": \"/opt/ml/output\",\n",
      "    \"framework_module\": \"sagemaker_pytorch_container.training:main\",\n",
      "    \"model_dir\": \"/opt/ml/model\",\n",
      "    \"num_gpus\": 0,\n",
      "    \"output_data_dir\": \"/opt/ml/output/data\",\n",
      "    \"output_intermediate_dir\": \"/opt/ml/output/intermediate\",\n",
      "    \"resource_config\": {\n",
      "        \"current_host\": \"algo-1\",\n",
      "        \"network_interface_name\": \"eth0\",\n",
      "        \"hosts\": [\n",
      "            \"algo-1\"\n",
      "        ]\n",
      "    },\n",
      "    \"hyperparameters\": {\n",
      "        \"epochs\": 10,\n",
      "        \"hidden_dim\": 200\n",
      "    },\n",
      "    \"current_host\": \"algo-1\",\n",
      "    \"module_name\": \"train\",\n",
      "    \"channel_input_dirs\": {\n",
      "        \"training\": \"/opt/ml/input/data/training\"\n",
      "    },\n",
      "    \"input_data_config\": {\n",
      "        \"training\": {\n",
      "            \"S3DistributionType\": \"FullyReplicated\",\n",
      "            \"RecordWrapperType\": \"None\",\n",
      "            \"TrainingInputMode\": \"File\"\n",
      "        }\n",
      "    }\u001b[0m\n",
      "\u001b[34m}\n",
      "\u001b[0m\n",
      "\u001b[34mEnvironment variables:\n",
      "\u001b[0m\n",
      "\u001b[34mSM_NUM_GPUS=0\u001b[0m\n",
      "\u001b[34mSM_LOG_LEVEL=20\u001b[0m\n",
      "\u001b[34mSM_MODULE_DIR=s3://sagemaker-us-west-2-192075818472/sagemaker-pytorch-2020-03-25-02-43-13-514/source/sourcedir.tar.gz\u001b[0m\n",
      "\u001b[34mSM_FRAMEWORK_MODULE=sagemaker_pytorch_container.training:main\u001b[0m\n",
      "\u001b[34mPYTHONPATH=/usr/local/bin:/usr/lib/python35.zip:/usr/lib/python3.5:/usr/lib/python3.5/plat-x86_64-linux-gnu:/usr/lib/python3.5/lib-dynload:/usr/local/lib/python3.5/dist-packages:/usr/lib/python3/dist-packages\u001b[0m\n",
      "\u001b[34mSM_MODEL_DIR=/opt/ml/model\u001b[0m\n",
      "\u001b[34mSM_INPUT_DATA_CONFIG={\"training\":{\"RecordWrapperType\":\"None\",\"S3DistributionType\":\"FullyReplicated\",\"TrainingInputMode\":\"File\"}}\u001b[0m\n",
      "\u001b[34mSM_NUM_CPUS=4\u001b[0m\n",
      "\u001b[34mSM_HP_EPOCHS=10\u001b[0m\n",
      "\u001b[34mSM_MODULE_NAME=train\u001b[0m\n",
      "\u001b[34mSM_CHANNEL_TRAINING=/opt/ml/input/data/training\u001b[0m\n",
      "\u001b[34mSM_HPS={\"epochs\":10,\"hidden_dim\":200}\u001b[0m\n",
      "\u001b[34mSM_OUTPUT_DIR=/opt/ml/output\u001b[0m\n",
      "\u001b[34mSM_HOSTS=[\"algo-1\"]\u001b[0m\n",
      "\u001b[34mSM_TRAINING_ENV={\"additional_framework_parameters\":{},\"channel_input_dirs\":{\"training\":\"/opt/ml/input/data/training\"},\"current_host\":\"algo-1\",\"framework_module\":\"sagemaker_pytorch_container.training:main\",\"hosts\":[\"algo-1\"],\"hyperparameters\":{\"epochs\":10,\"hidden_dim\":200},\"input_config_dir\":\"/opt/ml/input/config\",\"input_data_config\":{\"training\":{\"RecordWrapperType\":\"None\",\"S3DistributionType\":\"FullyReplicated\",\"TrainingInputMode\":\"File\"}},\"input_dir\":\"/opt/ml/input\",\"job_name\":\"sagemaker-pytorch-2020-03-25-02-43-13-514\",\"log_level\":20,\"model_dir\":\"/opt/ml/model\",\"module_dir\":\"s3://sagemaker-us-west-2-192075818472/sagemaker-pytorch-2020-03-25-02-43-13-514/source/sourcedir.tar.gz\",\"module_name\":\"train\",\"network_interface_name\":\"eth0\",\"num_cpus\":4,\"num_gpus\":0,\"output_data_dir\":\"/opt/ml/output/data\",\"output_dir\":\"/opt/ml/output\",\"output_intermediate_dir\":\"/opt/ml/output/intermediate\",\"resource_config\":{\"current_host\":\"algo-1\",\"hosts\":[\"algo-1\"],\"network_interface_name\":\"eth0\"},\"user_entry_point\":\"train.py\"}\u001b[0m\n",
      "\u001b[34mSM_OUTPUT_DATA_DIR=/opt/ml/output/data\u001b[0m\n",
      "\u001b[34mSM_INPUT_CONFIG_DIR=/opt/ml/input/config\u001b[0m\n",
      "\u001b[34mSM_USER_ARGS=[\"--epochs\",\"10\",\"--hidden_dim\",\"200\"]\u001b[0m\n",
      "\u001b[34mSM_FRAMEWORK_PARAMS={}\u001b[0m\n",
      "\u001b[34mSM_CURRENT_HOST=algo-1\u001b[0m\n",
      "\u001b[34mSM_RESOURCE_CONFIG={\"current_host\":\"algo-1\",\"hosts\":[\"algo-1\"],\"network_interface_name\":\"eth0\"}\u001b[0m\n",
      "\u001b[34mSM_CHANNELS=[\"training\"]\u001b[0m\n",
      "\u001b[34mSM_NETWORK_INTERFACE_NAME=eth0\u001b[0m\n",
      "\u001b[34mSM_OUTPUT_INTERMEDIATE_DIR=/opt/ml/output/intermediate\u001b[0m\n",
      "\u001b[34mSM_INPUT_DIR=/opt/ml/input\u001b[0m\n",
      "\u001b[34mSM_HP_HIDDEN_DIM=200\u001b[0m\n",
      "\u001b[34mSM_USER_ENTRY_POINT=train.py\n",
      "\u001b[0m\n",
      "\u001b[34mInvoking script with the following command:\n",
      "\u001b[0m\n",
      "\u001b[34m/usr/bin/python -m train --epochs 10 --hidden_dim 200\n",
      "\n",
      "\u001b[0m\n",
      "\u001b[34mUsing device cpu.\u001b[0m\n",
      "\u001b[34mGet train data loader.\u001b[0m\n",
      "\u001b[34mModel loaded with embedding_dim 32, hidden_dim 200, vocab_size 5000.\u001b[0m\n",
      "\u001b[34mEpoch: 1, BCELoss: 0.6700332991930903\u001b[0m\n",
      "\u001b[34mEpoch: 2, BCELoss: 0.5879119440000884\u001b[0m\n",
      "\u001b[34mEpoch: 3, BCELoss: 0.5031068489259604\u001b[0m\n",
      "\u001b[34mEpoch: 4, BCELoss: 0.4336776690823691\u001b[0m\n",
      "\u001b[34mEpoch: 5, BCELoss: 0.3977177653993879\u001b[0m\n",
      "\u001b[34mEpoch: 6, BCELoss: 0.35039055651547957\u001b[0m\n",
      "\u001b[34mEpoch: 7, BCELoss: 0.3181856493560635\u001b[0m\n",
      "\u001b[34mEpoch: 8, BCELoss: 0.2984357616122888\u001b[0m\n",
      "\u001b[34mEpoch: 9, BCELoss: 0.2798893165831663\u001b[0m\n",
      "\u001b[34mEpoch: 10, BCELoss: 0.2834531899009432\u001b[0m\n",
      "\u001b[34m2020-03-25 04:37:45,783 sagemaker-containers INFO     Reporting training SUCCESS\u001b[0m\n",
      "Training seconds: 6770\n",
      "Billable seconds: 6770\n"
     ]
    }
   ],
   "source": [
    "\n",
    "my_training_job_name = 'sagemaker-pytorch-2020-03-25-02-43-13-514'\n",
    "estimator = PyTorch.attach(my_training_job_name)"
   ]
  },
  {
   "cell_type": "code",
   "execution_count": null,
   "metadata": {},
   "outputs": [
    {
     "name": "stdout",
     "output_type": "stream",
     "text": [
      "2020-03-27 00:57:03 Starting - Starting the training job...\n",
      "2020-03-27 00:57:05 Starting - Launching requested ML instances......\n",
      "2020-03-27 00:58:07 Starting - Preparing the instances for training...\n",
      "2020-03-27 00:58:54 Downloading - Downloading input data...\n",
      "2020-03-27 00:59:20 Training - Downloading the training image..\u001b[34mbash: cannot set terminal process group (-1): Inappropriate ioctl for device\u001b[0m\n",
      "\u001b[34mbash: no job control in this shell\u001b[0m\n",
      "\u001b[34m2020-03-27 00:59:40,561 sagemaker-containers INFO     Imported framework sagemaker_pytorch_container.training\u001b[0m\n",
      "\u001b[34m2020-03-27 00:59:40,564 sagemaker-containers INFO     No GPUs detected (normal if no gpus installed)\u001b[0m\n",
      "\u001b[34m2020-03-27 00:59:40,577 sagemaker_pytorch_container.training INFO     Block until all host DNS lookups succeed.\u001b[0m\n",
      "\u001b[34m2020-03-27 00:59:43,608 sagemaker_pytorch_container.training INFO     Invoking user training script.\u001b[0m\n",
      "\u001b[34m2020-03-27 00:59:43,875 sagemaker-containers INFO     Module train does not provide a setup.py. \u001b[0m\n",
      "\u001b[34mGenerating setup.py\u001b[0m\n",
      "\u001b[34m2020-03-27 00:59:43,876 sagemaker-containers INFO     Generating setup.cfg\u001b[0m\n",
      "\u001b[34m2020-03-27 00:59:43,876 sagemaker-containers INFO     Generating MANIFEST.in\u001b[0m\n",
      "\u001b[34m2020-03-27 00:59:43,876 sagemaker-containers INFO     Installing module with the following command:\u001b[0m\n",
      "\u001b[34m/usr/bin/python -m pip install -U . -r requirements.txt\u001b[0m\n",
      "\u001b[34mProcessing /opt/ml/code\u001b[0m\n",
      "\u001b[34mCollecting pandas (from -r requirements.txt (line 1))\n",
      "  Downloading https://files.pythonhosted.org/packages/74/24/0cdbf8907e1e3bc5a8da03345c23cbed7044330bb8f73bb12e711a640a00/pandas-0.24.2-cp35-cp35m-manylinux1_x86_64.whl (10.0MB)\u001b[0m\n",
      "\u001b[34mCollecting numpy (from -r requirements.txt (line 2))\n",
      "  Downloading https://files.pythonhosted.org/packages/ff/18/c0b937e2f84095ae230196899e56d1d7d76c8e8424fb235ed7e5bb6d68af/numpy-1.18.2-cp35-cp35m-manylinux1_x86_64.whl (20.0MB)\u001b[0m\n",
      "\u001b[34mCollecting nltk (from -r requirements.txt (line 3))\n",
      "  Downloading https://files.pythonhosted.org/packages/f6/1d/d925cfb4f324ede997f6d47bea4d9babba51b49e87a767c170b77005889d/nltk-3.4.5.zip (1.5MB)\u001b[0m\n",
      "\n",
      "2020-03-27 00:59:40 Training - Training image download completed. Training in progress.\u001b[34mCollecting beautifulsoup4 (from -r requirements.txt (line 4))\n",
      "  Downloading https://files.pythonhosted.org/packages/cb/a1/c698cf319e9cfed6b17376281bd0efc6bfc8465698f54170ef60a485ab5d/beautifulsoup4-4.8.2-py3-none-any.whl (106kB)\u001b[0m\n",
      "\u001b[34mCollecting html5lib (from -r requirements.txt (line 5))\n",
      "  Downloading https://files.pythonhosted.org/packages/a5/62/bbd2be0e7943ec8504b517e62bab011b4946e1258842bc159e5dfde15b96/html5lib-1.0.1-py2.py3-none-any.whl (117kB)\u001b[0m\n",
      "\u001b[34mRequirement already satisfied, skipping upgrade: python-dateutil>=2.5.0 in /usr/local/lib/python3.5/dist-packages (from pandas->-r requirements.txt (line 1)) (2.7.5)\u001b[0m\n",
      "\u001b[34mCollecting pytz>=2011k (from pandas->-r requirements.txt (line 1))\n",
      "  Downloading https://files.pythonhosted.org/packages/e7/f9/f0b53f88060247251bf481fa6ea62cd0d25bf1b11a87888e53ce5b7c8ad2/pytz-2019.3-py2.py3-none-any.whl (509kB)\u001b[0m\n",
      "\u001b[34mRequirement already satisfied, skipping upgrade: six in /usr/local/lib/python3.5/dist-packages (from nltk->-r requirements.txt (line 3)) (1.11.0)\u001b[0m\n",
      "\u001b[34mCollecting soupsieve>=1.2 (from beautifulsoup4->-r requirements.txt (line 4))\n",
      "  Downloading https://files.pythonhosted.org/packages/05/cf/ea245e52f55823f19992447b008bcbb7f78efc5960d77f6c34b5b45b36dd/soupsieve-2.0-py2.py3-none-any.whl\u001b[0m\n",
      "\u001b[34mCollecting webencodings (from html5lib->-r requirements.txt (line 5))\n",
      "  Downloading https://files.pythonhosted.org/packages/f4/24/2a3e3df732393fed8b3ebf2ec078f05546de641fe1b667ee316ec1dcf3b7/webencodings-0.5.1-py2.py3-none-any.whl\u001b[0m\n",
      "\u001b[34mBuilding wheels for collected packages: nltk, train\n",
      "  Running setup.py bdist_wheel for nltk: started\u001b[0m\n",
      "\u001b[34m  Running setup.py bdist_wheel for nltk: finished with status 'done'\n",
      "  Stored in directory: /root/.cache/pip/wheels/96/86/f6/68ab24c23f207c0077381a5e3904b2815136b879538a24b483\n",
      "  Running setup.py bdist_wheel for train: started\n",
      "  Running setup.py bdist_wheel for train: finished with status 'done'\n",
      "  Stored in directory: /tmp/pip-ephem-wheel-cache-i4f97z0l/wheels/35/24/16/37574d11bf9bde50616c67372a334f94fa8356bc7164af8ca3\u001b[0m\n",
      "\u001b[34mSuccessfully built nltk train\u001b[0m\n",
      "\u001b[34mInstalling collected packages: numpy, pytz, pandas, nltk, soupsieve, beautifulsoup4, webencodings, html5lib, train\n",
      "  Found existing installation: numpy 1.15.4\n",
      "    Uninstalling numpy-1.15.4:\n",
      "      Successfully uninstalled numpy-1.15.4\u001b[0m\n",
      "\u001b[34mSuccessfully installed beautifulsoup4-4.8.2 html5lib-1.0.1 nltk-3.4.5 numpy-1.18.2 pandas-0.24.2 pytz-2019.3 soupsieve-2.0 train-1.0.0 webencodings-0.5.1\u001b[0m\n",
      "\u001b[34mYou are using pip version 18.1, however version 20.0.2 is available.\u001b[0m\n",
      "\u001b[34mYou should consider upgrading via the 'pip install --upgrade pip' command.\u001b[0m\n",
      "\u001b[34m2020-03-27 00:59:56,129 sagemaker-containers INFO     No GPUs detected (normal if no gpus installed)\u001b[0m\n",
      "\u001b[34m2020-03-27 00:59:56,144 sagemaker-containers INFO     Invoking user script\n",
      "\u001b[0m\n",
      "\u001b[34mTraining Env:\n",
      "\u001b[0m\n",
      "\u001b[34m{\n",
      "    \"model_dir\": \"/opt/ml/model\",\n",
      "    \"input_dir\": \"/opt/ml/input\",\n",
      "    \"hyperparameters\": {\n",
      "        \"epochs\": 10,\n",
      "        \"hidden_dim\": 200\n",
      "    },\n",
      "    \"log_level\": 20,\n",
      "    \"additional_framework_parameters\": {},\n",
      "    \"input_data_config\": {\n",
      "        \"training\": {\n",
      "            \"RecordWrapperType\": \"None\",\n",
      "            \"S3DistributionType\": \"FullyReplicated\",\n",
      "            \"TrainingInputMode\": \"File\"\n",
      "        }\n",
      "    },\n",
      "    \"module_name\": \"train\",\n",
      "    \"hosts\": [\n",
      "        \"algo-1\"\n",
      "    ],\n",
      "    \"resource_config\": {\n",
      "        \"current_host\": \"algo-1\",\n",
      "        \"hosts\": [\n",
      "            \"algo-1\"\n",
      "        ],\n",
      "        \"network_interface_name\": \"eth0\"\n",
      "    },\n",
      "    \"output_dir\": \"/opt/ml/output\",\n",
      "    \"output_data_dir\": \"/opt/ml/output/data\",\n",
      "    \"num_gpus\": 0,\n",
      "    \"input_config_dir\": \"/opt/ml/input/config\",\n",
      "    \"network_interface_name\": \"eth0\",\n",
      "    \"job_name\": \"sagemaker-pytorch-2020-03-25-02-43-13-5-2020-03-27-00-57-03-157\",\n",
      "    \"current_host\": \"algo-1\",\n",
      "    \"channel_input_dirs\": {\n",
      "        \"training\": \"/opt/ml/input/data/training\"\n",
      "    },\n",
      "    \"module_dir\": \"s3://sagemaker-us-west-2-192075818472/sagemaker-pytorch-2020-03-25-02-43-13-514/source/sourcedir.tar.gz\",\n",
      "    \"user_entry_point\": \"train.py\",\n",
      "    \"output_intermediate_dir\": \"/opt/ml/output/intermediate\",\n",
      "    \"framework_module\": \"sagemaker_pytorch_container.training:main\",\n",
      "    \"num_cpus\": 4\u001b[0m\n",
      "\u001b[34m}\n",
      "\u001b[0m\n",
      "\u001b[34mEnvironment variables:\n",
      "\u001b[0m\n",
      "\u001b[34mSM_HP_HIDDEN_DIM=200\u001b[0m\n",
      "\u001b[34mSM_RESOURCE_CONFIG={\"current_host\":\"algo-1\",\"hosts\":[\"algo-1\"],\"network_interface_name\":\"eth0\"}\u001b[0m\n",
      "\u001b[34mSM_INPUT_DATA_CONFIG={\"training\":{\"RecordWrapperType\":\"None\",\"S3DistributionType\":\"FullyReplicated\",\"TrainingInputMode\":\"File\"}}\u001b[0m\n",
      "\u001b[34mSM_NUM_GPUS=0\u001b[0m\n",
      "\u001b[34mSM_OUTPUT_INTERMEDIATE_DIR=/opt/ml/output/intermediate\u001b[0m\n",
      "\u001b[34mSM_MODULE_NAME=train\u001b[0m\n",
      "\u001b[34mSM_LOG_LEVEL=20\u001b[0m\n",
      "\u001b[34mSM_FRAMEWORK_MODULE=sagemaker_pytorch_container.training:main\u001b[0m\n",
      "\u001b[34mSM_FRAMEWORK_PARAMS={}\u001b[0m\n",
      "\u001b[34mSM_CHANNELS=[\"training\"]\u001b[0m\n",
      "\u001b[34mSM_INPUT_DIR=/opt/ml/input\u001b[0m\n",
      "\u001b[34mSM_USER_ENTRY_POINT=train.py\u001b[0m\n",
      "\u001b[34mSM_HP_EPOCHS=10\u001b[0m\n",
      "\u001b[34mSM_NETWORK_INTERFACE_NAME=eth0\u001b[0m\n",
      "\u001b[34mPYTHONPATH=/usr/local/bin:/usr/lib/python35.zip:/usr/lib/python3.5:/usr/lib/python3.5/plat-x86_64-linux-gnu:/usr/lib/python3.5/lib-dynload:/usr/local/lib/python3.5/dist-packages:/usr/lib/python3/dist-packages\u001b[0m\n",
      "\u001b[34mSM_CHANNEL_TRAINING=/opt/ml/input/data/training\u001b[0m\n",
      "\u001b[34mSM_HPS={\"epochs\":10,\"hidden_dim\":200}\u001b[0m\n",
      "\u001b[34mSM_USER_ARGS=[\"--epochs\",\"10\",\"--hidden_dim\",\"200\"]\u001b[0m\n",
      "\u001b[34mSM_OUTPUT_DIR=/opt/ml/output\u001b[0m\n",
      "\u001b[34mSM_NUM_CPUS=4\u001b[0m\n",
      "\u001b[34mSM_TRAINING_ENV={\"additional_framework_parameters\":{},\"channel_input_dirs\":{\"training\":\"/opt/ml/input/data/training\"},\"current_host\":\"algo-1\",\"framework_module\":\"sagemaker_pytorch_container.training:main\",\"hosts\":[\"algo-1\"],\"hyperparameters\":{\"epochs\":10,\"hidden_dim\":200},\"input_config_dir\":\"/opt/ml/input/config\",\"input_data_config\":{\"training\":{\"RecordWrapperType\":\"None\",\"S3DistributionType\":\"FullyReplicated\",\"TrainingInputMode\":\"File\"}},\"input_dir\":\"/opt/ml/input\",\"job_name\":\"sagemaker-pytorch-2020-03-25-02-43-13-5-2020-03-27-00-57-03-157\",\"log_level\":20,\"model_dir\":\"/opt/ml/model\",\"module_dir\":\"s3://sagemaker-us-west-2-192075818472/sagemaker-pytorch-2020-03-25-02-43-13-514/source/sourcedir.tar.gz\",\"module_name\":\"train\",\"network_interface_name\":\"eth0\",\"num_cpus\":4,\"num_gpus\":0,\"output_data_dir\":\"/opt/ml/output/data\",\"output_dir\":\"/opt/ml/output\",\"output_intermediate_dir\":\"/opt/ml/output/intermediate\",\"resource_config\":{\"current_host\":\"algo-1\",\"hosts\":[\"algo-1\"],\"network_interface_name\":\"eth0\"},\"user_entry_point\":\"train.py\"}\u001b[0m\n",
      "\u001b[34mSM_MODEL_DIR=/opt/ml/model\u001b[0m\n",
      "\u001b[34mSM_CURRENT_HOST=algo-1\u001b[0m\n",
      "\u001b[34mSM_HOSTS=[\"algo-1\"]\u001b[0m\n",
      "\u001b[34mSM_INPUT_CONFIG_DIR=/opt/ml/input/config\u001b[0m\n",
      "\u001b[34mSM_OUTPUT_DATA_DIR=/opt/ml/output/data\u001b[0m\n",
      "\u001b[34mSM_MODULE_DIR=s3://sagemaker-us-west-2-192075818472/sagemaker-pytorch-2020-03-25-02-43-13-514/source/sourcedir.tar.gz\n",
      "\u001b[0m\n",
      "\u001b[34mInvoking script with the following command:\n",
      "\u001b[0m\n",
      "\u001b[34m/usr/bin/python -m train --epochs 10 --hidden_dim 200\n",
      "\n",
      "\u001b[0m\n",
      "\u001b[34mUsing device cpu.\u001b[0m\n",
      "\u001b[34mGet train data loader.\u001b[0m\n",
      "\u001b[34mModel loaded with embedding_dim 32, hidden_dim 200, vocab_size 5000.\u001b[0m\n"
     ]
    },
    {
     "name": "stdout",
     "output_type": "stream",
     "text": [
      "\u001b[34mEpoch: 1, BCELoss: 0.6700332991930903\u001b[0m\n",
      "\u001b[34mEpoch: 2, BCELoss: 0.5879119440000884\u001b[0m\n",
      "\u001b[34mEpoch: 3, BCELoss: 0.5031068489259604\u001b[0m\n",
      "\u001b[34mEpoch: 4, BCELoss: 0.4336776690823691\u001b[0m\n",
      "\u001b[34mEpoch: 5, BCELoss: 0.3977177653993879\u001b[0m\n",
      "\u001b[34mEpoch: 6, BCELoss: 0.35039055651547957\u001b[0m\n",
      "\u001b[34mEpoch: 7, BCELoss: 0.3181856493560635\u001b[0m\n",
      "\u001b[34mEpoch: 8, BCELoss: 0.2984357616122888\u001b[0m\n",
      "\u001b[34mEpoch: 9, BCELoss: 0.2798893165831663\u001b[0m\n",
      "\u001b[34mEpoch: 10, BCELoss: 0.2834531899009432\u001b[0m\n",
      "\u001b[34m2020-03-27 02:42:25,489 sagemaker-containers INFO     Reporting training SUCCESS\u001b[0m\n",
      "\n",
      "2020-03-27 02:42:36 Uploading - Uploading generated training model\n",
      "2020-03-27 02:42:36 Completed - Training job completed\n",
      "Training seconds: 6222\n",
      "Billable seconds: 6222\n"
     ]
    }
   ],
   "source": [
    "estimator.fit({'training': input_data})"
   ]
  },
  {
   "cell_type": "markdown",
   "metadata": {},
   "source": [
    "## Step 5: Testing the model\n",
    "\n",
    "As mentioned at the top of this notebook, we will be testing this model by first deploying it and then sending the testing data to the deployed endpoint. We will do this so that we can make sure that the deployed model is working correctly.\n",
    "\n",
    "## Step 6: Deploy the model for testing\n",
    "\n",
    "Now that we have trained our model, we would like to test it to see how it performs. Currently our model takes input of the form `review_length, review[500]` where `review[500]` is a sequence of `500` integers which describe the words present in the review, encoded using `word_dict`. Fortunately for us, SageMaker provides built-in inference code for models with simple inputs such as this.\n",
    "\n",
    "There is one thing that we need to provide, however, and that is a function which loads the saved model. This function must be called `model_fn()` and takes as its only parameter a path to the directory where the model artifacts are stored. This function must also be present in the python file which we specified as the entry point. In our case the model loading function has been provided and so no changes need to be made.\n",
    "\n",
    "**NOTE**: When the built-in inference code is run it must import the `model_fn()` method from the `train.py` file. This is why the training code is wrapped in a main guard ( ie, `if __name__ == '__main__':` )\n",
    "\n",
    "Since we don't need to change anything in the code that was uploaded during training, we can simply deploy the current model as-is.\n",
    "\n",
    "**NOTE:** When deploying a model you are asking SageMaker to launch an compute instance that will wait for data to be sent to it. As a result, this compute instance will continue to run until *you* shut it down. This is important to know since the cost of a deployed endpoint depends on how long it has been running for.\n",
    "\n",
    "In other words **If you are no longer using a deployed endpoint, shut it down!**\n",
    "\n",
    "**TODO:** Deploy the trained model."
   ]
  },
  {
   "cell_type": "code",
   "execution_count": 29,
   "metadata": {},
   "outputs": [
    {
     "name": "stdout",
     "output_type": "stream",
     "text": [
      "-------------!"
     ]
    }
   ],
   "source": [
    "# TODO: Deploy the trained model\n",
    "predictor = estimator.deploy(initial_instance_count=1, instance_type='ml.m4.xlarge')"
   ]
  },
  {
   "cell_type": "markdown",
   "metadata": {},
   "source": [
    "## Step 7 - Use the model for testing\n",
    "\n",
    "Once deployed, we can read in the test data and send it off to our deployed model to get some results. Once we collect all of the results we can determine how accurate our model is."
   ]
  },
  {
   "cell_type": "code",
   "execution_count": 30,
   "metadata": {},
   "outputs": [],
   "source": [
    "test_X = pd.concat([pd.DataFrame(test_X_len), pd.DataFrame(test_X)], axis=1)"
   ]
  },
  {
   "cell_type": "code",
   "execution_count": 31,
   "metadata": {},
   "outputs": [],
   "source": [
    "# We split the data into chunks and send each chunk seperately, accumulating the results.\n",
    "\n",
    "def predict(data, rows=512):\n",
    "    split_array = np.array_split(data, int(data.shape[0] / float(rows) + 1))\n",
    "    predictions = np.array([])\n",
    "    for array in split_array:\n",
    "        predictions = np.append(predictions, predictor.predict(array))\n",
    "    \n",
    "    return predictions"
   ]
  },
  {
   "cell_type": "code",
   "execution_count": 34,
   "metadata": {},
   "outputs": [],
   "source": [
    "predictions = predict(test_X.values)\n",
    "predictions = [round(num) for num in predictions]"
   ]
  },
  {
   "cell_type": "code",
   "execution_count": 35,
   "metadata": {},
   "outputs": [
    {
     "data": {
      "text/plain": [
       "0.85108"
      ]
     },
     "execution_count": 35,
     "metadata": {},
     "output_type": "execute_result"
    }
   ],
   "source": [
    "from sklearn.metrics import accuracy_score\n",
    "accuracy_score(test_y, predictions)"
   ]
  },
  {
   "cell_type": "markdown",
   "metadata": {},
   "source": [
    "**Question:** How does this model compare to the XGBoost model you created earlier? Why might these two models perform differently on this dataset? Which do *you* think is better for sentiment analysis?"
   ]
  },
  {
   "cell_type": "markdown",
   "metadata": {},
   "source": [
    "**Answer:**\n",
    "`XGBoost` is an gradient boosting library designed to handle smaller variable problems with lesser training and more accuracy. But `Deep learning` is designed to large variable data supervised/un-supervised learning but it need more training\n",
    "For sentiment analysis `XGBoost` is better because XGBoost is the state of the art in most regression and classification problems with better result and less training. since it is mono label classification problem"
   ]
  },
  {
   "cell_type": "markdown",
   "metadata": {},
   "source": [
    "### (TODO) More testing\n",
    "\n",
    "We now have a trained model which has been deployed and which we can send processed reviews to and which returns the predicted sentiment. However, ultimately we would like to be able to send our model an unprocessed review. That is, we would like to send the review itself as a string. For example, suppose we wish to send the following review to our model."
   ]
  },
  {
   "cell_type": "code",
   "execution_count": 36,
   "metadata": {},
   "outputs": [],
   "source": [
    "test_review = 'The simplest pleasures in life are the best, and this film is one of them. Combining a rather basic storyline of love and adventure this movie transcends the usual weekend fair with wit and unmitigated charm.'"
   ]
  },
  {
   "cell_type": "markdown",
   "metadata": {},
   "source": [
    "The question we now need to answer is, how do we send this review to our model?\n",
    "\n",
    "Recall in the first section of this notebook we did a bunch of data processing to the IMDb dataset. In particular, we did two specific things to the provided reviews.\n",
    " - Removed any html tags and stemmed the input\n",
    " - Encoded the review as a sequence of integers using `word_dict`\n",
    " \n",
    "In order process the review we will need to repeat these two steps.\n",
    "\n",
    "**TODO**: Using the `review_to_words` and `convert_and_pad` methods from section one, convert `test_review` into a numpy array `test_data` suitable to send to our model. Remember that our model expects input of the form `review_length, review[500]`."
   ]
  },
  {
   "cell_type": "code",
   "execution_count": 42,
   "metadata": {},
   "outputs": [
    {
     "name": "stdout",
     "output_type": "stream",
     "text": [
      "[[   8    1    1 ...    0    0    0]\n",
      " [   7 1436 1220 ...    0    0    0]\n",
      " [   4 1220    1 ...    0    0    0]\n",
      " ...\n",
      " [   3 1805    1 ...    0    0    0]\n",
      " [   7 1101 1498 ...    0    0    0]\n",
      " [   5  894 1768 ...    0    0    0]]\n"
     ]
    }
   ],
   "source": [
    "data_X = None\n",
    "data_len = None\n",
    "input_data_words = review_to_words(test_review)\n",
    "data_X, data_len = convert_and_pad_data(word_dict, input_data_words)\n",
    "# print(data_len)\n",
    "# print(data_X[0])\n",
    "data_pack = np.column_stack((data_len, data_X))\n",
    "print(data_pack)\n",
    "data_pack = data_pack.reshape(1, -1)\n",
    "\n",
    "data = torch.from_numpy(data_pack)\n",
    "data = data.to(device)\n"
   ]
  },
  {
   "cell_type": "code",
   "execution_count": 45,
   "metadata": {},
   "outputs": [],
   "source": [
    "# TODO: Convert test_review into a form usable by the model and save the results in test_data\n",
    "words = review_to_words(test_review)\n",
    "test_data, test_data_len = convert_and_pad(word_dict, words)\n",
    "data_pack = np.hstack((test_data_len, test_data))\n",
    "data_pack = data_pack.reshape(1, -1)\n",
    "test_data = data_pack"
   ]
  },
  {
   "cell_type": "markdown",
   "metadata": {},
   "source": [
    "Now that we have processed the review, we can send the resulting array to our model to predict the sentiment of the review."
   ]
  },
  {
   "cell_type": "code",
   "execution_count": 46,
   "metadata": {},
   "outputs": [
    {
     "data": {
      "text/plain": [
       "array(0.8122375, dtype=float32)"
      ]
     },
     "execution_count": 46,
     "metadata": {},
     "output_type": "execute_result"
    }
   ],
   "source": [
    "predictor.predict(test_data)"
   ]
  },
  {
   "cell_type": "markdown",
   "metadata": {},
   "source": [
    "Since the return value of our model is close to `1`, we can be certain that the review we submitted is positive."
   ]
  },
  {
   "cell_type": "markdown",
   "metadata": {},
   "source": [
    "### Delete the endpoint\n",
    "\n",
    "Of course, just like in the XGBoost notebook, once we've deployed an endpoint it continues to run until we tell it to shut down. Since we are done using our endpoint for now, we can delete it."
   ]
  },
  {
   "cell_type": "code",
   "execution_count": 47,
   "metadata": {},
   "outputs": [],
   "source": [
    "estimator.delete_endpoint()"
   ]
  },
  {
   "cell_type": "markdown",
   "metadata": {},
   "source": [
    "## Step 6 (again) - Deploy the model for the web app\n",
    "\n",
    "Now that we know that our model is working, it's time to create some custom inference code so that we can send the model a review which has not been processed and have it determine the sentiment of the review.\n",
    "\n",
    "As we saw above, by default the estimator which we created, when deployed, will use the entry script and directory which we provided when creating the model. However, since we now wish to accept a string as input and our model expects a processed review, we need to write some custom inference code.\n",
    "\n",
    "We will store the code that we write in the `serve` directory. Provided in this directory is the `model.py` file that we used to construct our model, a `utils.py` file which contains the `review_to_words` and `convert_and_pad` pre-processing functions which we used during the initial data processing, and `predict.py`, the file which will contain our custom inference code. Note also that `requirements.txt` is present which will tell SageMaker what Python libraries are required by our custom inference code.\n",
    "\n",
    "When deploying a PyTorch model in SageMaker, you are expected to provide four functions which the SageMaker inference container will use.\n",
    " - `model_fn`: This function is the same function that we used in the training script and it tells SageMaker how to load our model.\n",
    " - `input_fn`: This function receives the raw serialized input that has been sent to the model's endpoint and its job is to de-serialize and make the input available for the inference code.\n",
    " - `output_fn`: This function takes the output of the inference code and its job is to serialize this output and return it to the caller of the model's endpoint.\n",
    " - `predict_fn`: The heart of the inference script, this is where the actual prediction is done and is the function which you will need to complete.\n",
    "\n",
    "For the simple website that we are constructing during this project, the `input_fn` and `output_fn` methods are relatively straightforward. We only require being able to accept a string as input and we expect to return a single value as output. You might imagine though that in a more complex application the input or output may be image data or some other binary data which would require some effort to serialize.\n",
    "\n",
    "### (TODO) Writing inference code\n",
    "\n",
    "Before writing our custom inference code, we will begin by taking a look at the code which has been provided."
   ]
  },
  {
   "cell_type": "code",
   "execution_count": 48,
   "metadata": {},
   "outputs": [
    {
     "name": "stdout",
     "output_type": "stream",
     "text": [
      "\u001b[34mimport\u001b[39;49;00m \u001b[04m\u001b[36margparse\u001b[39;49;00m\r\n",
      "\u001b[34mimport\u001b[39;49;00m \u001b[04m\u001b[36mjson\u001b[39;49;00m\r\n",
      "\u001b[34mimport\u001b[39;49;00m \u001b[04m\u001b[36mos\u001b[39;49;00m\r\n",
      "\u001b[34mimport\u001b[39;49;00m \u001b[04m\u001b[36mpickle\u001b[39;49;00m\r\n",
      "\u001b[34mimport\u001b[39;49;00m \u001b[04m\u001b[36msys\u001b[39;49;00m\r\n",
      "\u001b[34mimport\u001b[39;49;00m \u001b[04m\u001b[36msagemaker_containers\u001b[39;49;00m\r\n",
      "\u001b[34mimport\u001b[39;49;00m \u001b[04m\u001b[36mpandas\u001b[39;49;00m \u001b[34mas\u001b[39;49;00m \u001b[04m\u001b[36mpd\u001b[39;49;00m\r\n",
      "\u001b[34mimport\u001b[39;49;00m \u001b[04m\u001b[36mnumpy\u001b[39;49;00m \u001b[34mas\u001b[39;49;00m \u001b[04m\u001b[36mnp\u001b[39;49;00m\r\n",
      "\u001b[34mimport\u001b[39;49;00m \u001b[04m\u001b[36mtorch\u001b[39;49;00m\r\n",
      "\u001b[34mimport\u001b[39;49;00m \u001b[04m\u001b[36mtorch.nn\u001b[39;49;00m \u001b[34mas\u001b[39;49;00m \u001b[04m\u001b[36mnn\u001b[39;49;00m\r\n",
      "\u001b[34mimport\u001b[39;49;00m \u001b[04m\u001b[36mtorch.optim\u001b[39;49;00m \u001b[34mas\u001b[39;49;00m \u001b[04m\u001b[36moptim\u001b[39;49;00m\r\n",
      "\u001b[34mimport\u001b[39;49;00m \u001b[04m\u001b[36mtorch.utils.data\u001b[39;49;00m\r\n",
      "\u001b[34mimport\u001b[39;49;00m \u001b[04m\u001b[36mnltk\u001b[39;49;00m\r\n",
      "\u001b[34mfrom\u001b[39;49;00m \u001b[04m\u001b[36mnltk.corpus\u001b[39;49;00m \u001b[34mimport\u001b[39;49;00m stopwords\r\n",
      "\u001b[34mfrom\u001b[39;49;00m \u001b[04m\u001b[36mnltk.stem.porter\u001b[39;49;00m \u001b[34mimport\u001b[39;49;00m *\r\n",
      "\r\n",
      "\u001b[34mimport\u001b[39;49;00m \u001b[04m\u001b[36mre\u001b[39;49;00m\r\n",
      "\u001b[34mfrom\u001b[39;49;00m \u001b[04m\u001b[36mbs4\u001b[39;49;00m \u001b[34mimport\u001b[39;49;00m BeautifulSoup\r\n",
      "\r\n",
      "\u001b[34mfrom\u001b[39;49;00m \u001b[04m\u001b[36mmodel\u001b[39;49;00m \u001b[34mimport\u001b[39;49;00m LSTMClassifier\r\n",
      "\r\n",
      "\u001b[34mfrom\u001b[39;49;00m \u001b[04m\u001b[36mutils\u001b[39;49;00m \u001b[34mimport\u001b[39;49;00m review_to_words, convert_and_pad\r\n",
      "\r\n",
      "\u001b[34mdef\u001b[39;49;00m \u001b[32mmodel_fn\u001b[39;49;00m(model_dir):\r\n",
      "    \u001b[33m\"\"\"Load the PyTorch model from the `model_dir` directory.\"\"\"\u001b[39;49;00m\r\n",
      "    \u001b[34mprint\u001b[39;49;00m(\u001b[33m\"\u001b[39;49;00m\u001b[33mLoading model.\u001b[39;49;00m\u001b[33m\"\u001b[39;49;00m)\r\n",
      "\r\n",
      "    \u001b[37m# First, load the parameters used to create the model.\u001b[39;49;00m\r\n",
      "    model_info = {}\r\n",
      "    model_info_path = os.path.join(model_dir, \u001b[33m'\u001b[39;49;00m\u001b[33mmodel_info.pth\u001b[39;49;00m\u001b[33m'\u001b[39;49;00m)\r\n",
      "    \u001b[34mwith\u001b[39;49;00m \u001b[36mopen\u001b[39;49;00m(model_info_path, \u001b[33m'\u001b[39;49;00m\u001b[33mrb\u001b[39;49;00m\u001b[33m'\u001b[39;49;00m) \u001b[34mas\u001b[39;49;00m f:\r\n",
      "        model_info = torch.load(f)\r\n",
      "\r\n",
      "    \u001b[34mprint\u001b[39;49;00m(\u001b[33m\"\u001b[39;49;00m\u001b[33mmodel_info: {}\u001b[39;49;00m\u001b[33m\"\u001b[39;49;00m.format(model_info))\r\n",
      "\r\n",
      "    \u001b[37m# Determine the device and construct the model.\u001b[39;49;00m\r\n",
      "    device = torch.device(\u001b[33m\"\u001b[39;49;00m\u001b[33mcuda\u001b[39;49;00m\u001b[33m\"\u001b[39;49;00m \u001b[34mif\u001b[39;49;00m torch.cuda.is_available() \u001b[34melse\u001b[39;49;00m \u001b[33m\"\u001b[39;49;00m\u001b[33mcpu\u001b[39;49;00m\u001b[33m\"\u001b[39;49;00m)\r\n",
      "    model = LSTMClassifier(model_info[\u001b[33m'\u001b[39;49;00m\u001b[33membedding_dim\u001b[39;49;00m\u001b[33m'\u001b[39;49;00m], model_info[\u001b[33m'\u001b[39;49;00m\u001b[33mhidden_dim\u001b[39;49;00m\u001b[33m'\u001b[39;49;00m], model_info[\u001b[33m'\u001b[39;49;00m\u001b[33mvocab_size\u001b[39;49;00m\u001b[33m'\u001b[39;49;00m])\r\n",
      "\r\n",
      "    \u001b[37m# Load the store model parameters.\u001b[39;49;00m\r\n",
      "    model_path = os.path.join(model_dir, \u001b[33m'\u001b[39;49;00m\u001b[33mmodel.pth\u001b[39;49;00m\u001b[33m'\u001b[39;49;00m)\r\n",
      "    \u001b[34mwith\u001b[39;49;00m \u001b[36mopen\u001b[39;49;00m(model_path, \u001b[33m'\u001b[39;49;00m\u001b[33mrb\u001b[39;49;00m\u001b[33m'\u001b[39;49;00m) \u001b[34mas\u001b[39;49;00m f:\r\n",
      "        model.load_state_dict(torch.load(f))\r\n",
      "\r\n",
      "    \u001b[37m# Load the saved word_dict.\u001b[39;49;00m\r\n",
      "    word_dict_path = os.path.join(model_dir, \u001b[33m'\u001b[39;49;00m\u001b[33mword_dict.pkl\u001b[39;49;00m\u001b[33m'\u001b[39;49;00m)\r\n",
      "    \u001b[34mwith\u001b[39;49;00m \u001b[36mopen\u001b[39;49;00m(word_dict_path, \u001b[33m'\u001b[39;49;00m\u001b[33mrb\u001b[39;49;00m\u001b[33m'\u001b[39;49;00m) \u001b[34mas\u001b[39;49;00m f:\r\n",
      "        model.word_dict = pickle.load(f)\r\n",
      "\r\n",
      "    model.to(device).eval()\r\n",
      "\r\n",
      "    \u001b[34mprint\u001b[39;49;00m(\u001b[33m\"\u001b[39;49;00m\u001b[33mDone loading model.\u001b[39;49;00m\u001b[33m\"\u001b[39;49;00m)\r\n",
      "    \u001b[34mreturn\u001b[39;49;00m model\r\n",
      "\r\n",
      "\u001b[34mdef\u001b[39;49;00m \u001b[32minput_fn\u001b[39;49;00m(serialized_input_data, content_type):\r\n",
      "    \u001b[34mprint\u001b[39;49;00m(\u001b[33m'\u001b[39;49;00m\u001b[33mDeserializing the input data.\u001b[39;49;00m\u001b[33m'\u001b[39;49;00m)\r\n",
      "    \u001b[34mif\u001b[39;49;00m content_type == \u001b[33m'\u001b[39;49;00m\u001b[33mtext/plain\u001b[39;49;00m\u001b[33m'\u001b[39;49;00m:\r\n",
      "        data = serialized_input_data.decode(\u001b[33m'\u001b[39;49;00m\u001b[33mutf-8\u001b[39;49;00m\u001b[33m'\u001b[39;49;00m)\r\n",
      "        \u001b[34mreturn\u001b[39;49;00m data\r\n",
      "    \u001b[34mraise\u001b[39;49;00m \u001b[36mException\u001b[39;49;00m(\u001b[33m'\u001b[39;49;00m\u001b[33mRequested unsupported ContentType in content_type: \u001b[39;49;00m\u001b[33m'\u001b[39;49;00m + content_type)\r\n",
      "\r\n",
      "\u001b[34mdef\u001b[39;49;00m \u001b[32moutput_fn\u001b[39;49;00m(prediction_output, accept):\r\n",
      "    \u001b[34mprint\u001b[39;49;00m(\u001b[33m'\u001b[39;49;00m\u001b[33mSerializing the generated output.\u001b[39;49;00m\u001b[33m'\u001b[39;49;00m)\r\n",
      "    \u001b[34mprint\u001b[39;49;00m(prediction_output)\r\n",
      "    \u001b[37m# return str(prediction_output.item())\u001b[39;49;00m\r\n",
      "    \u001b[34mreturn\u001b[39;49;00m \u001b[36mstr\u001b[39;49;00m(prediction_output)\r\n",
      "\r\n",
      "\u001b[34mdef\u001b[39;49;00m \u001b[32mpredict_fn\u001b[39;49;00m(input_data, model):\r\n",
      "    \u001b[34mprint\u001b[39;49;00m(\u001b[33m'\u001b[39;49;00m\u001b[33mInferring sentiment of input data.\u001b[39;49;00m\u001b[33m'\u001b[39;49;00m)\r\n",
      "\r\n",
      "    device = torch.device(\u001b[33m\"\u001b[39;49;00m\u001b[33mcuda\u001b[39;49;00m\u001b[33m\"\u001b[39;49;00m \u001b[34mif\u001b[39;49;00m torch.cuda.is_available() \u001b[34melse\u001b[39;49;00m \u001b[33m\"\u001b[39;49;00m\u001b[33mcpu\u001b[39;49;00m\u001b[33m\"\u001b[39;49;00m)\r\n",
      "    \r\n",
      "    \u001b[34mif\u001b[39;49;00m model.word_dict \u001b[35mis\u001b[39;49;00m \u001b[36mNone\u001b[39;49;00m:\r\n",
      "        \u001b[34mraise\u001b[39;49;00m \u001b[36mException\u001b[39;49;00m(\u001b[33m'\u001b[39;49;00m\u001b[33mModel has not been loaded properly, no word_dict.\u001b[39;49;00m\u001b[33m'\u001b[39;49;00m)\r\n",
      "    \r\n",
      "    \u001b[37m# TODO: Process input_data so that it is ready to be sent to our model.\u001b[39;49;00m\r\n",
      "    \u001b[37m#       You should produce two variables:\u001b[39;49;00m\r\n",
      "    \u001b[37m#         data_X   - A sequence of length 500 which represents the converted review\u001b[39;49;00m\r\n",
      "    \u001b[37m#         data_len - The length of the review\u001b[39;49;00m\r\n",
      "    \r\n",
      "    data_X = \u001b[36mNone\u001b[39;49;00m\r\n",
      "    data_len = \u001b[36mNone\u001b[39;49;00m\r\n",
      "    input_data_words = review_to_words(input_data)\r\n",
      "    data_X, data_len = convert_and_pad(model.word_dict, input_data_words)\r\n",
      "    \u001b[37m# data_X = pd.concat([pd.DataFrame(test_data_len), pd.DataFrame(test_data)], axis=1)\u001b[39;49;00m\r\n",
      "\r\n",
      "    \u001b[37m# Using data_X and data_len we construct an appropriate input tensor. Remember\u001b[39;49;00m\r\n",
      "    \u001b[37m# that our model expects input data of the form 'len, review[500]'.\u001b[39;49;00m\r\n",
      "    \u001b[37m# data_pack = np.hstack((data_len, data_X))\u001b[39;49;00m\r\n",
      "    data_pack = np.hstack((data_len, data_X))\r\n",
      "    \r\n",
      "    data_pack = data_pack.reshape(\u001b[34m1\u001b[39;49;00m, -\u001b[34m1\u001b[39;49;00m)\r\n",
      "    \r\n",
      "    data = torch.from_numpy(data_pack)\r\n",
      "    data = data.to(device)\r\n",
      "\r\n",
      "    \u001b[37m# Make sure to put the model into evaluation mode\u001b[39;49;00m\r\n",
      "    model.eval()\r\n",
      "\r\n",
      "    \u001b[37m# TODO: Compute the result of applying the model to the input data. The variable `result` should\u001b[39;49;00m\r\n",
      "    \u001b[37m#       be a numpy array which contains a single integer which is either 1 or 0\u001b[39;49;00m\r\n",
      "\r\n",
      "    \u001b[34mwith\u001b[39;49;00m torch.no_grad():\r\n",
      "        output = model.forward(data)\r\n",
      "        \r\n",
      "    result = np.round(output.numpy())\r\n",
      "    \u001b[37m# result = predictor.predict(data.values)\u001b[39;49;00m\r\n",
      "    \u001b[34mprint\u001b[39;49;00m(result)\r\n",
      "\r\n",
      "    \u001b[34mreturn\u001b[39;49;00m result\r\n",
      "\r\n",
      "\u001b[34mdef\u001b[39;49;00m \u001b[32mreview_to_words\u001b[39;49;00m(review):\r\n",
      "    nltk.download(\u001b[33m\"\u001b[39;49;00m\u001b[33mstopwords\u001b[39;49;00m\u001b[33m\"\u001b[39;49;00m, quiet=\u001b[36mTrue\u001b[39;49;00m)\r\n",
      "    stemmer = PorterStemmer()\r\n",
      "    \r\n",
      "    text = BeautifulSoup(review, \u001b[33m\"\u001b[39;49;00m\u001b[33mhtml.parser\u001b[39;49;00m\u001b[33m\"\u001b[39;49;00m).get_text() \u001b[37m# Remove HTML tags\u001b[39;49;00m\r\n",
      "    text = re.sub(\u001b[33mr\u001b[39;49;00m\u001b[33m\"\u001b[39;49;00m\u001b[33m[^a-zA-Z0-9]\u001b[39;49;00m\u001b[33m\"\u001b[39;49;00m, \u001b[33m\"\u001b[39;49;00m\u001b[33m \u001b[39;49;00m\u001b[33m\"\u001b[39;49;00m, text.lower()) \u001b[37m# Convert to lower case\u001b[39;49;00m\r\n",
      "    words = text.split() \u001b[37m# Split string into words\u001b[39;49;00m\r\n",
      "    words = [w \u001b[34mfor\u001b[39;49;00m w \u001b[35min\u001b[39;49;00m words \u001b[34mif\u001b[39;49;00m w \u001b[35mnot\u001b[39;49;00m \u001b[35min\u001b[39;49;00m stopwords.words(\u001b[33m\"\u001b[39;49;00m\u001b[33menglish\u001b[39;49;00m\u001b[33m\"\u001b[39;49;00m)] \u001b[37m# Remove stopwords\u001b[39;49;00m\r\n",
      "    words = [PorterStemmer().stem(w) \u001b[34mfor\u001b[39;49;00m w \u001b[35min\u001b[39;49;00m words] \u001b[37m# stem\u001b[39;49;00m\r\n",
      "    \r\n",
      "    \u001b[34mreturn\u001b[39;49;00m words\r\n",
      "\r\n",
      "\u001b[34mdef\u001b[39;49;00m \u001b[32mconvert_and_pad\u001b[39;49;00m(word_dict, sentence, pad=\u001b[34m500\u001b[39;49;00m):\r\n",
      "    NOWORD = \u001b[34m0\u001b[39;49;00m \u001b[37m# We will use 0 to represent the 'no word' category\u001b[39;49;00m\r\n",
      "    INFREQ = \u001b[34m1\u001b[39;49;00m \u001b[37m# and we use 1 to represent the infrequent words, i.e., words not appearing in word_dict\u001b[39;49;00m\r\n",
      "    \r\n",
      "    working_sentence = [NOWORD] * pad\r\n",
      "    \r\n",
      "    \u001b[34mfor\u001b[39;49;00m word_index, word \u001b[35min\u001b[39;49;00m \u001b[36menumerate\u001b[39;49;00m(sentence[:pad]):\r\n",
      "        \u001b[34mif\u001b[39;49;00m word \u001b[35min\u001b[39;49;00m word_dict:\r\n",
      "            working_sentence[word_index] = word_dict[word]\r\n",
      "        \u001b[34melse\u001b[39;49;00m:\r\n",
      "            working_sentence[word_index] = INFREQ\r\n",
      "            \r\n",
      "    \u001b[34mreturn\u001b[39;49;00m working_sentence, \u001b[36mmin\u001b[39;49;00m(\u001b[36mlen\u001b[39;49;00m(sentence), pad)\r\n",
      "\r\n",
      "\u001b[34mdef\u001b[39;49;00m \u001b[32mconvert_and_pad_data\u001b[39;49;00m(word_dict, data, pad=\u001b[34m500\u001b[39;49;00m):\r\n",
      "    result = []\r\n",
      "    lengths = []\r\n",
      "    \r\n",
      "    \u001b[34mfor\u001b[39;49;00m sentence \u001b[35min\u001b[39;49;00m data:\r\n",
      "        converted, leng = convert_and_pad(word_dict, sentence, pad)\r\n",
      "        result.append(converted)\r\n",
      "        lengths.append(leng)\r\n",
      "        \r\n",
      "    \u001b[34mreturn\u001b[39;49;00m np.array(result), np.array(lengths)\r\n"
     ]
    }
   ],
   "source": [
    "!pygmentize serve/predict.py"
   ]
  },
  {
   "cell_type": "markdown",
   "metadata": {},
   "source": [
    "As mentioned earlier, the `model_fn` method is the same as the one provided in the training code and the `input_fn` and `output_fn` methods are very simple and your task will be to complete the `predict_fn` method. Make sure that you save the completed file as `predict.py` in the `serve` directory.\n",
    "\n",
    "**TODO**: Complete the `predict_fn()` method in the `serve/predict.py` file."
   ]
  },
  {
   "cell_type": "markdown",
   "metadata": {},
   "source": [
    "### Deploying the model\n",
    "\n",
    "Now that the custom inference code has been written, we will create and deploy our model. To begin with, we need to construct a new PyTorchModel object which points to the model artifacts created during training and also points to the inference code that we wish to use. Then we can call the deploy method to launch the deployment container.\n",
    "\n",
    "**NOTE**: The default behaviour for a deployed PyTorch model is to assume that any input passed to the predictor is a `numpy` array. In our case we want to send a string so we need to construct a simple wrapper around the `RealTimePredictor` class to accomodate simple strings. In a more complicated situation you may want to provide a serialization object, for example if you wanted to sent image data."
   ]
  },
  {
   "cell_type": "code",
   "execution_count": 49,
   "metadata": {},
   "outputs": [
    {
     "name": "stdout",
     "output_type": "stream",
     "text": [
      "-------------!"
     ]
    }
   ],
   "source": [
    "from sagemaker.predictor import RealTimePredictor\n",
    "from sagemaker.pytorch import PyTorchModel\n",
    "\n",
    "class StringPredictor(RealTimePredictor):\n",
    "    def __init__(self, endpoint_name, sagemaker_session):\n",
    "        super(StringPredictor, self).__init__(endpoint_name, sagemaker_session, content_type='text/plain')\n",
    "\n",
    "model = PyTorchModel(model_data=estimator.model_data,\n",
    "                     role = role,\n",
    "                     framework_version='0.4.0',\n",
    "                     entry_point='predict.py',\n",
    "                     source_dir='serve',\n",
    "                     predictor_cls=StringPredictor)\n",
    "predictor = model.deploy(initial_instance_count=1, instance_type='ml.m4.xlarge')"
   ]
  },
  {
   "cell_type": "code",
   "execution_count": 50,
   "metadata": {},
   "outputs": [
    {
     "data": {
      "text/plain": [
       "120"
      ]
     },
     "execution_count": 50,
     "metadata": {},
     "output_type": "execute_result"
    }
   ],
   "source": [
    "os.environ.get('MODEL_SERVER_TIMEOUT', 120)"
   ]
  },
  {
   "cell_type": "markdown",
   "metadata": {},
   "source": [
    "### Testing the model\n",
    "\n",
    "Now that we have deployed our model with the custom inference code, we should test to see if everything is working. Here we test our model by loading the first `250` positive and negative reviews and send them to the endpoint, then collect the results. The reason for only sending some of the data is that the amount of time it takes for our model to process the input and then perform inference is quite long and so testing the entire data set would be prohibitive."
   ]
  },
  {
   "cell_type": "code",
   "execution_count": 51,
   "metadata": {},
   "outputs": [],
   "source": [
    "import glob\n",
    "\n",
    "def test_reviews(data_dir='../data/aclImdb', stop=250):\n",
    "    \n",
    "    results = []\n",
    "    ground = []\n",
    "    \n",
    "    # We make sure to test both positive and negative reviews    \n",
    "    for sentiment in ['pos', 'neg']:\n",
    "        \n",
    "        path = os.path.join(data_dir, 'test', sentiment, '*.txt')\n",
    "        files = glob.glob(path)\n",
    "        \n",
    "        files_read = 0\n",
    "        \n",
    "        print('Starting ', sentiment, ' files')\n",
    "        \n",
    "        # Iterate through the files and send them to the predictor\n",
    "        for f in files:\n",
    "            with open(f) as review:\n",
    "                # First, we store the ground truth (was the review positive or negative)\n",
    "                if sentiment == 'pos':\n",
    "                    ground.append(1)\n",
    "                else:\n",
    "                    ground.append(0)\n",
    "                # Read in the review and convert to 'utf-8' for transmission via HTTP\n",
    "                review_input = review.read().encode('utf-8')\n",
    "                # Send the review to the predictor and store the results\n",
    "                result_s = predictor.predict(review_input).decode('UTF-8')\n",
    "                result_s = int(float(result_s))\n",
    "                # review_input = int.from_bytes(review_input, byteorder='big', signed=True)\n",
    "                # print(result_s)\n",
    "                results.append(result_s)\n",
    "                \n",
    "            # Sending reviews to our endpoint one at a time takes a while so we\n",
    "            # only send a small number of reviews\n",
    "            files_read += 1\n",
    "            if files_read == stop:\n",
    "                break\n",
    "            \n",
    "    return ground, results"
   ]
  },
  {
   "cell_type": "code",
   "execution_count": 52,
   "metadata": {},
   "outputs": [
    {
     "name": "stdout",
     "output_type": "stream",
     "text": [
      "Starting  pos  files\n",
      "Starting  neg  files\n"
     ]
    }
   ],
   "source": [
    "ground, results = test_reviews()"
   ]
  },
  {
   "cell_type": "code",
   "execution_count": 53,
   "metadata": {},
   "outputs": [
    {
     "name": "stdout",
     "output_type": "stream",
     "text": [
      "1.0\n"
     ]
    }
   ],
   "source": [
    "out = torch.tensor(0.55)\n",
    "result = np.round(out.item(),0)\n",
    "\n",
    "print(result)"
   ]
  },
  {
   "cell_type": "code",
   "execution_count": 54,
   "metadata": {},
   "outputs": [
    {
     "data": {
      "text/plain": [
       "0.856"
      ]
     },
     "execution_count": 54,
     "metadata": {},
     "output_type": "execute_result"
    }
   ],
   "source": [
    "from sklearn.metrics import accuracy_score\n",
    "accuracy_score(ground, results)"
   ]
  },
  {
   "cell_type": "markdown",
   "metadata": {},
   "source": [
    "As an additional test, we can try sending the `test_review` that we looked at earlier."
   ]
  },
  {
   "cell_type": "code",
   "execution_count": 55,
   "metadata": {},
   "outputs": [
    {
     "data": {
      "text/plain": [
       "'1.0'"
      ]
     },
     "execution_count": 55,
     "metadata": {},
     "output_type": "execute_result"
    }
   ],
   "source": [
    "test_review = 'The simplest pleasures in life are the best, and this film is one of them. Combining a rather basic storyline of love and adventure this movie transcends the usual weekend fair with wit and unmitigated charm.'\n",
    "predictor.predict(test_review).decode('UTF-8')"
   ]
  },
  {
   "cell_type": "markdown",
   "metadata": {},
   "source": [
    "Now that we know our endpoint is working as expected, we can set up the web page that will interact with it. If you don't have time to finish the project now, make sure to skip down to the end of this notebook and shut down your endpoint. You can deploy it again when you come back."
   ]
  },
  {
   "cell_type": "markdown",
   "metadata": {},
   "source": [
    "## Step 7 (again): Use the model for the web app\n",
    "\n",
    "> **TODO:** This entire section and the next contain tasks for you to complete, mostly using the AWS console.\n",
    "\n",
    "So far we have been accessing our model endpoint by constructing a predictor object which uses the endpoint and then just using the predictor object to perform inference. What if we wanted to create a web app which accessed our model? The way things are set up currently makes that not possible since in order to access a SageMaker endpoint the app would first have to authenticate with AWS using an IAM role which included access to SageMaker endpoints. However, there is an easier way! We just need to use some additional AWS services.\n",
    "\n",
    "<img src=\"Web App Diagram.svg\">\n",
    "\n",
    "The diagram above gives an overview of how the various services will work together. On the far right is the model which we trained above and which is deployed using SageMaker. On the far left is our web app that collects a user's movie review, sends it off and expects a positive or negative sentiment in return.\n",
    "\n",
    "In the middle is where some of the magic happens. We will construct a Lambda function, which you can think of as a straightforward Python function that can be executed whenever a specified event occurs. We will give this function permission to send and recieve data from a SageMaker endpoint.\n",
    "\n",
    "Lastly, the method we will use to execute the Lambda function is a new endpoint that we will create using API Gateway. This endpoint will be a url that listens for data to be sent to it. Once it gets some data it will pass that data on to the Lambda function and then return whatever the Lambda function returns. Essentially it will act as an interface that lets our web app communicate with the Lambda function.\n",
    "\n",
    "### Setting up a Lambda function\n",
    "\n",
    "The first thing we are going to do is set up a Lambda function. This Lambda function will be executed whenever our public API has data sent to it. When it is executed it will receive the data, perform any sort of processing that is required, send the data (the review) to the SageMaker endpoint we've created and then return the result.\n",
    "\n",
    "#### Part A: Create an IAM Role for the Lambda function\n",
    "\n",
    "Since we want the Lambda function to call a SageMaker endpoint, we need to make sure that it has permission to do so. To do this, we will construct a role that we can later give the Lambda function.\n",
    "\n",
    "Using the AWS Console, navigate to the **IAM** page and click on **Roles**. Then, click on **Create role**. Make sure that the **AWS service** is the type of trusted entity selected and choose **Lambda** as the service that will use this role, then click **Next: Permissions**.\n",
    "\n",
    "In the search box type `sagemaker` and select the check box next to the **AmazonSageMakerFullAccess** policy. Then, click on **Next: Review**.\n",
    "\n",
    "Lastly, give this role a name. Make sure you use a name that you will remember later on, for example `LambdaSageMakerRole`. Then, click on **Create role**.\n",
    "\n",
    "#### Part B: Create a Lambda function\n",
    "\n",
    "Now it is time to actually create the Lambda function.\n",
    "\n",
    "Using the AWS Console, navigate to the AWS Lambda page and click on **Create a function**. When you get to the next page, make sure that **Author from scratch** is selected. Now, name your Lambda function, using a name that you will remember later on, for example `sentiment_analysis_func`. Make sure that the **Python 3.6** runtime is selected and then choose the role that you created in the previous part. Then, click on **Create Function**.\n",
    "\n",
    "On the next page you will see some information about the Lambda function you've just created. If you scroll down you should see an editor in which you can write the code that will be executed when your Lambda function is triggered. In our example, we will use the code below. \n",
    "\n",
    "**Note:** I changed some code for number convertion\n",
    "\n",
    "```python\n",
    "# We need to use the low-level library to interact with SageMaker since the SageMaker API\n",
    "# is not available natively through Lambda.\n",
    "import json\n",
    "import boto3\n",
    "\n",
    "def lambda_handler(event, context):\n",
    "\n",
    "    # The SageMaker runtime is what allows us to invoke the endpoint that we've created.\n",
    "    runtime = boto3.Session().client('sagemaker-runtime')\n",
    "\n",
    "    # Now we use the SageMaker runtime to invoke our endpoint, sending the review we were given\n",
    "    response = runtime.invoke_endpoint(EndpointName = 'sagemaker-pytorch-2019-02-20-17-49-05-967',    # The name of the endpoint we created\n",
    "                                       ContentType = 'text/plain',                 # The data format that is expected\n",
    "                                       Body = event['body'])                       # The actual review\n",
    "\n",
    "    # The response is an HTTP response whose body contains the result of our inference\n",
    "    result = response['Body'].read().decode('utf-8')\n",
    "    result = int(float(result))\n",
    "\n",
    "    return {\n",
    "        'statusCode' : 200,\n",
    "        'headers' : { 'Content-Type' : 'text/plain', 'Access-Control-Allow-Origin' : '*' },\n",
    "        'body' : result\n",
    "    }\n",
    "```\n",
    "\n",
    "Once you have copy and pasted the code above into the Lambda code editor, replace the `**ENDPOINT NAME HERE**` portion with the name of the endpoint that we deployed earlier. You can determine the name of the endpoint using the code cell below."
   ]
  },
  {
   "cell_type": "code",
   "execution_count": 56,
   "metadata": {},
   "outputs": [
    {
     "data": {
      "text/plain": [
       "'sagemaker-pytorch-2020-03-29-02-09-09-855'"
      ]
     },
     "execution_count": 56,
     "metadata": {},
     "output_type": "execute_result"
    }
   ],
   "source": [
    "predictor.endpoint"
   ]
  },
  {
   "cell_type": "markdown",
   "metadata": {},
   "source": [
    "Once you have added the endpoint name to the Lambda function, click on **Save**. Your Lambda function is now up and running. Next we need to create a way for our web app to execute the Lambda function.\n",
    "\n",
    "### Setting up API Gateway\n",
    "\n",
    "Now that our Lambda function is set up, it is time to create a new API using API Gateway that will trigger the Lambda function we have just created.\n",
    "\n",
    "Using AWS Console, navigate to **Amazon API Gateway** and then click on **Get started**.\n",
    "\n",
    "On the next page, make sure that **New API** is selected and give the new api a name, for example, `sentiment_analysis_api`. Then, click on **Create API**.\n",
    "\n",
    "Now we have created an API, however it doesn't currently do anything. What we want it to do is to trigger the Lambda function that we created earlier.\n",
    "\n",
    "Select the **Actions** dropdown menu and click **Create Method**. A new blank method will be created, select its dropdown menu and select **POST**, then click on the check mark beside it.\n",
    "\n",
    "For the integration point, make sure that **Lambda Function** is selected and click on the **Use Lambda Proxy integration**. This option makes sure that the data that is sent to the API is then sent directly to the Lambda function with no processing. It also means that the return value must be a proper response object as it will also not be processed by API Gateway.\n",
    "\n",
    "Type the name of the Lambda function you created earlier into the **Lambda Function** text entry box and then click on **Save**. Click on **OK** in the pop-up box that then appears, giving permission to API Gateway to invoke the Lambda function you created.\n",
    "\n",
    "The last step in creating the API Gateway is to select the **Actions** dropdown and click on **Deploy API**. You will need to create a new Deployment stage and name it anything you like, for example `prod`.\n",
    "\n",
    "You have now successfully set up a public API to access your SageMaker model. Make sure to copy or write down the URL provided to invoke your newly created public API as this will be needed in the next step. This URL can be found at the top of the page, highlighted in blue next to the text **Invoke URL**."
   ]
  },
  {
   "cell_type": "markdown",
   "metadata": {},
   "source": [
    "## Step 4: Deploying our web app\n",
    "\n",
    "Now that we have a publicly available API, we can start using it in a web app. For our purposes, we have provided a simple static html file which can make use of the public api you created earlier.\n",
    "\n",
    "In the `website` folder there should be a file called `index.html`. Download the file to your computer and open that file up in a text editor of your choice. There should be a line which contains **\\*\\*REPLACE WITH PUBLIC API URL\\*\\***. Replace this string with the url that you wrote down in the last step and then save the file.\n",
    "\n",
    "Now, if you open `index.html` on your local computer, your browser will behave as a local web server and you can use the provided site to interact with your SageMaker model.\n",
    "\n",
    "If you'd like to go further, you can host this html file anywhere you'd like, for example using github or hosting a static site on Amazon's S3. Once you have done this you can share the link with anyone you'd like and have them play with it too!\n",
    "\n",
    "> **Important Note** In order for the web app to communicate with the SageMaker endpoint, the endpoint has to actually be deployed and running. This means that you are paying for it. Make sure that the endpoint is running when you want to use the web app but that you shut it down when you don't need it, otherwise you will end up with a surprisingly large AWS bill.\n",
    "\n",
    "**TODO:** Make sure that you include the edited `index.html` file in your project submission."
   ]
  },
  {
   "cell_type": "markdown",
   "metadata": {},
   "source": [
    "Now that your web app is working, trying playing around with it and see how well it works.\n",
    "\n",
    "**Question**: Give an example of a review that you entered into your web app. What was the predicted sentiment of your example review?"
   ]
  },
  {
   "cell_type": "markdown",
   "metadata": {},
   "source": [
    "**Answer:**\n",
    "\n",
    "I took some reviews in rottentomatoes for \"THE LEGO MOVIE 2\" \n",
    "\n",
    "**Critic**: For shockingly long stretches, this new Lego Movie is more of an ungainly, plodding jumble than a functional film.\n",
    "\n",
    "**result**: Your review was NEGATIVE\n",
    "\n",
    "**Critic:** Like the plastic bricks themselves, these movies are as much fun for adults as for kids\n",
    "\n",
    "**result:** Your review was POSITIVE\n",
    "\n",
    "**Critic:** Not only are things no longer \"awesome,\" they're all the way down to just \"meh.\"\n",
    "\n",
    "**result:** Your review was NEGATIVE\n",
    "\n",
    "**Critic:** Some secret ingredient is missing from this Lego Movie's attempt to recapture the spirit of the original.\n",
    "\n",
    "**result:** Your review was NEGATIVE\n",
    "\n",
    "**Critic:** Emmet is still a sweet, adorably goofy hero who never quite has what it takes, and Banks is brilliant as Lucy, the real brains and brawn of the operation who grows increasingly frustrated with her friend's relentless optimism.\n",
    "\n",
    "**result:** Your review was POSITIVE\n"
   ]
  },
  {
   "cell_type": "markdown",
   "metadata": {},
   "source": [
    "### Delete the endpoint\n",
    "\n",
    "Remember to always shut down your endpoint if you are no longer using it. You are charged for the length of time that the endpoint is running so if you forget and leave it on you could end up with an unexpectedly large bill."
   ]
  },
  {
   "cell_type": "code",
   "execution_count": 57,
   "metadata": {},
   "outputs": [],
   "source": [
    "predictor.delete_endpoint()"
   ]
  },
  {
   "cell_type": "code",
   "execution_count": null,
   "metadata": {},
   "outputs": [],
   "source": []
  }
 ],
 "metadata": {
  "kernelspec": {
   "display_name": "conda_pytorch_p36",
   "language": "python",
   "name": "conda_pytorch_p36"
  },
  "language_info": {
   "codemirror_mode": {
    "name": "ipython",
    "version": 3
   },
   "file_extension": ".py",
   "mimetype": "text/x-python",
   "name": "python",
   "nbconvert_exporter": "python",
   "pygments_lexer": "ipython3",
   "version": "3.6.5"
  }
 },
 "nbformat": 4,
 "nbformat_minor": 2
}
